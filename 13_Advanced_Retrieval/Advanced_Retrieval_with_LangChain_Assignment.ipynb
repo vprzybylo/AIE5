{
  "cells": [
    {
      "cell_type": "markdown",
      "metadata": {
        "id": "e-IqJAMkwnCF"
      },
      "source": [
        "# Advanced Retrieval with LangChain\n",
        "\n",
        "In the following notebook, we'll explore various methods of advanced retrieval using LangChain!\n",
        "\n",
        "We'll touch on:\n",
        "\n",
        "- Naive Retrieval\n",
        "- Best-Matching 25 (BM25)\n",
        "- Multi-Query Retrieval\n",
        "- Parent-Document Retrieval\n",
        "- Contextual Compression (a.k.a. Rerank)\n",
        "- Ensemble Retrieval\n",
        "- Semantic chunking\n",
        "\n",
        "We'll also discuss how these methods impact performance on our set of documents with a simple RAG chain.\n",
        "\n",
        "There will be two breakout rooms:\n",
        "\n",
        "- 🤝 Breakout Room Part #1\n",
        "  - Task 1: Getting Dependencies!\n",
        "  - Task 2: Data Collection and Preparation\n",
        "  - Task 3: Setting Up QDrant!\n",
        "  - Task 4-10: Retrieval Strategies\n",
        "- 🤝 Breakout Room Part #2\n",
        "  - Activity: Evaluate with Ragas"
      ]
    },
    {
      "cell_type": "markdown",
      "metadata": {
        "id": "4rKP3hgHivpe"
      },
      "source": [
        "# 🤝 Breakout Room Part #1"
      ]
    },
    {
      "cell_type": "markdown",
      "metadata": {
        "id": "3xes8oT-xHN7"
      },
      "source": [
        "## Task 1: Getting Dependencies!\n",
        "\n",
        "We're going to need a few specific LangChain community packages, like OpenAI (for our [LLM](https://platform.openai.com/docs/models) and [Embedding Model](https://platform.openai.com/docs/guides/embeddings)) and Cohere (for our [Reranker](https://cohere.com/rerank)).\n",
        "\n",
        "> You do not need to run the following cells if you are running this notebook locally. "
      ]
    },
    {
      "cell_type": "code",
      "execution_count": null,
      "metadata": {
        "colab": {
          "base_uri": "https://localhost:8080/"
        },
        "id": "MkgFAXWVW3wm",
        "outputId": "636db35c-f05a-4038-ec7a-02360bef2dae"
      },
      "outputs": [
        {
          "name": "stdout",
          "output_type": "stream",
          "text": [
            "\u001b[?25l   \u001b[90m━━━━━━━━━━━━━━━━━━━━━━━━━━━━━━━━━━━━━━━━\u001b[0m \u001b[32m0.0/49.6 kB\u001b[0m \u001b[31m?\u001b[0m eta \u001b[36m-:--:--\u001b[0m\r\u001b[2K   \u001b[90m━━━━━━━━━━━━━━━━━━━━━━━━━━━━━━━━━━━━━━━━\u001b[0m \u001b[32m49.6/49.6 kB\u001b[0m \u001b[31m3.2 MB/s\u001b[0m eta \u001b[36m0:00:00\u001b[0m\n",
            "\u001b[?25h\u001b[?25l   \u001b[90m━━━━━━━━━━━━━━━━━━━━━━━━━━━━━━━━━━━━━━━━\u001b[0m \u001b[32m0.0/44.0 kB\u001b[0m \u001b[31m?\u001b[0m eta \u001b[36m-:--:--\u001b[0m\r\u001b[2K   \u001b[90m━━━━━━━━━━━━━━━━━━━━━━━━━━━━━━━━━━━━━━━━\u001b[0m \u001b[32m44.0/44.0 kB\u001b[0m \u001b[31m2.3 MB/s\u001b[0m eta \u001b[36m0:00:00\u001b[0m\n",
            "\u001b[?25h\u001b[?25l   \u001b[90m━━━━━━━━━━━━━━━━━━━━━━━━━━━━━━━━━━━━━━━━\u001b[0m \u001b[32m0.0/233.1 kB\u001b[0m \u001b[31m?\u001b[0m eta \u001b[36m-:--:--\u001b[0m\r\u001b[2K   \u001b[90m━━━━━━━━━━━━━━━━━━━━━━━━━━━━━━━━━━━━━━━━\u001b[0m \u001b[32m233.1/233.1 kB\u001b[0m \u001b[31m8.0 MB/s\u001b[0m eta \u001b[36m0:00:00\u001b[0m\n",
            "\u001b[2K   \u001b[90m━━━━━━━━━━━━━━━━━━━━━━━━━━━━━━━━━━━━━━━━\u001b[0m \u001b[32m378.1/378.1 kB\u001b[0m \u001b[31m15.9 MB/s\u001b[0m eta \u001b[36m0:00:00\u001b[0m\n",
            "\u001b[2K   \u001b[90m━━━━━━━━━━━━━━━━━━━━━━━━━━━━━━━━━━━━━━━━\u001b[0m \u001b[32m1.1/1.1 MB\u001b[0m \u001b[31m37.4 MB/s\u001b[0m eta \u001b[36m0:00:00\u001b[0m\n",
            "\u001b[2K   \u001b[90m━━━━━━━━━━━━━━━━━━━━━━━━━━━━━━━━━━━━━━━━\u001b[0m \u001b[32m139.1/139.1 kB\u001b[0m \u001b[31m8.5 MB/s\u001b[0m eta \u001b[36m0:00:00\u001b[0m\n",
            "\u001b[2K   \u001b[90m━━━━━━━━━━━━━━━━━━━━━━━━━━━━━━━━━━━━━━━━\u001b[0m \u001b[32m3.1/3.1 MB\u001b[0m \u001b[31m58.2 MB/s\u001b[0m eta \u001b[36m0:00:00\u001b[0m\n",
            "\u001b[2K   \u001b[90m━━━━━━━━━━━━━━━━━━━━━━━━━━━━━━━━━━━━━━━━\u001b[0m \u001b[32m318.9/318.9 kB\u001b[0m \u001b[31m16.9 MB/s\u001b[0m eta \u001b[36m0:00:00\u001b[0m\n",
            "\u001b[2K   \u001b[90m━━━━━━━━━━━━━━━━━━━━━━━━━━━━━━━━━━━━━━━━\u001b[0m \u001b[32m12.6/12.6 MB\u001b[0m \u001b[31m63.4 MB/s\u001b[0m eta \u001b[36m0:00:00\u001b[0m\n",
            "\u001b[2K   \u001b[90m━━━━━━━━━━━━━━━━━━━━━━━━━━━━━━━━━━━━━━━━\u001b[0m \u001b[32m82.7/82.7 kB\u001b[0m \u001b[31m5.2 MB/s\u001b[0m eta \u001b[36m0:00:00\u001b[0m\n",
            "\u001b[?25h"
          ]
        }
      ],
      "source": [
        "#!pip install -qU langchain langchain-openai langchain-cohere rank_bm25"
      ]
    },
    {
      "cell_type": "markdown",
      "metadata": {
        "id": "dKqYM4Eoxcov"
      },
      "source": [
        "We're also going to be leveraging [Qdrant's](https://qdrant.tech/documentation/frameworks/langchain/) (pronounced \"Quadrant\") VectorDB in \"memory\" mode (so we can leverage it locally in our colab environment)."
      ]
    },
    {
      "cell_type": "code",
      "execution_count": null,
      "metadata": {
        "id": "s6xav5CxYnML"
      },
      "outputs": [],
      "source": [
        "#!pip install -qU qdrant-client"
      ]
    },
    {
      "cell_type": "markdown",
      "metadata": {
        "id": "Z7OHJXzfyJyA"
      },
      "source": [
        "We'll also provide our OpenAI key, as well as our Cohere API key."
      ]
    },
    {
      "cell_type": "code",
      "execution_count": 2,
      "metadata": {
        "colab": {
          "base_uri": "https://localhost:8080/"
        },
        "id": "7LttlDQUYgSI",
        "outputId": "9dca95ab-4d02-4adf-ec3f-cb831326dc54"
      },
      "outputs": [],
      "source": [
        "import os\n",
        "import getpass\n",
        "os.environ[\"OPENAI_API_KEY\"] = getpass.getpass(\"Enter your OpenAI API Key:\")"
      ]
    },
    {
      "cell_type": "code",
      "execution_count": 3,
      "metadata": {
        "colab": {
          "base_uri": "https://localhost:8080/"
        },
        "id": "3iUahNiJyQbv",
        "outputId": "78bf06ef-2ee8-46c3-f73d-27958b4dd79b"
      },
      "outputs": [],
      "source": [
        "os.environ[\"COHERE_API_KEY\"] = getpass.getpass(\"Cohere API Key:\")"
      ]
    },
    {
      "cell_type": "markdown",
      "metadata": {
        "id": "B0pDRFEWSXvh"
      },
      "source": []
    },
    {
      "cell_type": "markdown",
      "metadata": {
        "id": "mw304iAFyRtl"
      },
      "source": [
        "## Task 2: Data Collection and Preparation\n",
        "\n",
        "We'll be using some reviews from the 4 movies in the John Wick franchise today to explore the different retrieval strategies.\n",
        "\n",
        "These were obtained from IMDB, and are available in the [AIM Data Repository](https://github.com/AI-Maker-Space/DataRepository)."
      ]
    },
    {
      "cell_type": "markdown",
      "metadata": {
        "id": "xXKHcZmKzDwT"
      },
      "source": [
        "### Data Collection\n",
        "\n",
        "We can simply `wget` these from GitHub.\n",
        "\n",
        "You could use any review data you wanted in this step - just be careful to make sure your metadata is aligned with your choice."
      ]
    },
    {
      "cell_type": "code",
      "execution_count": 4,
      "metadata": {
        "colab": {
          "base_uri": "https://localhost:8080/"
        },
        "id": "vbbSIGtzX3dS",
        "outputId": "0ce6514e-2479-4001-af24-824f987ce599"
      },
      "outputs": [
        {
          "name": "stdout",
          "output_type": "stream",
          "text": [
            "dyld[98780]: Library not loaded: /usr/local/opt/libunistring/lib/libunistring.2.dylib\n",
            "  Referenced from: <5BA9D142-2989-39F6-8E78-97F4C6F1F2C2> /usr/local/Cellar/wget/1.21.1/bin/wget\n",
            "  Reason: tried: '/usr/local/opt/libunistring/lib/libunistring.2.dylib' (no such file), '/System/Volumes/Preboot/Cryptexes/OS/usr/local/opt/libunistring/lib/libunistring.2.dylib' (no such file), '/usr/local/opt/libunistring/lib/libunistring.2.dylib' (no such file), '/usr/local/lib/libunistring.2.dylib' (no such file), '/usr/lib/libunistring.2.dylib' (no such file, not in dyld cache), '/usr/local/Cellar/libunistring/1.2/lib/libunistring.2.dylib' (no such file), '/System/Volumes/Preboot/Cryptexes/OS/usr/local/Cellar/libunistring/1.2/lib/libunistring.2.dylib' (no such file), '/usr/local/Cellar/libunistring/1.2/lib/libunistring.2.dylib' (no such file), '/usr/local/lib/libunistring.2.dylib' (no such file), '/usr/lib/libunistring.2.dylib' (no such file, not in dyld cache)\n",
            "dyld[98783]: Library not loaded: /usr/local/opt/libunistring/lib/libunistring.2.dylib\n",
            "  Referenced from: <5BA9D142-2989-39F6-8E78-97F4C6F1F2C2> /usr/local/Cellar/wget/1.21.1/bin/wget\n",
            "  Reason: tried: '/usr/local/opt/libunistring/lib/libunistring.2.dylib' (no such file), '/System/Volumes/Preboot/Cryptexes/OS/usr/local/opt/libunistring/lib/libunistring.2.dylib' (no such file), '/usr/local/opt/libunistring/lib/libunistring.2.dylib' (no such file), '/usr/local/lib/libunistring.2.dylib' (no such file), '/usr/lib/libunistring.2.dylib' (no such file, not in dyld cache), '/usr/local/Cellar/libunistring/1.2/lib/libunistring.2.dylib' (no such file), '/System/Volumes/Preboot/Cryptexes/OS/usr/local/Cellar/libunistring/1.2/lib/libunistring.2.dylib' (no such file), '/usr/local/Cellar/libunistring/1.2/lib/libunistring.2.dylib' (no such file), '/usr/local/lib/libunistring.2.dylib' (no such file), '/usr/lib/libunistring.2.dylib' (no such file, not in dyld cache)\n",
            "dyld[98797]: Library not loaded: /usr/local/opt/libunistring/lib/libunistring.2.dylib\n",
            "  Referenced from: <5BA9D142-2989-39F6-8E78-97F4C6F1F2C2> /usr/local/Cellar/wget/1.21.1/bin/wget\n",
            "  Reason: tried: '/usr/local/opt/libunistring/lib/libunistring.2.dylib' (no such file), '/System/Volumes/Preboot/Cryptexes/OS/usr/local/opt/libunistring/lib/libunistring.2.dylib' (no such file), '/usr/local/opt/libunistring/lib/libunistring.2.dylib' (no such file), '/usr/local/lib/libunistring.2.dylib' (no such file), '/usr/lib/libunistring.2.dylib' (no such file, not in dyld cache), '/usr/local/Cellar/libunistring/1.2/lib/libunistring.2.dylib' (no such file), '/System/Volumes/Preboot/Cryptexes/OS/usr/local/Cellar/libunistring/1.2/lib/libunistring.2.dylib' (no such file), '/usr/local/Cellar/libunistring/1.2/lib/libunistring.2.dylib' (no such file), '/usr/local/lib/libunistring.2.dylib' (no such file), '/usr/lib/libunistring.2.dylib' (no such file, not in dyld cache)\n",
            "dyld[98798]: Library not loaded: /usr/local/opt/libunistring/lib/libunistring.2.dylib\n",
            "  Referenced from: <5BA9D142-2989-39F6-8E78-97F4C6F1F2C2> /usr/local/Cellar/wget/1.21.1/bin/wget\n",
            "  Reason: tried: '/usr/local/opt/libunistring/lib/libunistring.2.dylib' (no such file), '/System/Volumes/Preboot/Cryptexes/OS/usr/local/opt/libunistring/lib/libunistring.2.dylib' (no such file), '/usr/local/opt/libunistring/lib/libunistring.2.dylib' (no such file), '/usr/local/lib/libunistring.2.dylib' (no such file), '/usr/lib/libunistring.2.dylib' (no such file, not in dyld cache), '/usr/local/Cellar/libunistring/1.2/lib/libunistring.2.dylib' (no such file), '/System/Volumes/Preboot/Cryptexes/OS/usr/local/Cellar/libunistring/1.2/lib/libunistring.2.dylib' (no such file), '/usr/local/Cellar/libunistring/1.2/lib/libunistring.2.dylib' (no such file), '/usr/local/lib/libunistring.2.dylib' (no such file), '/usr/lib/libunistring.2.dylib' (no such file, not in dyld cache)\n"
          ]
        }
      ],
      "source": [
        "!wget https://raw.githubusercontent.com/AI-Maker-Space/DataRepository/main/jw1.csv -O john_wick_1.csv\n",
        "!wget https://raw.githubusercontent.com/AI-Maker-Space/DataRepository/main/jw2.csv -O john_wick_2.csv\n",
        "!wget https://raw.githubusercontent.com/AI-Maker-Space/DataRepository/main/jw3.csv -O john_wick_3.csv\n",
        "!wget https://raw.githubusercontent.com/AI-Maker-Space/DataRepository/main/jw4.csv -O john_wick_4.csv"
      ]
    },
    {
      "cell_type": "markdown",
      "metadata": {
        "id": "A92NC2QZzCsi"
      },
      "source": [
        "### Data Preparation\n",
        "\n",
        "We want to make sure all our documents have the relevant metadata for the various retrieval strategies we're going to be applying today.\n",
        "\n",
        "- Self-Query: Wants as much metadata as we can provide\n",
        "- Time-weighted: Wants temporal data\n",
        "\n",
        "> NOTE: While we're creating a temporal relationship based on when these movies came out for illustrative purposes, it needs to be clear that the \"time-weighting\" in the Time-weighted Retriever is based on when the document was *accessed* last - not when it was created."
      ]
    },
    {
      "cell_type": "code",
      "execution_count": 6,
      "metadata": {
        "id": "GshBjVRJZ6p8"
      },
      "outputs": [],
      "source": [
        "from langchain_community.document_loaders.csv_loader import CSVLoader\n",
        "from datetime import datetime, timedelta\n",
        "\n",
        "documents = []\n",
        "\n",
        "for i in range(1, 5):\n",
        "  loader = CSVLoader(\n",
        "      file_path=f\"john_wick_{i}.csv\",\n",
        "      metadata_columns=[\"Review_Date\", \"Review_Title\", \"Review_Url\", \"Author\", \"Rating\"]\n",
        "  )\n",
        "\n",
        "  movie_docs = loader.load()\n",
        "  for doc in movie_docs:\n",
        "\n",
        "    # Add the \"Movie Title\" (John Wick 1, 2, ...)\n",
        "    doc.metadata[\"Movie_Title\"] = f\"John Wick {i}\"\n",
        "\n",
        "    # convert \"Rating\" to an `int`, if no rating is provided - assume 0 rating\n",
        "    doc.metadata[\"Rating\"] = int(doc.metadata[\"Rating\"]) if doc.metadata[\"Rating\"] else 0\n",
        "\n",
        "    # newer movies have a more recent \"last_accessed_at\"\n",
        "    doc.metadata[\"last_accessed_at\"] = datetime.now() - timedelta(days=4-i)\n",
        "\n",
        "  documents.extend(movie_docs)"
      ]
    },
    {
      "cell_type": "markdown",
      "metadata": {
        "id": "9gQphb6y0C0S"
      },
      "source": [
        "Let's look at an example document to see if everything worked as expected!"
      ]
    },
    {
      "cell_type": "code",
      "execution_count": 7,
      "metadata": {
        "colab": {
          "base_uri": "https://localhost:8080/"
        },
        "id": "PkUkCf7DaMiq",
        "outputId": "e90bd5da-1d87-423b-838a-cb6efc16b199"
      },
      "outputs": [
        {
          "data": {
            "text/plain": [
              "Document(metadata={'source': 'john_wick_1.csv', 'row': 0, 'Review_Date': '6 May 2015', 'Review_Title': ' Kinetic, concise, and stylish; John Wick kicks ass.\\n', 'Review_Url': '/review/rw3233896/?ref_=tt_urv', 'Author': 'lnvicta', 'Rating': 8, 'Movie_Title': 'John Wick 1', 'last_accessed_at': datetime.datetime(2025, 2, 27, 11, 31, 19, 224725)}, page_content=\": 0\\nReview: The best way I can describe John Wick is to picture Taken but instead of Liam Neeson it's Keanu Reeves and instead of his daughter it's his dog. That's essentially the plot of the movie. John Wick (Reeves) is out to seek revenge on the people who took something he loved from him. It's a beautifully simple premise for an action movie - when action movies get convoluted, they get bad i.e. A Good Day to Die Hard. John Wick gives the viewers what they want: Awesome action, stylish stunts, kinetic chaos, and a relatable hero to tie it all together. John Wick succeeds in its simplicity.\")"
            ]
          },
          "execution_count": 7,
          "metadata": {},
          "output_type": "execute_result"
        }
      ],
      "source": [
        "documents[0]"
      ]
    },
    {
      "cell_type": "markdown",
      "metadata": {
        "id": "lWaQpdHl0Gzc"
      },
      "source": [
        "## Task 3: Setting up QDrant!\n",
        "\n",
        "Now that we have our documents, let's create a QDrant VectorStore with the collection name \"JohnWick\".\n",
        "\n",
        "We'll leverage OpenAI's [`text-embedding-3-small`](https://openai.com/blog/new-embedding-models-and-api-updates) because it's a very powerful (and low-cost) embedding model.\n",
        "\n",
        "> NOTE: We'll be creating additional vectorstores where necessary, but this pattern is still extremely useful."
      ]
    },
    {
      "cell_type": "code",
      "execution_count": 8,
      "metadata": {
        "id": "NT8ihRJbYmMT"
      },
      "outputs": [],
      "source": [
        "from langchain_community.vectorstores import Qdrant\n",
        "from langchain_openai import OpenAIEmbeddings\n",
        "\n",
        "embeddings = OpenAIEmbeddings(model=\"text-embedding-3-small\")\n",
        "\n",
        "vectorstore = Qdrant.from_documents(\n",
        "    documents,\n",
        "    embeddings,\n",
        "    location=\":memory:\",\n",
        "    collection_name=\"JohnWick\"\n",
        ")"
      ]
    },
    {
      "cell_type": "markdown",
      "metadata": {
        "id": "-x2SS4Rh0hiN"
      },
      "source": [
        "## Task 4: Naive RAG Chain\n",
        "\n",
        "Since we're focusing on the \"R\" in RAG today - we'll create our Retriever first."
      ]
    },
    {
      "cell_type": "markdown",
      "metadata": {
        "id": "NEH7X5Ai08FH"
      },
      "source": [
        "### R - Retrieval\n",
        "\n",
        "This naive retriever will simply look at each review as a document, and use cosine-similarity to fetch the 10 most relevant documents.\n",
        "\n",
        "> NOTE: We're choosing `10` as our `k` here to provide enough documents for our reranking process later"
      ]
    },
    {
      "cell_type": "code",
      "execution_count": 9,
      "metadata": {
        "id": "GFDPrNBtb72o"
      },
      "outputs": [],
      "source": [
        "naive_retriever = vectorstore.as_retriever(search_kwargs={\"k\" : 10})"
      ]
    },
    {
      "cell_type": "markdown",
      "metadata": {
        "id": "MbBhyQjz06dx"
      },
      "source": [
        "### A - Augmented\n",
        "\n",
        "We're going to go with a standard prompt for our simple RAG chain today! Nothing fancy here, we want this to mostly be about the Retrieval process."
      ]
    },
    {
      "cell_type": "code",
      "execution_count": 10,
      "metadata": {
        "id": "7uSz-Dbqcoki"
      },
      "outputs": [],
      "source": [
        "from langchain_core.prompts import ChatPromptTemplate\n",
        "\n",
        "RAG_TEMPLATE = \"\"\"\\\n",
        "You are a helpful and kind assistant. Use the context provided below to answer the question.\n",
        "\n",
        "If you do not know the answer, or are unsure, say you don't know.\n",
        "\n",
        "Query:\n",
        "{question}\n",
        "\n",
        "Context:\n",
        "{context}\n",
        "\"\"\"\n",
        "\n",
        "rag_prompt = ChatPromptTemplate.from_template(RAG_TEMPLATE)"
      ]
    },
    {
      "cell_type": "markdown",
      "metadata": {
        "id": "BlRzpb231GGJ"
      },
      "source": [
        "### G - Generation\n",
        "\n",
        "We're going to leverage `gpt-3.5-turbo` as our LLM today, as - again - we want this to largely be about the Retrieval process."
      ]
    },
    {
      "cell_type": "code",
      "execution_count": 11,
      "metadata": {
        "id": "c-1t9H60dJLg"
      },
      "outputs": [],
      "source": [
        "from langchain_openai import ChatOpenAI\n",
        "\n",
        "chat_model = ChatOpenAI()"
      ]
    },
    {
      "cell_type": "markdown",
      "metadata": {
        "id": "mg3QRGzA1M2x"
      },
      "source": [
        "### LCEL RAG Chain\n",
        "\n",
        "We're going to use LCEL to construct our chain.\n",
        "\n",
        "> NOTE: This chain will be exactly the same across the various examples with the exception of our Retriever!"
      ]
    },
    {
      "cell_type": "code",
      "execution_count": 12,
      "metadata": {
        "id": "0bvstS7mdOW3"
      },
      "outputs": [],
      "source": [
        "from langchain_core.runnables import RunnablePassthrough\n",
        "from operator import itemgetter\n",
        "from langchain_core.output_parsers import StrOutputParser\n",
        "\n",
        "naive_retrieval_chain = (\n",
        "    # INVOKE CHAIN WITH: {\"question\" : \"<<SOME USER QUESTION>>\"}\n",
        "    # \"question\" : populated by getting the value of the \"question\" key\n",
        "    # \"context\"  : populated by getting the value of the \"question\" key and chaining it into the base_retriever\n",
        "    {\"context\": itemgetter(\"question\") | naive_retriever, \"question\": itemgetter(\"question\")}\n",
        "    # \"context\"  : is assigned to a RunnablePassthrough object (will not be called or considered in the next step)\n",
        "    #              by getting the value of the \"context\" key from the previous step\n",
        "    | RunnablePassthrough.assign(context=itemgetter(\"context\"))\n",
        "    # \"response\" : the \"context\" and \"question\" values are used to format our prompt object and then piped\n",
        "    #              into the LLM and stored in a key called \"response\"\n",
        "    # \"context\"  : populated by getting the value of the \"context\" key from the previous step\n",
        "    | {\"response\": rag_prompt | chat_model, \"context\": itemgetter(\"context\")}\n",
        ")"
      ]
    },
    {
      "cell_type": "markdown",
      "metadata": {
        "id": "izKujhNb1ZG8"
      },
      "source": [
        "Let's see how this simple chain does on a few different prompts.\n",
        "\n",
        "> NOTE: You might think that we've cherry picked prompts that showcase the individual skill of each of the retrieval strategies - you'd be correct!"
      ]
    },
    {
      "cell_type": "code",
      "execution_count": 13,
      "metadata": {
        "colab": {
          "base_uri": "https://localhost:8080/",
          "height": 36
        },
        "id": "LI-5ueEddku9",
        "outputId": "7f3cec18-5f4e-41bb-cf71-51ba0be5388e"
      },
      "outputs": [
        {
          "data": {
            "text/plain": [
              "\"Yes, people generally liked John Wick. The reviews praised its action sequences, Keanu Reeves' performance, and the overall entertainment value of the film.\""
            ]
          },
          "execution_count": 13,
          "metadata": {},
          "output_type": "execute_result"
        }
      ],
      "source": [
        "naive_retrieval_chain.invoke({\"question\" : \"Did people generally like John Wick?\"})[\"response\"].content"
      ]
    },
    {
      "cell_type": "code",
      "execution_count": 14,
      "metadata": {
        "colab": {
          "base_uri": "https://localhost:8080/",
          "height": 36
        },
        "id": "43zdcdUydtXh",
        "outputId": "db874e67-f568-4ed1-b863-b7c17b387052"
      },
      "outputs": [
        {
          "data": {
            "text/plain": [
              "'Yes, there is a review with a rating of 10. Here is the URL to that review:\\n\\n- Review Title: \"A Masterpiece & Brilliant Sequel\"\\n- URL: \\'/review/rw4854296/?ref_=tt_urv\\''"
            ]
          },
          "execution_count": 14,
          "metadata": {},
          "output_type": "execute_result"
        }
      ],
      "source": [
        "naive_retrieval_chain.invoke({\"question\" : \"Do any reviews have a rating of 10? If so - can I have the URLs to those reviews?\"})[\"response\"].content"
      ]
    },
    {
      "cell_type": "code",
      "execution_count": 15,
      "metadata": {
        "colab": {
          "base_uri": "https://localhost:8080/",
          "height": 70
        },
        "id": "lpG6rlvvvKFq",
        "outputId": "a1b330b0-628e-41be-d829-9c1d55e781f5"
      },
      "outputs": [
        {
          "data": {
            "text/plain": [
              "'John Wick is about an ex-hitman who comes out of retirement seeking vengeance on the gangsters that killed his dog and took everything from him. He gets dragged into a situation where he must unleash a maelstrom of destruction against those who are after him, leading to intense action and fights.'"
            ]
          },
          "execution_count": 15,
          "metadata": {},
          "output_type": "execute_result"
        }
      ],
      "source": [
        "naive_retrieval_chain.invoke({\"question\" : \"What happened in John Wick?\"})[\"response\"].content"
      ]
    },
    {
      "cell_type": "markdown",
      "metadata": {
        "id": "jsbfQmbr1leg"
      },
      "source": [
        "Overall, this is not bad! Let's see if we can make it better!"
      ]
    },
    {
      "cell_type": "markdown",
      "metadata": {
        "id": "Ft1vt8HPR16w"
      },
      "source": [
        "## Task 5: Best-Matching 25 (BM25) Retriever\n",
        "\n",
        "Taking a step back in time - [BM25](https://www.nowpublishers.com/article/Details/INR-019) is based on [Bag-Of-Words](https://en.wikipedia.org/wiki/Bag-of-words_model) which is a sparse representation of text.\n",
        "\n",
        "In essence, it's a way to compare how similar two pieces of text are based on the words they both contain.\n",
        "\n",
        "This retriever is very straightforward to set-up! Let's see it happen down below!\n"
      ]
    },
    {
      "cell_type": "code",
      "execution_count": 16,
      "metadata": {
        "id": "qdF4wuj5R-cG"
      },
      "outputs": [],
      "source": [
        "from langchain_community.retrievers import BM25Retriever\n",
        "\n",
        "bm25_retriever = BM25Retriever.from_documents(documents)"
      ]
    },
    {
      "cell_type": "markdown",
      "metadata": {
        "id": "KIjJlBQ8drKH"
      },
      "source": [
        "We'll construct the same chain - only changing the retriever."
      ]
    },
    {
      "cell_type": "code",
      "execution_count": 17,
      "metadata": {
        "id": "WR15EQG7SLuw"
      },
      "outputs": [],
      "source": [
        "bm25_retrieval_chain = (\n",
        "    {\"context\": itemgetter(\"question\") | bm25_retriever, \"question\": itemgetter(\"question\")}\n",
        "    | RunnablePassthrough.assign(context=itemgetter(\"context\"))\n",
        "    | {\"response\": rag_prompt | chat_model, \"context\": itemgetter(\"context\")}\n",
        ")"
      ]
    },
    {
      "cell_type": "markdown",
      "metadata": {
        "id": "0Gi-yXCDdvJk"
      },
      "source": [
        "Let's look at the responses!"
      ]
    },
    {
      "cell_type": "code",
      "execution_count": 18,
      "metadata": {
        "colab": {
          "base_uri": "https://localhost:8080/",
          "height": 53
        },
        "id": "oY9qzmm3SOrF",
        "outputId": "4d4f450f-5978-460f-f242-b32407868353"
      },
      "outputs": [
        {
          "data": {
            "text/plain": [
              "\"Opinions on John Wick seem to vary. Some people really enjoyed the movie, praising its action sequences, style, and Keanu Reeves' performance. However, others found it lacking in plot and substance. It ultimately depends on personal preference whether people liked John Wick or not.\""
            ]
          },
          "execution_count": 18,
          "metadata": {},
          "output_type": "execute_result"
        }
      ],
      "source": [
        "bm25_retrieval_chain.invoke({\"question\" : \"Did people generally like John Wick?\"})[\"response\"].content"
      ]
    },
    {
      "cell_type": "code",
      "execution_count": 19,
      "metadata": {
        "colab": {
          "base_uri": "https://localhost:8080/",
          "height": 36
        },
        "id": "igfinyneSQkh",
        "outputId": "9752d4a9-dd16-45b1-f63f-a76e93a05eb3"
      },
      "outputs": [
        {
          "data": {
            "text/plain": [
              "'I do not have any reviews with a rating of 10 in the provided context.'"
            ]
          },
          "execution_count": 19,
          "metadata": {},
          "output_type": "execute_result"
        }
      ],
      "source": [
        "bm25_retrieval_chain.invoke({\"question\" : \"Do any reviews have a rating of 10? If so - can I have the URLs to those reviews?\"})[\"response\"].content"
      ]
    },
    {
      "cell_type": "code",
      "execution_count": null,
      "metadata": {
        "colab": {
          "base_uri": "https://localhost:8080/",
          "height": 53
        },
        "id": "w0H7pV_USSMQ",
        "outputId": "bdead654-3109-4143-9a30-e1d6ca8dc534"
      },
      "outputs": [
        {
          "data": {
            "text/plain": [
              "'John Wick is a movie known for its beautifully choreographed action scenes and emotional setup. It stars Keanu Reeves and is highly recommended for action movie fans.'"
            ]
          },
          "execution_count": 19,
          "metadata": {},
          "output_type": "execute_result"
        }
      ],
      "source": [
        "bm25_retrieval_chain.invoke({\"question\" : \"What happened in John Wick?\"})[\"response\"].content"
      ]
    },
    {
      "cell_type": "markdown",
      "metadata": {
        "id": "zvg5xHaUdxCl"
      },
      "source": [
        "It's not clear that this is better or worse - but the `I don't know` isn't great!"
      ]
    },
    {
      "cell_type": "markdown",
      "metadata": {
        "id": "Q-dcbFn2vpZF"
      },
      "source": [
        "## Task 6: Contextual Compression (Using Reranking)\n",
        "\n",
        "Contextual Compression is a fairly straightforward idea: We want to \"compress\" our retrieved context into just the most useful bits.\n",
        "\n",
        "There are a few ways we can achieve this - but we're going to look at a specific example called reranking.\n",
        "\n",
        "The basic idea here is this:\n",
        "\n",
        "- We retrieve lots of documents that are very likely related to our query vector\n",
        "- We \"compress\" those documents into a smaller set of *more* related documents using a reranking algorithm.\n",
        "\n",
        "We'll be leveraging Cohere's Rerank model for our reranker today!\n",
        "\n",
        "All we need to do is the following:\n",
        "\n",
        "- Create a basic retriever\n",
        "- Create a compressor (reranker, in this case)\n",
        "\n",
        "That's it!\n",
        "\n",
        "Let's see it in the code below!"
      ]
    },
    {
      "cell_type": "code",
      "execution_count": 20,
      "metadata": {
        "id": "psHvO2K1v_ZQ"
      },
      "outputs": [],
      "source": [
        "from langchain.retrievers.contextual_compression import ContextualCompressionRetriever\n",
        "from langchain_cohere import CohereRerank\n",
        "\n",
        "compressor = CohereRerank(model=\"rerank-english-v3.0\")\n",
        "compression_retriever = ContextualCompressionRetriever(\n",
        "    base_compressor=compressor, base_retriever=naive_retriever\n",
        ")"
      ]
    },
    {
      "cell_type": "markdown",
      "metadata": {
        "id": "_TA9RB2x-j7P"
      },
      "source": [
        "Let's create our chain again, and see how this does!"
      ]
    },
    {
      "cell_type": "code",
      "execution_count": 21,
      "metadata": {
        "id": "1BXqmxvHwX6T"
      },
      "outputs": [],
      "source": [
        "contextual_compression_retrieval_chain = (\n",
        "    {\"context\": itemgetter(\"question\") | compression_retriever, \"question\": itemgetter(\"question\")}\n",
        "    | RunnablePassthrough.assign(context=itemgetter(\"context\"))\n",
        "    | {\"response\": rag_prompt | chat_model, \"context\": itemgetter(\"context\")}\n",
        ")"
      ]
    },
    {
      "cell_type": "code",
      "execution_count": 22,
      "metadata": {
        "colab": {
          "base_uri": "https://localhost:8080/",
          "height": 36
        },
        "id": "V3iGpokswcBb",
        "outputId": "f15d2aa1-5e8b-417d-f623-eb835d072e59"
      },
      "outputs": [
        {
          "data": {
            "text/plain": [
              "\"Based on the reviews provided, it seems like people generally really liked John Wick. The reviews praise the film for its slickness, brilliance in action sequences, Keanu Reeves' performance, and overall entertainment value.\""
            ]
          },
          "execution_count": 22,
          "metadata": {},
          "output_type": "execute_result"
        }
      ],
      "source": [
        "contextual_compression_retrieval_chain.invoke({\"question\" : \"Did people generally like John Wick?\"})[\"response\"].content"
      ]
    },
    {
      "cell_type": "code",
      "execution_count": 23,
      "metadata": {
        "colab": {
          "base_uri": "https://localhost:8080/",
          "height": 53
        },
        "id": "7u_k0i4OweUd",
        "outputId": "be5fccc8-2352-4189-c524-bbeaa28cf799"
      },
      "outputs": [
        {
          "data": {
            "text/plain": [
              "'Yes, there is a review with a rating of 10. Here is the URL to that review:\\n- Review URL: /review/rw4854296/?ref_=tt_urv'"
            ]
          },
          "execution_count": 23,
          "metadata": {},
          "output_type": "execute_result"
        }
      ],
      "source": [
        "contextual_compression_retrieval_chain.invoke({\"question\" : \"Do any reviews have a rating of 10? If so - can I have the URLs to those reviews?\"})[\"response\"].content"
      ]
    },
    {
      "cell_type": "code",
      "execution_count": 27,
      "metadata": {
        "colab": {
          "base_uri": "https://localhost:8080/",
          "height": 70
        },
        "id": "zn1EqaGqweXN",
        "outputId": "42bc5972-4164-46eb-f49d-4272f39bb89b"
      },
      "outputs": [
        {
          "data": {
            "application/vnd.google.colaboratory.intrinsic+json": {
              "type": "string"
            },
            "text/plain": [
              "\"In John Wick, after resolving his issues with the Russian mafia, John Wick is forced back into action when mobster Santino D'Antonio asks him to kill his sister in Rome. When Wick completes the task, Santino puts a bounty on him, leading to professional killers coming after him. Wick then seeks revenge on Santino.\""
            ]
          },
          "execution_count": 27,
          "metadata": {},
          "output_type": "execute_result"
        }
      ],
      "source": [
        "contextual_compression_retrieval_chain.invoke({\"question\" : \"What happened in John Wick?\"})[\"response\"].content"
      ]
    },
    {
      "cell_type": "markdown",
      "metadata": {
        "id": "OEbT0g2S-mZ4"
      },
      "source": [
        "We'll need to rely on something like Ragas to help us get a better sense of how this is performing overall - but it \"feels\" better!"
      ]
    },
    {
      "cell_type": "markdown",
      "metadata": {
        "id": "qqbghrBEQNn5"
      },
      "source": [
        "## Task 7: Multi-Query Retriever\n",
        "\n",
        "Typically in RAG we have a single query - the one provided by the user.\n",
        "\n",
        "What if we had....more than one query!\n",
        "\n",
        "In essence, a Multi-Query Retriever works by:\n",
        "\n",
        "1. Taking the original user query and creating `n` number of new user queries using an LLM.\n",
        "2. Retrieving documents for each query.\n",
        "3. Using all unique retrieved documents as context\n",
        "\n",
        "So, how is it to set-up? Not bad! Let's see it down below!\n",
        "\n"
      ]
    },
    {
      "cell_type": "code",
      "execution_count": 22,
      "metadata": {
        "id": "pfM26ReXQjzU"
      },
      "outputs": [],
      "source": [
        "from langchain.retrievers.multi_query import MultiQueryRetriever\n",
        "\n",
        "multi_query_retriever = MultiQueryRetriever.from_llm(\n",
        "    retriever=naive_retriever, llm=chat_model\n",
        ")"
      ]
    },
    {
      "cell_type": "code",
      "execution_count": 23,
      "metadata": {
        "id": "1vRc129jQ5WW"
      },
      "outputs": [],
      "source": [
        "multi_query_retrieval_chain = (\n",
        "    {\"context\": itemgetter(\"question\") | multi_query_retriever, \"question\": itemgetter(\"question\")}\n",
        "    | RunnablePassthrough.assign(context=itemgetter(\"context\"))\n",
        "    | {\"response\": rag_prompt | chat_model, \"context\": itemgetter(\"context\")}\n",
        ")"
      ]
    },
    {
      "cell_type": "code",
      "execution_count": 25,
      "metadata": {
        "colab": {
          "base_uri": "https://localhost:8080/",
          "height": 53
        },
        "id": "CGgNuOb3Q3M9",
        "outputId": "c5273ecf-da35-40b8-fbdb-0f8beab425f7"
      },
      "outputs": [
        {
          "data": {
            "text/plain": [
              "'Based on the reviews provided, people generally liked John Wick. The reviews praise the action sequences, the performance of Keanu Reeves, and the overall entertainment value of the movie.'"
            ]
          },
          "execution_count": 25,
          "metadata": {},
          "output_type": "execute_result"
        }
      ],
      "source": [
        "multi_query_retrieval_chain.invoke({\"question\" : \"Did people generally like John Wick?\"})[\"response\"].content"
      ]
    },
    {
      "cell_type": "code",
      "execution_count": 27,
      "metadata": {
        "colab": {
          "base_uri": "https://localhost:8080/",
          "height": 36
        },
        "id": "aAlSthxrRDBC",
        "outputId": "230ff807-23ae-4d25-8d11-cfdbed0b77cb"
      },
      "outputs": [
        {
          "data": {
            "text/plain": [
              "\"I'm sorry, there are no reviews with a rating of 10 in the provided context.\""
            ]
          },
          "execution_count": 27,
          "metadata": {},
          "output_type": "execute_result"
        }
      ],
      "source": [
        "multi_query_retrieval_chain.invoke({\"question\" : \"Do any reviews have a rating of 10? If so - can I have the URLs to those reviews?\"})[\"response\"].content"
      ]
    },
    {
      "cell_type": "code",
      "execution_count": 28,
      "metadata": {
        "colab": {
          "base_uri": "https://localhost:8080/",
          "height": 88
        },
        "id": "Uv1mpCK8REs4",
        "outputId": "00fbc22a-ed9b-4613-9695-0b179e3f8369"
      },
      "outputs": [
        {
          "data": {
            "text/plain": [
              "\"In John Wick, the story follows a retired assassin named John Wick who comes out of retirement after someone kills his dog and steals his car, leading to a lot of carnage. He is then called on to pay off an old debt by helping take over the Assassin's Guild by traveling to Italy, Canada, and Manhattan to eliminate numerous assassins.\""
            ]
          },
          "execution_count": 28,
          "metadata": {},
          "output_type": "execute_result"
        }
      ],
      "source": [
        "multi_query_retrieval_chain.invoke({\"question\" : \"What happened in John Wick?\"})[\"response\"].content"
      ]
    },
    {
      "cell_type": "markdown",
      "metadata": {
        "id": "EDEawBf_d_3G"
      },
      "source": [
        "## Task 8: Parent Document Retriever\n",
        "\n",
        "A \"small-to-big\" strategy - the Parent Document Retriever works based on a simple strategy:\n",
        "\n",
        "1. Each un-split \"document\" will be designated as a \"parent document\" (You could use larger chunks of document as well, but our data format allows us to consider the overall document as the parent chunk)\n",
        "2. Store those \"parent documents\" in a memory store (not a VectorStore)\n",
        "3. We will chunk each of those documents into smaller documents, and associate them with their respective parents, and store those in a VectorStore. We'll call those \"child chunks\".\n",
        "4. When we query our Retriever, we will do a similarity search comparing our query vector to the \"child chunks\".\n",
        "5. Instead of returning the \"child chunks\", we'll return their associated \"parent chunks\".\n",
        "\n",
        "Okay, maybe that was a few steps - but the basic idea is this:\n",
        "\n",
        "- Search for small documents\n",
        "- Return big documents\n",
        "\n",
        "The intuition is that we're likely to find the most relevant information by limiting the amount of semantic information that is encoded in each embedding vector - but we're likely to miss relevant surrounding context if we only use that information.\n",
        "\n",
        "Let's start by creating our \"parent documents\" and defining a `RecursiveCharacterTextSplitter`."
      ]
    },
    {
      "cell_type": "code",
      "execution_count": 26,
      "metadata": {
        "id": "qJ53JJuMd_ZH"
      },
      "outputs": [],
      "source": [
        "from langchain.retrievers import ParentDocumentRetriever\n",
        "from langchain.storage import InMemoryStore\n",
        "from langchain_text_splitters import RecursiveCharacterTextSplitter\n",
        "from qdrant_client import QdrantClient, models\n",
        "\n",
        "parent_docs = documents\n",
        "child_splitter = RecursiveCharacterTextSplitter(chunk_size=200)"
      ]
    },
    {
      "cell_type": "markdown",
      "metadata": {
        "id": "oOpXfVUH3gL3"
      },
      "source": [
        "We'll need to set up a new QDrant vectorstore - and we'll use another useful pattern to do so!\n",
        "\n",
        "> NOTE: We are manually defining our embedding dimension, you'll need to change this if you're using a different embedding model."
      ]
    },
    {
      "cell_type": "code",
      "execution_count": 27,
      "metadata": {
        "colab": {
          "base_uri": "https://localhost:8080/"
        },
        "id": "rzFc-_9HlGQ-",
        "outputId": "223662dd-c36f-42f7-d1b0-b086e571484e"
      },
      "outputs": [
        {
          "name": "stderr",
          "output_type": "stream",
          "text": [
            "/var/folders/ng/cm39njz1295g1l691m97bc1c0000gn/T/ipykernel_97884/3574430551.py:8: LangChainDeprecationWarning: The class `Qdrant` was deprecated in LangChain 0.0.37 and will be removed in 1.0. An updated version of the class exists in the :class:`~langchain-qdrant package and should be used instead. To use it run `pip install -U :class:`~langchain-qdrant` and import as `from :class:`~langchain_qdrant import Qdrant``.\n",
            "  parent_document_vectorstore = Qdrant(\n"
          ]
        }
      ],
      "source": [
        "client = QdrantClient(location=\":memory:\")\n",
        "\n",
        "client.create_collection(\n",
        "    collection_name=\"full_documents\",\n",
        "    vectors_config=models.VectorParams(size=1536, distance=models.Distance.COSINE)\n",
        ")\n",
        "\n",
        "parent_document_vectorstore = Qdrant(\n",
        "    collection_name=\"full_documents\", embeddings=OpenAIEmbeddings(model=\"text-embedding-3-small\"), client=client\n",
        ")"
      ]
    },
    {
      "cell_type": "markdown",
      "metadata": {
        "id": "sf_g95FA3s6w"
      },
      "source": [
        "Now we can create our `InMemoryStore` that will hold our \"parent documents\" - and build our retriever!"
      ]
    },
    {
      "cell_type": "code",
      "execution_count": 28,
      "metadata": {
        "id": "BpWVjPf4fLUp"
      },
      "outputs": [],
      "source": [
        "store = InMemoryStore()\n",
        "\n",
        "parent_document_retriever = ParentDocumentRetriever(\n",
        "    vectorstore = parent_document_vectorstore,\n",
        "    docstore=store,\n",
        "    child_splitter=child_splitter,\n",
        ")"
      ]
    },
    {
      "cell_type": "markdown",
      "metadata": {
        "id": "KoYmSWfE32Zo"
      },
      "source": [
        "By default, this is empty as we haven't added any documents - let's add some now!"
      ]
    },
    {
      "cell_type": "code",
      "execution_count": 29,
      "metadata": {
        "id": "iQ2ZzfKigMZc"
      },
      "outputs": [],
      "source": [
        "parent_document_retriever.add_documents(parent_docs, ids=None)"
      ]
    },
    {
      "cell_type": "markdown",
      "metadata": {
        "id": "bI7Tip1335rE"
      },
      "source": [
        "We'll create the same chain we did before - but substitute our new `parent_document_retriever`."
      ]
    },
    {
      "cell_type": "code",
      "execution_count": 30,
      "metadata": {
        "id": "Qq_adt2KlSqp"
      },
      "outputs": [],
      "source": [
        "parent_document_retrieval_chain = (\n",
        "    {\"context\": itemgetter(\"question\") | parent_document_retriever, \"question\": itemgetter(\"question\")}\n",
        "    | RunnablePassthrough.assign(context=itemgetter(\"context\"))\n",
        "    | {\"response\": rag_prompt | chat_model, \"context\": itemgetter(\"context\")}\n",
        ")"
      ]
    },
    {
      "cell_type": "markdown",
      "metadata": {
        "id": "jNolUVQb4Apt"
      },
      "source": [
        "Let's give it a whirl!"
      ]
    },
    {
      "cell_type": "code",
      "execution_count": 31,
      "metadata": {
        "colab": {
          "base_uri": "https://localhost:8080/",
          "height": 70
        },
        "id": "TXB5i89Zly5W",
        "outputId": "94c240be-7c5b-4c58-9eee-56d93285a054"
      },
      "outputs": [
        {
          "data": {
            "text/plain": [
              "'Overall, opinions on John Wick seem to vary. Some people really enjoy the series and find it consistent and well-received, while others may not like certain aspects of the movies, such as the plot or action scenes. It really depends on individual preferences.'"
            ]
          },
          "execution_count": 31,
          "metadata": {},
          "output_type": "execute_result"
        }
      ],
      "source": [
        "parent_document_retrieval_chain.invoke({\"question\" : \"Did people generally like John Wick?\"})[\"response\"].content"
      ]
    },
    {
      "cell_type": "code",
      "execution_count": 35,
      "metadata": {
        "colab": {
          "base_uri": "https://localhost:8080/",
          "height": 36
        },
        "id": "V5F1T-wNl3cg",
        "outputId": "9b81e72e-5db7-4b8a-b25b-400ea0df5335"
      },
      "outputs": [
        {
          "data": {
            "text/plain": [
              "'Yes, there is a review with a rating of 10. Here is the URL to that review: /review/rw4854296/?ref_=tt_urv'"
            ]
          },
          "execution_count": 35,
          "metadata": {},
          "output_type": "execute_result"
        }
      ],
      "source": [
        "parent_document_retrieval_chain.invoke({\"question\" : \"Do any reviews have a rating of 10? If so - can I have the URLs to those reviews?\"})[\"response\"].content"
      ]
    },
    {
      "cell_type": "code",
      "execution_count": 36,
      "metadata": {
        "colab": {
          "base_uri": "https://localhost:8080/",
          "height": 70
        },
        "id": "ZqARszGzvGcG",
        "outputId": "8867f83c-db13-4db4-d57f-9bd51d32cd8a"
      },
      "outputs": [
        {
          "data": {
            "text/plain": [
              "\"In John Wick, John Wick is a retired assassin who comes out of retirement to seek revenge after someone kills his dog and steals his car. He is then called on to pay off an old debt by helping Ian McShane take over the Assassin's Guild by flying around to Italy, Canada, and Manhattan and killing numerous assassins.\""
            ]
          },
          "execution_count": 36,
          "metadata": {},
          "output_type": "execute_result"
        }
      ],
      "source": [
        "parent_document_retrieval_chain.invoke({\"question\" : \"What happened in John Wick?\"})[\"response\"].content"
      ]
    },
    {
      "cell_type": "markdown",
      "metadata": {
        "id": "B41cj42s4DPM"
      },
      "source": [
        "Overall, the performance *seems* largely the same. We can leverage a tool like [Ragas]() to more effectively answer the question about the performance."
      ]
    },
    {
      "cell_type": "markdown",
      "metadata": {
        "id": "VUrIBKl_TwS9"
      },
      "source": [
        "## Task 9: Ensemble Retriever\n",
        "\n",
        "In brief, an Ensemble Retriever simply takes 2, or more, retrievers and combines their retrieved documents based on a rank-fusion algorithm.\n",
        "\n",
        "In this case - we're using the [Reciprocal Rank Fusion](https://plg.uwaterloo.ca/~gvcormac/cormacksigir09-rrf.pdf) algorithm.\n",
        "\n",
        "Setting it up is as easy as providing a list of our desired retrievers - and the weights for each retriever."
      ]
    },
    {
      "cell_type": "code",
      "execution_count": 32,
      "metadata": {
        "id": "8j7jpZsKTxic"
      },
      "outputs": [],
      "source": [
        "from langchain.retrievers import EnsembleRetriever\n",
        "\n",
        "retriever_list = [bm25_retriever, naive_retriever, parent_document_retriever, compression_retriever, multi_query_retriever]\n",
        "equal_weighting = [1/len(retriever_list)] * len(retriever_list)\n",
        "\n",
        "ensemble_retriever = EnsembleRetriever(\n",
        "    retrievers=retriever_list, weights=equal_weighting\n",
        ")"
      ]
    },
    {
      "cell_type": "markdown",
      "metadata": {
        "id": "kpo9Psl5hhJ-"
      },
      "source": [
        "We'll pack *all* of these retrievers together in an ensemble."
      ]
    },
    {
      "cell_type": "code",
      "execution_count": 33,
      "metadata": {
        "id": "KZ__EZwpUKkd"
      },
      "outputs": [],
      "source": [
        "ensemble_retrieval_chain = (\n",
        "    {\"context\": itemgetter(\"question\") | ensemble_retriever, \"question\": itemgetter(\"question\")}\n",
        "    | RunnablePassthrough.assign(context=itemgetter(\"context\"))\n",
        "    | {\"response\": rag_prompt | chat_model, \"context\": itemgetter(\"context\")}\n",
        ")"
      ]
    },
    {
      "cell_type": "markdown",
      "metadata": {
        "id": "SSsvHpRMj24L"
      },
      "source": [
        "Let's look at our results!"
      ]
    },
    {
      "cell_type": "code",
      "execution_count": 34,
      "metadata": {
        "colab": {
          "base_uri": "https://localhost:8080/",
          "height": 70
        },
        "id": "0lMvqL88UQI-",
        "outputId": "d86dd5f7-0a13-4836-c0ce-cc4c431fd889"
      },
      "outputs": [
        {
          "data": {
            "text/plain": [
              "\"People generally liked John Wick based on the reviews provided. The action sequences, Keanu Reeves' performance, and the overall style of the movie were praised by reviewers.\""
            ]
          },
          "execution_count": 34,
          "metadata": {},
          "output_type": "execute_result"
        }
      ],
      "source": [
        "ensemble_retrieval_chain.invoke({\"question\" : \"Did people generally like John Wick?\"})[\"response\"].content"
      ]
    },
    {
      "cell_type": "code",
      "execution_count": 40,
      "metadata": {
        "colab": {
          "base_uri": "https://localhost:8080/",
          "height": 53
        },
        "id": "MNFWLYECURI1",
        "outputId": "b17973b5-66a9-4481-97d5-880b5754b5c5"
      },
      "outputs": [
        {
          "data": {
            "text/plain": [
              "\"Yes, there is one review with a rating of 10. Here is the URL to that review: '/review/rw4854296/?ref_=tt_urv'\""
            ]
          },
          "execution_count": 40,
          "metadata": {},
          "output_type": "execute_result"
        }
      ],
      "source": [
        "ensemble_retrieval_chain.invoke({\"question\" : \"Do any reviews have a rating of 10? If so - can I have the URLs to those reviews?\"})[\"response\"].content"
      ]
    },
    {
      "cell_type": "code",
      "execution_count": 41,
      "metadata": {
        "colab": {
          "base_uri": "https://localhost:8080/",
          "height": 88
        },
        "id": "A7qbHfWgUR4c",
        "outputId": "f7373144-59ef-4fc7-b75d-ca00e7df881e"
      },
      "outputs": [
        {
          "data": {
            "text/plain": [
              "'John Wick is an action-packed movie series that follows the story of a retired hitman, John Wick, who seeks vengeance after gangsters kill his dog and steal his car. This leads to a series of violent confrontations with various enemies throughout the movies.'"
            ]
          },
          "execution_count": 41,
          "metadata": {},
          "output_type": "execute_result"
        }
      ],
      "source": [
        "ensemble_retrieval_chain.invoke({\"question\" : \"What happened in John Wick?\"})[\"response\"].content"
      ]
    },
    {
      "cell_type": "markdown",
      "metadata": {
        "id": "MopbkNJAXVaN"
      },
      "source": [
        "## Task 10: Semantic Chunking\n",
        "\n",
        "While this is not a retrieval method - it *is* an effective way of increasing retrieval performance on corpora that have clean semantic breaks in them.\n",
        "\n",
        "Essentially, Semantic Chunking is implemented by:\n",
        "\n",
        "1. Embedding all sentences in the corpus.\n",
        "2. Combining or splitting sequences of sentences based on their semantic similarity based on a number of [possible thresholding methods](https://python.langchain.com/docs/how_to/semantic-chunker/):\n",
        "  - `percentile`\n",
        "  - `standard_deviation`\n",
        "  - `interquartile`\n",
        "  - `gradient`\n",
        "3. Each sequence of related sentences is kept as a document!\n",
        "\n",
        "Let's see how to implement this!\n",
        "\n",
        "> NOTE: You do not need to run this cell if you're running this locally"
      ]
    },
    {
      "cell_type": "code",
      "execution_count": null,
      "metadata": {
        "colab": {
          "base_uri": "https://localhost:8080/"
        },
        "id": "1dHeB-yGXneL",
        "outputId": "efc59105-518a-4134-9228-d98b8a97e08e"
      },
      "outputs": [
        {
          "name": "stdout",
          "output_type": "stream",
          "text": [
            "\u001b[2K     \u001b[90m━━━━━━━━━━━━━━━━━━━━━━━━━━━━━━━━━━━━━━━━\u001b[0m \u001b[32m50.4/50.4 kB\u001b[0m \u001b[31m1.1 MB/s\u001b[0m eta \u001b[36m0:00:00\u001b[0m\n",
            "\u001b[2K   \u001b[90m━━━━━━━━━━━━━━━━━━━━━━━━━━━━━━━━━━━━━━━━\u001b[0m \u001b[32m208.1/208.1 kB\u001b[0m \u001b[31m7.3 MB/s\u001b[0m eta \u001b[36m0:00:00\u001b[0m\n",
            "\u001b[2K   \u001b[90m━━━━━━━━━━━━━━━━━━━━━━━━━━━━━━━━━━━━━━━━\u001b[0m \u001b[32m2.4/2.4 MB\u001b[0m \u001b[31m40.4 MB/s\u001b[0m eta \u001b[36m0:00:00\u001b[0m\n",
            "\u001b[2K   \u001b[90m━━━━━━━━━━━━━━━━━━━━━━━━━━━━━━━━━━━━━━━━\u001b[0m \u001b[32m399.9/399.9 kB\u001b[0m \u001b[31m17.4 MB/s\u001b[0m eta \u001b[36m0:00:00\u001b[0m\n",
            "\u001b[2K   \u001b[90m━━━━━━━━━━━━━━━━━━━━━━━━━━━━━━━━━━━━━━━━\u001b[0m \u001b[32m1.0/1.0 MB\u001b[0m \u001b[31m32.5 MB/s\u001b[0m eta \u001b[36m0:00:00\u001b[0m\n",
            "\u001b[2K   \u001b[90m━━━━━━━━━━━━━━━━━━━━━━━━━━━━━━━━━━━━━━━━\u001b[0m \u001b[32m292.1/292.1 kB\u001b[0m \u001b[31m15.6 MB/s\u001b[0m eta \u001b[36m0:00:00\u001b[0m\n",
            "\u001b[2K   \u001b[90m━━━━━━━━━━━━━━━━━━━━━━━━━━━━━━━━━━━━━━━━\u001b[0m \u001b[32m76.4/76.4 kB\u001b[0m \u001b[31m4.3 MB/s\u001b[0m eta \u001b[36m0:00:00\u001b[0m\n",
            "\u001b[2K   \u001b[90m━━━━━━━━━━━━━━━━━━━━━━━━━━━━━━━━━━━━━━━━\u001b[0m \u001b[32m77.9/77.9 kB\u001b[0m \u001b[31m4.2 MB/s\u001b[0m eta \u001b[36m0:00:00\u001b[0m\n",
            "\u001b[2K   \u001b[90m━━━━━━━━━━━━━━━━━━━━━━━━━━━━━━━━━━━━━━━━\u001b[0m \u001b[32m49.3/49.3 kB\u001b[0m \u001b[31m2.8 MB/s\u001b[0m eta \u001b[36m0:00:00\u001b[0m\n",
            "\u001b[2K   \u001b[90m━━━━━━━━━━━━━━━━━━━━━━━━━━━━━━━━━━━━━━━━\u001b[0m \u001b[32m141.9/141.9 kB\u001b[0m \u001b[31m8.8 MB/s\u001b[0m eta \u001b[36m0:00:00\u001b[0m\n",
            "\u001b[2K   \u001b[90m━━━━━━━━━━━━━━━━━━━━━━━━━━━━━━━━━━━━━━━━\u001b[0m \u001b[32m58.3/58.3 kB\u001b[0m \u001b[31m3.4 MB/s\u001b[0m eta \u001b[36m0:00:00\u001b[0m\n",
            "\u001b[?25h"
          ]
        }
      ],
      "source": [
        "#!pip install -qU langchain_experimental"
      ]
    },
    {
      "cell_type": "markdown",
      "metadata": {
        "id": "U9ciZbFEldv_"
      },
      "source": [
        "We'll use the `percentile` thresholding method for this example which will:\n",
        "\n",
        "Calculate all distances between sentences, and then break apart sequences of setences that exceed a given percentile among all distances."
      ]
    },
    {
      "cell_type": "code",
      "execution_count": 35,
      "metadata": {
        "id": "66EIEWiEYl5y"
      },
      "outputs": [],
      "source": [
        "from langchain_experimental.text_splitter import SemanticChunker\n",
        "\n",
        "semantic_chunker = SemanticChunker(\n",
        "    embeddings,\n",
        "    breakpoint_threshold_type=\"percentile\"\n",
        ")"
      ]
    },
    {
      "cell_type": "markdown",
      "metadata": {
        "id": "YqoKmz12mhRW"
      },
      "source": [
        "Now we can split our documents."
      ]
    },
    {
      "cell_type": "code",
      "execution_count": 36,
      "metadata": {
        "id": "ROcV7o68ZIq7"
      },
      "outputs": [],
      "source": [
        "semantic_documents = semantic_chunker.split_documents(documents)"
      ]
    },
    {
      "cell_type": "markdown",
      "metadata": {
        "id": "L8-LNC-Xmjex"
      },
      "source": [
        "Let's create a new vector store."
      ]
    },
    {
      "cell_type": "code",
      "execution_count": 37,
      "metadata": {
        "id": "h3sl9QjyZhIe"
      },
      "outputs": [],
      "source": [
        "semantic_vectorstore = Qdrant.from_documents(\n",
        "    semantic_documents,\n",
        "    embeddings,\n",
        "    location=\":memory:\",\n",
        "    collection_name=\"JohnWickSemantic\"\n",
        ")"
      ]
    },
    {
      "cell_type": "markdown",
      "metadata": {
        "id": "Eh_r_-LHmmKn"
      },
      "source": [
        "We'll use naive retrieval for this example."
      ]
    },
    {
      "cell_type": "code",
      "execution_count": 38,
      "metadata": {
        "id": "odVyDUHwZftc"
      },
      "outputs": [],
      "source": [
        "semantic_retriever = semantic_vectorstore.as_retriever(search_kwargs={\"k\" : 10})"
      ]
    },
    {
      "cell_type": "markdown",
      "metadata": {
        "id": "Mkeiv_ojmp6G"
      },
      "source": [
        "Finally we can create our classic chain!"
      ]
    },
    {
      "cell_type": "code",
      "execution_count": 39,
      "metadata": {
        "id": "xWE_0J0mZveG"
      },
      "outputs": [],
      "source": [
        "semantic_retrieval_chain = (\n",
        "    {\"context\": itemgetter(\"question\") | semantic_retriever, \"question\": itemgetter(\"question\")}\n",
        "    | RunnablePassthrough.assign(context=itemgetter(\"context\"))\n",
        "    | {\"response\": rag_prompt | chat_model, \"context\": itemgetter(\"context\")}\n",
        ")"
      ]
    },
    {
      "cell_type": "markdown",
      "metadata": {
        "id": "R5pfjLQ3ms9_"
      },
      "source": [
        "And view the results!"
      ]
    },
    {
      "cell_type": "code",
      "execution_count": 40,
      "metadata": {
        "colab": {
          "base_uri": "https://localhost:8080/",
          "height": 70
        },
        "id": "0lN2j-e4Z0SD",
        "outputId": "ef483e21-7200-4dfc-b8bf-aed4f23587b2"
      },
      "outputs": [
        {
          "data": {
            "text/plain": [
              "'Yes, people generally liked John Wick based on the positive reviews provided in the context.'"
            ]
          },
          "execution_count": 40,
          "metadata": {},
          "output_type": "execute_result"
        }
      ],
      "source": [
        "semantic_retrieval_chain.invoke({\"question\" : \"Did people generally like John Wick?\"})[\"response\"].content"
      ]
    },
    {
      "cell_type": "code",
      "execution_count": null,
      "metadata": {
        "colab": {
          "base_uri": "https://localhost:8080/",
          "height": 53
        },
        "id": "xdqfBH1SZ3f9",
        "outputId": "ed62b2d1-7586-46cc-aaf4-c54192a56155"
      },
      "outputs": [
        {
          "data": {
            "text/plain": [
              "'Yes, there is one review with a rating of 10 for the movie \"John Wick 3\". Here is the URL to that review: /review/rw4854296/?ref_=tt_urv'"
            ]
          },
          "execution_count": 48,
          "metadata": {},
          "output_type": "execute_result"
        }
      ],
      "source": [
        "semantic_retrieval_chain.invoke({\"question\" : \"Do any reviews have a rating of 10? If so - can I have the URLs to those reviews?\"})[\"response\"].content"
      ]
    },
    {
      "cell_type": "code",
      "execution_count": null,
      "metadata": {
        "colab": {
          "base_uri": "https://localhost:8080/",
          "height": 70
        },
        "id": "rAcAObZnZ4o6",
        "outputId": "3f1cade3-41e4-4e42-ef71-048dd18e5e3a"
      },
      "outputs": [
        {
          "data": {
            "text/plain": [
              "'John Wick is an ultra-violent movie series that follows the story of an ex-hitman seeking revenge after gangsters killed his dog and took everything from him. The first installment features John Wick coming out of retirement to track down those responsible. The series is known for its elaborate action sequences, vivid choreography, and intense violence.'"
            ]
          },
          "execution_count": 49,
          "metadata": {},
          "output_type": "execute_result"
        }
      ],
      "source": [
        "semantic_retrieval_chain.invoke({\"question\" : \"What happened in John Wick?\"})[\"response\"].content"
      ]
    },
    {
      "cell_type": "markdown",
      "metadata": {
        "id": "xk2n3-pnVWDJ"
      },
      "source": [
        "# 🤝 Breakout Room Part #2"
      ]
    },
    {
      "cell_type": "markdown",
      "metadata": {
        "id": "2SkJLYwMVZkj"
      },
      "source": [
        "#### 🏗️ Activity #1\n",
        "\n",
        "Your task is to evaluate the various Retriever methods against eachother.\n",
        "\n",
        "You are expected to:\n",
        "\n",
        "1. Create a \"golden dataset\"\n",
        " - Use Synthetic Data Generation (powered by Ragas, or otherwise) to create this dataset\n",
        "2. Evaluate each retriever with *retriever specific* Ragas metrics\n",
        " - Semantic Chunking is not considered a retriever method and will not be required for marks, but you may find it useful to do a \"semantic chunking on\" vs. \"semantic chunking off\" comparision between them\n",
        "3. Compile these in a list and write a small paragraph about which is best for this particular data and why.\n",
        "\n",
        "Your analysis should factor in:\n",
        "  - Cost\n",
        "  - Latency\n",
        "  - Performance\n",
        "\n",
        "> NOTE: This is **NOT** required to be completed in class. Please spend time in your breakout rooms creating a plan before moving on to writing code."
      ]
    },
    {
      "cell_type": "markdown",
      "metadata": {
        "id": "TWAr16a5XMub"
      },
      "source": [
        "##### HINTS:\n",
        "\n",
        "- LangSmith provides detailed information about latency and cost."
      ]
    },
    {
      "cell_type": "code",
      "execution_count": 49,
      "metadata": {},
      "outputs": [
        {
          "data": {
            "application/vnd.jupyter.widget-view+json": {
              "model_id": "4c23e0b349d945ee8ee3cb6f2ce77b63",
              "version_major": 2,
              "version_minor": 0
            },
            "text/plain": [
              "Applying SummaryExtractor:   0%|          | 0/44 [00:00<?, ?it/s]"
            ]
          },
          "metadata": {},
          "output_type": "display_data"
        },
        {
          "data": {
            "application/vnd.jupyter.widget-view+json": {
              "model_id": "1736866aed114904bfbfb6bb3964abb3",
              "version_major": 2,
              "version_minor": 0
            },
            "text/plain": [
              "Applying CustomNodeFilter:   0%|          | 0/100 [00:00<?, ?it/s]"
            ]
          },
          "metadata": {},
          "output_type": "display_data"
        },
        {
          "name": "stderr",
          "output_type": "stream",
          "text": [
            "Node d2bb09d2-3ef6-4eeb-94c3-da5a1d92faee does not have a summary. Skipping filtering.\n",
            "Node a566e5c5-0321-41cd-adb6-88bc53efdbc0 does not have a summary. Skipping filtering.\n",
            "Node eaddbfe4-4622-4ec7-9395-47d94ab859d3 does not have a summary. Skipping filtering.\n",
            "Node b58d72a7-c44c-48f2-b337-554e10e2ca34 does not have a summary. Skipping filtering.\n",
            "Node 9a140302-a88e-4c01-918e-90376c896cb6 does not have a summary. Skipping filtering.\n",
            "Node d2d1d11e-f493-4f90-a1a6-79e83fb4989c does not have a summary. Skipping filtering.\n",
            "Node 2e2064ab-39c0-40ac-82f1-ce0710087a30 does not have a summary. Skipping filtering.\n",
            "Node 54832d65-80aa-4519-bcf5-d5ffdfff0d46 does not have a summary. Skipping filtering.\n",
            "Node 9ef4464f-6d97-4b5c-a381-25d45f112c63 does not have a summary. Skipping filtering.\n",
            "Node bfbba0b4-fd57-4185-8bd2-3d59b7127789 does not have a summary. Skipping filtering.\n",
            "Node 54204f4f-da49-4aa9-a9ed-b63c84c219d8 does not have a summary. Skipping filtering.\n",
            "Node db738284-2f18-408e-88a0-fcff33315132 does not have a summary. Skipping filtering.\n",
            "Node cc0adfbc-ef9a-443d-9e54-486fa608f847 does not have a summary. Skipping filtering.\n",
            "Node 876ff3f7-da07-4a24-869c-42f28ef37fdb does not have a summary. Skipping filtering.\n",
            "Node c0f86c10-0487-49f2-be21-4d9bdbbdc385 does not have a summary. Skipping filtering.\n",
            "Node 67718c68-e467-47ee-b041-90c4e405ae56 does not have a summary. Skipping filtering.\n",
            "Node d1cd1403-7164-4782-ade3-15ccdf82d2b0 does not have a summary. Skipping filtering.\n",
            "Node e523a8dc-5186-493c-aafc-662d391e9533 does not have a summary. Skipping filtering.\n",
            "Node 2b9d1e80-3906-4ed4-b95a-72c19b47a0d5 does not have a summary. Skipping filtering.\n",
            "Node 376766cc-b164-42da-ad7d-b84aa722fa4e does not have a summary. Skipping filtering.\n",
            "Node 260c07fb-19bf-4a38-928d-a993cdf4156f does not have a summary. Skipping filtering.\n",
            "Node 9f19b4e2-4142-42ba-a03d-d623880d1cbb does not have a summary. Skipping filtering.\n",
            "Node fbd0e92a-b0da-44c6-9936-0f4ab151e1d8 does not have a summary. Skipping filtering.\n",
            "Node 35ab88e8-013b-4179-af7e-bd2baa96a4b1 does not have a summary. Skipping filtering.\n",
            "Node fa5c4dbd-56de-4532-862a-ced5ed308a73 does not have a summary. Skipping filtering.\n",
            "Node 1584fb4b-4a70-4d20-bad3-69b1e81a8992 does not have a summary. Skipping filtering.\n",
            "Node 224dbb31-2119-40fe-86b4-f5388823d57d does not have a summary. Skipping filtering.\n",
            "Node 5cb8453c-266b-4da5-bd0c-8b72a68ef96c does not have a summary. Skipping filtering.\n",
            "Node 7edfbcbf-5713-48d2-9e39-df4867523f7e does not have a summary. Skipping filtering.\n",
            "Node a5c569de-ee8a-4bf0-bb5a-fafff52323d1 does not have a summary. Skipping filtering.\n",
            "Node 264c5231-2b48-4a17-bccb-400058209489 does not have a summary. Skipping filtering.\n",
            "Node c7f5a5f3-beb9-457c-919c-aa33d837cbf1 does not have a summary. Skipping filtering.\n",
            "Node 5538701b-199c-4b1f-85af-873b08112991 does not have a summary. Skipping filtering.\n",
            "Node f5bbbd03-2bfb-4e34-be16-0d3ed03775f8 does not have a summary. Skipping filtering.\n",
            "Node 4a288592-f377-443c-8ec8-17d935ea5817 does not have a summary. Skipping filtering.\n",
            "Node 76930c59-f0cf-42f1-aa09-b1d84fec6324 does not have a summary. Skipping filtering.\n",
            "Node 22378870-9a7f-451e-bb8f-be7efb94c3ca does not have a summary. Skipping filtering.\n",
            "Node 0dbfaa1c-5078-488b-b3fd-86855f686c38 does not have a summary. Skipping filtering.\n",
            "Node 69978617-2102-4e49-8ed6-42ce53cca06c does not have a summary. Skipping filtering.\n",
            "Node bfcd6e91-88d8-4191-a7ee-7f6b84a05f01 does not have a summary. Skipping filtering.\n",
            "Node 9e2028cc-d39f-49d1-a5d0-870837e67a44 does not have a summary. Skipping filtering.\n",
            "Node f36ca017-5ebf-4444-9684-b5e7c1f35ae9 does not have a summary. Skipping filtering.\n",
            "Node 163b94ba-2df7-4eeb-aa73-1cc83de7758e does not have a summary. Skipping filtering.\n",
            "Node a2f82f08-e6d8-4d87-882b-7d981ff73931 does not have a summary. Skipping filtering.\n",
            "Node bfdbc5a8-62eb-43d0-bd11-a909c7adbcb8 does not have a summary. Skipping filtering.\n",
            "Node 181c7948-f881-46e2-ba3a-47710f4d8d33 does not have a summary. Skipping filtering.\n",
            "Node bef2da8a-a12e-4b07-a5f6-c61744f1ab1f does not have a summary. Skipping filtering.\n",
            "Node 3932d1ff-90fc-4b7d-b0ca-c1284c5dcc65 does not have a summary. Skipping filtering.\n",
            "Node 37600fbc-601c-4385-aac5-8821ea3fd3fc does not have a summary. Skipping filtering.\n",
            "Node 256732a6-47e9-4774-96e2-0f9091785b48 does not have a summary. Skipping filtering.\n",
            "Node 1d97325d-f644-4fde-aa5d-d56908d05f04 does not have a summary. Skipping filtering.\n",
            "Node 90d6c32d-43c3-466b-9062-febe41c907d3 does not have a summary. Skipping filtering.\n",
            "Node 74f1d750-f96c-4f60-bf28-9d1abdb87d9a does not have a summary. Skipping filtering.\n",
            "Node 985caa6d-58ef-45e4-b98f-2c21fe7e4e5d does not have a summary. Skipping filtering.\n",
            "Node c81d8276-841b-4050-bd86-655aabe2de3a does not have a summary. Skipping filtering.\n",
            "Node 41b80d58-dde4-4ebd-8c1e-b8b5fece8748 does not have a summary. Skipping filtering.\n"
          ]
        },
        {
          "data": {
            "application/vnd.jupyter.widget-view+json": {
              "model_id": "cc74fc6396c1478d831192d98bf7068b",
              "version_major": 2,
              "version_minor": 0
            },
            "text/plain": [
              "Applying [EmbeddingExtractor, ThemesExtractor, NERExtractor]:   0%|          | 0/244 [00:00<?, ?it/s]"
            ]
          },
          "metadata": {},
          "output_type": "display_data"
        },
        {
          "data": {
            "application/vnd.jupyter.widget-view+json": {
              "model_id": "5630e333efc34a80b357a8027dc0322c",
              "version_major": 2,
              "version_minor": 0
            },
            "text/plain": [
              "Applying OverlapScoreBuilder:   0%|          | 0/1 [00:00<?, ?it/s]"
            ]
          },
          "metadata": {},
          "output_type": "display_data"
        },
        {
          "data": {
            "application/vnd.jupyter.widget-view+json": {
              "model_id": "230e97ecdf9449e092bc1fdea6f205f4",
              "version_major": 2,
              "version_minor": 0
            },
            "text/plain": [
              "Generating personas:   0%|          | 0/3 [00:00<?, ?it/s]"
            ]
          },
          "metadata": {},
          "output_type": "display_data"
        },
        {
          "data": {
            "application/vnd.jupyter.widget-view+json": {
              "model_id": "28bb1b3212584b5f9afc6e4510220696",
              "version_major": 2,
              "version_minor": 0
            },
            "text/plain": [
              "Generating Scenarios:   0%|          | 0/2 [00:00<?, ?it/s]"
            ]
          },
          "metadata": {},
          "output_type": "display_data"
        },
        {
          "data": {
            "application/vnd.jupyter.widget-view+json": {
              "model_id": "82508f325f444f3bb1993668b2674f6d",
              "version_major": 2,
              "version_minor": 0
            },
            "text/plain": [
              "Generating Samples:   0%|          | 0/10 [00:00<?, ?it/s]"
            ]
          },
          "metadata": {},
          "output_type": "display_data"
        }
      ],
      "source": [
        "\n",
        "from ragas.llms import LangchainLLMWrapper\n",
        "from ragas.embeddings import LangchainEmbeddingsWrapper\n",
        "from langchain_openai import ChatOpenAI\n",
        "from langchain_openai import OpenAIEmbeddings\n",
        "from ragas.testset import TestsetGenerator\n",
        "\n",
        "\n",
        "generator_llm = LangchainLLMWrapper(ChatOpenAI(model=\"gpt-4o-mini\"))\n",
        "generator_embeddings = LangchainEmbeddingsWrapper(OpenAIEmbeddings())\n",
        "\n",
        "generator = TestsetGenerator(llm=generator_llm, embedding_model=generator_embeddings)\n",
        "dataset = generator.generate_with_langchain_docs(documents, testset_size=10)"
      ]
    },
    {
      "cell_type": "code",
      "execution_count": 70,
      "metadata": {},
      "outputs": [
        {
          "data": {
            "text/html": [
              "<div>\n",
              "<style scoped>\n",
              "    .dataframe tbody tr th:only-of-type {\n",
              "        vertical-align: middle;\n",
              "    }\n",
              "\n",
              "    .dataframe tbody tr th {\n",
              "        vertical-align: top;\n",
              "    }\n",
              "\n",
              "    .dataframe thead th {\n",
              "        text-align: right;\n",
              "    }\n",
              "</style>\n",
              "<table border=\"1\" class=\"dataframe\">\n",
              "  <thead>\n",
              "    <tr style=\"text-align: right;\">\n",
              "      <th></th>\n",
              "      <th>user_input</th>\n",
              "      <th>retrieved_contexts</th>\n",
              "      <th>reference_contexts</th>\n",
              "      <th>response</th>\n",
              "      <th>reference</th>\n",
              "      <th>synthesizer_name</th>\n",
              "    </tr>\n",
              "  </thead>\n",
              "  <tbody>\n",
              "    <tr>\n",
              "      <th>0</th>\n",
              "      <td>Why Keanu Reeves in John Wick?</td>\n",
              "      <td>[: 11\\nReview: Who needs a 2hr and 40 min acti...</td>\n",
              "      <td>[: 0\\nReview: The best way I can describe John...</td>\n",
              "      <td>I don't know.</td>\n",
              "      <td>Keanu Reeves plays John Wick, a relatable hero...</td>\n",
              "      <td>single_hop_specifc_query_synthesizer</td>\n",
              "    </tr>\n",
              "    <tr>\n",
              "      <th>1</th>\n",
              "      <td>What is the general reception of the John Wick...</td>\n",
              "      <td>[: 8\\nReview: It's hard to find anything bad t...</td>\n",
              "      <td>[: 2\\nReview: With the fourth installment scor...</td>\n",
              "      <td>The general reception of the John Wick series ...</td>\n",
              "      <td>The John Wick series is apparently loved by ev...</td>\n",
              "      <td>single_hop_specifc_query_synthesizer</td>\n",
              "    </tr>\n",
              "    <tr>\n",
              "      <th>2</th>\n",
              "      <td>What is the main plot of the movie John wick w...</td>\n",
              "      <td>[: 4\\nReview: Hollow plot interspersed with th...</td>\n",
              "      <td>[: 3\\nReview: John wick has a very simple reve...</td>\n",
              "      <td>The main plot of the movie John Wick is about ...</td>\n",
              "      <td>John Wick has a very simple revenge story that...</td>\n",
              "      <td>single_hop_specifc_query_synthesizer</td>\n",
              "    </tr>\n",
              "    <tr>\n",
              "      <th>3</th>\n",
              "      <td>How does Keanu Reeves' portrayal of John Wick ...</td>\n",
              "      <td>[: 9\\nReview: At first glance, John Wick sound...</td>\n",
              "      <td>[: 4\\nReview: Though he no longer has a taste ...</td>\n",
              "      <td>Keanu Reeves' portrayal of John Wick in the fi...</td>\n",
              "      <td>Keanu Reeves' portrayal of John Wick is marked...</td>\n",
              "      <td>single_hop_specifc_query_synthesizer</td>\n",
              "    </tr>\n",
              "    <tr>\n",
              "      <th>4</th>\n",
              "      <td>How does the character of the Russian mob prin...</td>\n",
              "      <td>[: 5\\nReview: Ultra-violent first entry with l...</td>\n",
              "      <td>[: 5\\nReview: Ultra-violent first entry with l...</td>\n",
              "      <td>The character of the Russian mob prince in Joh...</td>\n",
              "      <td>The Russian mob prince plays a crucial role in...</td>\n",
              "      <td>single_hop_specifc_query_synthesizer</td>\n",
              "    </tr>\n",
              "    <tr>\n",
              "      <th>5</th>\n",
              "      <td>What genre did the filmmakers forget to add to...</td>\n",
              "      <td>[: 19\\nReview: John Wick: Chapter 4 picks up w...</td>\n",
              "      <td>[&lt;1-hop&gt;\\n\\n: 21\\nReview: ..THE FILM-MAKERS, {...</td>\n",
              "      <td>The filmmakers forgot to add the \"martial arts...</td>\n",
              "      <td>The filmmakers forgot to add 'FANTASY' to thei...</td>\n",
              "      <td>multi_hop_specific_query_synthesizer</td>\n",
              "    </tr>\n",
              "    <tr>\n",
              "      <th>6</th>\n",
              "      <td>How does the involvement of Russian mobsters i...</td>\n",
              "      <td>[: 9\\nReview: At first glance, John Wick sound...</td>\n",
              "      <td>[&lt;1-hop&gt;\\n\\n: 18\\nReview: When the story begin...</td>\n",
              "      <td>The involvement of Russian mobsters in John Wi...</td>\n",
              "      <td>The involvement of Russian mobsters in John Wi...</td>\n",
              "      <td>multi_hop_specific_query_synthesizer</td>\n",
              "    </tr>\n",
              "    <tr>\n",
              "      <th>7</th>\n",
              "      <td>What makes John Wick 3 stand out as an action ...</td>\n",
              "      <td>[: 22\\nReview: Lets contemplate about componen...</td>\n",
              "      <td>[&lt;1-hop&gt;\\n\\n: 16\\nReview: John Wick 3 is witho...</td>\n",
              "      <td>John Wick 3 stands out as an action movie comp...</td>\n",
              "      <td>John Wick 3 stands out as an action movie due ...</td>\n",
              "      <td>multi_hop_specific_query_synthesizer</td>\n",
              "    </tr>\n",
              "    <tr>\n",
              "      <th>8</th>\n",
              "      <td>Why is it considered a shame that Hollywood st...</td>\n",
              "      <td>[: 18\\nReview: Ever since the original John Wi...</td>\n",
              "      <td>[&lt;1-hop&gt;\\n\\n: 10\\nReview: Most American action...</td>\n",
              "      <td>It is considered a shame that Hollywood strugg...</td>\n",
              "      <td>It is considered a shame that Hollywood strugg...</td>\n",
              "      <td>multi_hop_specific_query_synthesizer</td>\n",
              "    </tr>\n",
              "    <tr>\n",
              "      <th>9</th>\n",
              "      <td>What are the similarities and differences in t...</td>\n",
              "      <td>[: 16\\nReview: John Wick Chapter 2 pits Keanu ...</td>\n",
              "      <td>[&lt;1-hop&gt;\\n\\n: 20\\nReview: John Wick is somethi...</td>\n",
              "      <td>In the portrayal of Reeves' character in John ...</td>\n",
              "      <td>In John Wick, Reeves' character is portrayed a...</td>\n",
              "      <td>multi_hop_specific_query_synthesizer</td>\n",
              "    </tr>\n",
              "  </tbody>\n",
              "</table>\n",
              "</div>"
            ],
            "text/plain": [
              "                                          user_input  \\\n",
              "0                     Why Keanu Reeves in John Wick?   \n",
              "1  What is the general reception of the John Wick...   \n",
              "2  What is the main plot of the movie John wick w...   \n",
              "3  How does Keanu Reeves' portrayal of John Wick ...   \n",
              "4  How does the character of the Russian mob prin...   \n",
              "5  What genre did the filmmakers forget to add to...   \n",
              "6  How does the involvement of Russian mobsters i...   \n",
              "7  What makes John Wick 3 stand out as an action ...   \n",
              "8  Why is it considered a shame that Hollywood st...   \n",
              "9  What are the similarities and differences in t...   \n",
              "\n",
              "                                  retrieved_contexts  \\\n",
              "0  [: 11\\nReview: Who needs a 2hr and 40 min acti...   \n",
              "1  [: 8\\nReview: It's hard to find anything bad t...   \n",
              "2  [: 4\\nReview: Hollow plot interspersed with th...   \n",
              "3  [: 9\\nReview: At first glance, John Wick sound...   \n",
              "4  [: 5\\nReview: Ultra-violent first entry with l...   \n",
              "5  [: 19\\nReview: John Wick: Chapter 4 picks up w...   \n",
              "6  [: 9\\nReview: At first glance, John Wick sound...   \n",
              "7  [: 22\\nReview: Lets contemplate about componen...   \n",
              "8  [: 18\\nReview: Ever since the original John Wi...   \n",
              "9  [: 16\\nReview: John Wick Chapter 2 pits Keanu ...   \n",
              "\n",
              "                                  reference_contexts  \\\n",
              "0  [: 0\\nReview: The best way I can describe John...   \n",
              "1  [: 2\\nReview: With the fourth installment scor...   \n",
              "2  [: 3\\nReview: John wick has a very simple reve...   \n",
              "3  [: 4\\nReview: Though he no longer has a taste ...   \n",
              "4  [: 5\\nReview: Ultra-violent first entry with l...   \n",
              "5  [<1-hop>\\n\\n: 21\\nReview: ..THE FILM-MAKERS, {...   \n",
              "6  [<1-hop>\\n\\n: 18\\nReview: When the story begin...   \n",
              "7  [<1-hop>\\n\\n: 16\\nReview: John Wick 3 is witho...   \n",
              "8  [<1-hop>\\n\\n: 10\\nReview: Most American action...   \n",
              "9  [<1-hop>\\n\\n: 20\\nReview: John Wick is somethi...   \n",
              "\n",
              "                                            response  \\\n",
              "0                                      I don't know.   \n",
              "1  The general reception of the John Wick series ...   \n",
              "2  The main plot of the movie John Wick is about ...   \n",
              "3  Keanu Reeves' portrayal of John Wick in the fi...   \n",
              "4  The character of the Russian mob prince in Joh...   \n",
              "5  The filmmakers forgot to add the \"martial arts...   \n",
              "6  The involvement of Russian mobsters in John Wi...   \n",
              "7  John Wick 3 stands out as an action movie comp...   \n",
              "8  It is considered a shame that Hollywood strugg...   \n",
              "9  In the portrayal of Reeves' character in John ...   \n",
              "\n",
              "                                           reference  \\\n",
              "0  Keanu Reeves plays John Wick, a relatable hero...   \n",
              "1  The John Wick series is apparently loved by ev...   \n",
              "2  John Wick has a very simple revenge story that...   \n",
              "3  Keanu Reeves' portrayal of John Wick is marked...   \n",
              "4  The Russian mob prince plays a crucial role in...   \n",
              "5  The filmmakers forgot to add 'FANTASY' to thei...   \n",
              "6  The involvement of Russian mobsters in John Wi...   \n",
              "7  John Wick 3 stands out as an action movie due ...   \n",
              "8  It is considered a shame that Hollywood strugg...   \n",
              "9  In John Wick, Reeves' character is portrayed a...   \n",
              "\n",
              "                       synthesizer_name  \n",
              "0  single_hop_specifc_query_synthesizer  \n",
              "1  single_hop_specifc_query_synthesizer  \n",
              "2  single_hop_specifc_query_synthesizer  \n",
              "3  single_hop_specifc_query_synthesizer  \n",
              "4  single_hop_specifc_query_synthesizer  \n",
              "5  multi_hop_specific_query_synthesizer  \n",
              "6  multi_hop_specific_query_synthesizer  \n",
              "7  multi_hop_specific_query_synthesizer  \n",
              "8  multi_hop_specific_query_synthesizer  \n",
              "9  multi_hop_specific_query_synthesizer  "
            ]
          },
          "execution_count": 70,
          "metadata": {},
          "output_type": "execute_result"
        }
      ],
      "source": [
        "dataset.to_pandas()"
      ]
    },
    {
      "cell_type": "code",
      "execution_count": 72,
      "metadata": {},
      "outputs": [],
      "source": [
        "# save the dataset\n",
        "dataset.to_csv(\"john_wick_testset.csv\")"
      ]
    },
    {
      "cell_type": "code",
      "execution_count": null,
      "metadata": {},
      "outputs": [],
      "source": [
        "import os\n",
        "from langsmith import Client\n",
        "\n",
        "# Set up LangSmith environment\n",
        "os.environ[\"LANGCHAIN_TRACING_V2\"] = \"true\"\n",
        "os.environ[\"LANGCHAIN_API_KEY\"] = getpass.getpass(\"Enter your LangChain API Key:\")\n",
        "os.environ[\"LANGCHAIN_PROJECT\"] = \"retriever_comparison\""
      ]
    },
    {
      "cell_type": "code",
      "execution_count": null,
      "metadata": {},
      "outputs": [],
      "source": [
        "import logging\n",
        "from ragas import evaluate as ragas_evaluate\n",
        "from ragas.llms import LangchainLLMWrapper\n",
        "from ragas import EvaluationDataset\n",
        "from ragas.metrics import (\n",
        "    LLMContextRecall,\n",
        "    FactualCorrectness,\n",
        "    ResponseRelevancy,\n",
        "    ContextEntityRecall,\n",
        "    NoiseSensitivity\n",
        ")\n",
        "from ragas import RunConfig\n",
        "from langchain_openai import ChatOpenAI\n",
        "from langsmith import traceable\n",
        "\n",
        "# Configure logging\n",
        "logging.basicConfig(level=logging.INFO)\n",
        "logger = logging.getLogger(__name__)\n",
        "\n",
        "custom_run_config = RunConfig(timeout=360)\n",
        "langsmith_client = Client()\n",
        "\n",
        "@traceable(client=langsmith_client, tags=[\"evaluation\"])\n",
        "def chain_evaluation(dataset, chain, retriever):\n",
        "    '''Evaluate a chain on a test dataset given a retriever'''\n",
        "\n",
        "    for test_row in dataset:\n",
        "        response = chain.invoke({\"question\": test_row.eval_sample.user_input}, {\"tags\": [retriever]})\n",
        "        test_row.eval_sample.response = response[\"response\"].content\n",
        "        test_row.eval_sample.retrieved_contexts = [context.page_content for context in response[\"context\"]]\n",
        "\n",
        "    evaluator_llm = LangchainLLMWrapper(ChatOpenAI(model=\"gpt-4o-mini\"))\n",
        "    evaluation_dataset = EvaluationDataset.from_pandas(dataset.to_pandas())\n",
        "\n",
        "    return ragas_evaluate(\n",
        "        dataset=evaluation_dataset,\n",
        "        metrics=[\n",
        "            LLMContextRecall(),\n",
        "            FactualCorrectness(),\n",
        "            ResponseRelevancy(),\n",
        "            ContextEntityRecall(),\n",
        "            NoiseSensitivity()\n",
        "        ],\n",
        "        llm=evaluator_llm,\n",
        "        run_config=custom_run_config\n",
        "    )\n",
        "\n",
        "retriever_list = [\n",
        "    bm25_retrieval_chain,\n",
        "    naive_retrieval_chain,\n",
        "    parent_document_retrieval_chain,\n",
        "    contextual_compression_retrieval_chain,\n",
        "    multi_query_retrieval_chain,\n",
        "    ensemble_retrieval_chain,\n",
        "    semantic_retrieval_chain,\n",
        "]\n",
        "retriever_str_names = [\n",
        "    \"BM25\",\n",
        "    \"Naive\",\n",
        "    \"Parent Document\",\n",
        "    \"Contextual Compression\",\n",
        "    \"Multi Query\",\n",
        "    \"Ensemble\",\n",
        "    \"Semantic\",\n",
        "]\n",
        "\n",
        "results = {}\n",
        "for retriever, name in zip(retriever_list, retriever_str_names):\n",
        "    logger.info(f\"Evaluating {name}\")\n",
        "    result = chain_evaluation(dataset, retriever, name)\n",
        "    results[name] = result\n",
        "    logger.info(f\"Results for {name}: {result}\")\n",
        "\n"
      ]
    },
    {
      "cell_type": "markdown",
      "metadata": {},
      "source": [
        "### LANGSMITH specific evals"
      ]
    },
    {
      "cell_type": "code",
      "execution_count": 78,
      "metadata": {},
      "outputs": [
        {
          "name": "stderr",
          "output_type": "stream",
          "text": [
            "INFO:__main__:Evaluating BM25\n"
          ]
        },
        {
          "data": {
            "text/html": [
              "<pre style=\"white-space:pre;overflow-x:auto;line-height:normal;font-family:Menlo,'DejaVu Sans Mono',consolas,'Courier New',monospace\">Generating response for: Why Keanu Reeves in John Wick?\n",
              "</pre>\n"
            ],
            "text/plain": [
              "Generating response for: Why Keanu Reeves in John Wick?\n"
            ]
          },
          "metadata": {},
          "output_type": "display_data"
        },
        {
          "name": "stderr",
          "output_type": "stream",
          "text": [
            "INFO:httpx:HTTP Request: POST https://api.openai.com/v1/chat/completions \"HTTP/1.1 200 OK\"\n"
          ]
        },
        {
          "data": {
            "text/html": [
              "<pre style=\"white-space:pre;overflow-x:auto;line-height:normal;font-family:Menlo,'DejaVu Sans Mono',consolas,'Courier New',monospace\">Generating response for: What is the general reception of the John Wick series?\n",
              "</pre>\n"
            ],
            "text/plain": [
              "Generating response for: What is the general reception of the John Wick series?\n"
            ]
          },
          "metadata": {},
          "output_type": "display_data"
        },
        {
          "name": "stderr",
          "output_type": "stream",
          "text": [
            "INFO:httpx:HTTP Request: POST https://api.openai.com/v1/chat/completions \"HTTP/1.1 200 OK\"\n"
          ]
        },
        {
          "data": {
            "text/html": [
              "<pre style=\"white-space:pre;overflow-x:auto;line-height:normal;font-family:Menlo,'DejaVu Sans Mono',consolas,'Courier New',monospace\">Generating response for: What is the main plot of the movie John wick with Keanu?\n",
              "</pre>\n"
            ],
            "text/plain": [
              "Generating response for: What is the main plot of the movie John wick with Keanu?\n"
            ]
          },
          "metadata": {},
          "output_type": "display_data"
        },
        {
          "name": "stderr",
          "output_type": "stream",
          "text": [
            "INFO:httpx:HTTP Request: POST https://api.openai.com/v1/chat/completions \"HTTP/1.1 200 OK\"\n"
          ]
        },
        {
          "data": {
            "text/html": [
              "<pre style=\"white-space:pre;overflow-x:auto;line-height:normal;font-family:Menlo,'DejaVu Sans Mono',consolas,'Courier New',monospace\">Generating response for: How does Keanu Reeves' portrayal of John Wick contribute to the film's overall impact and \n",
              "character development?\n",
              "</pre>\n"
            ],
            "text/plain": [
              "Generating response for: How does Keanu Reeves' portrayal of John Wick contribute to the film's overall impact and \n",
              "character development?\n"
            ]
          },
          "metadata": {},
          "output_type": "display_data"
        },
        {
          "name": "stderr",
          "output_type": "stream",
          "text": [
            "INFO:httpx:HTTP Request: POST https://api.openai.com/v1/chat/completions \"HTTP/1.1 200 OK\"\n"
          ]
        },
        {
          "data": {
            "text/html": [
              "<pre style=\"white-space:pre;overflow-x:auto;line-height:normal;font-family:Menlo,'DejaVu Sans Mono',consolas,'Courier New',monospace\">Generating response for: How does the character of the Russian mob prince contribute to the overall narrative of \n",
              "John Wick?\n",
              "</pre>\n"
            ],
            "text/plain": [
              "Generating response for: How does the character of the Russian mob prince contribute to the overall narrative of \n",
              "John Wick?\n"
            ]
          },
          "metadata": {},
          "output_type": "display_data"
        },
        {
          "name": "stderr",
          "output_type": "stream",
          "text": [
            "INFO:httpx:HTTP Request: POST https://api.openai.com/v1/chat/completions \"HTTP/1.1 200 OK\"\n"
          ]
        },
        {
          "data": {
            "text/html": [
              "<pre style=\"white-space:pre;overflow-x:auto;line-height:normal;font-family:Menlo,'DejaVu Sans Mono',consolas,'Courier New',monospace\">Generating response for: What genre did the filmmakers forget to add to their list for JOHN WICK, CHAPTER <span style=\"color: #008080; text-decoration-color: #008080; font-weight: bold\">3</span> : \n",
              "PARABELLUM, and how does the film's style compare to other action films?\n",
              "</pre>\n"
            ],
            "text/plain": [
              "Generating response for: What genre did the filmmakers forget to add to their list for JOHN WICK, CHAPTER \u001b[1;36m3\u001b[0m : \n",
              "PARABELLUM, and how does the film's style compare to other action films?\n"
            ]
          },
          "metadata": {},
          "output_type": "display_data"
        },
        {
          "name": "stderr",
          "output_type": "stream",
          "text": [
            "INFO:httpx:HTTP Request: POST https://api.openai.com/v1/chat/completions \"HTTP/1.1 200 OK\"\n"
          ]
        },
        {
          "data": {
            "text/html": [
              "<pre style=\"white-space:pre;overflow-x:auto;line-height:normal;font-family:Menlo,'DejaVu Sans Mono',consolas,'Courier New',monospace\">Generating response for: How does the involvement of Russian mobsters in John Wick's life contribute to the overall\n",
              "narrative and character development in the film?\n",
              "</pre>\n"
            ],
            "text/plain": [
              "Generating response for: How does the involvement of Russian mobsters in John Wick's life contribute to the overall\n",
              "narrative and character development in the film?\n"
            ]
          },
          "metadata": {},
          "output_type": "display_data"
        },
        {
          "name": "stderr",
          "output_type": "stream",
          "text": [
            "INFO:httpx:HTTP Request: POST https://api.openai.com/v1/chat/completions \"HTTP/1.1 200 OK\"\n"
          ]
        },
        {
          "data": {
            "text/html": [
              "<pre style=\"white-space:pre;overflow-x:auto;line-height:normal;font-family:Menlo,'DejaVu Sans Mono',consolas,'Courier New',monospace\">Generating response for: What makes John Wick <span style=\"color: #008080; text-decoration-color: #008080; font-weight: bold\">3</span> stand out as an action movie compared to the original John Wick?\n",
              "</pre>\n"
            ],
            "text/plain": [
              "Generating response for: What makes John Wick \u001b[1;36m3\u001b[0m stand out as an action movie compared to the original John Wick?\n"
            ]
          },
          "metadata": {},
          "output_type": "display_data"
        },
        {
          "name": "stderr",
          "output_type": "stream",
          "text": [
            "INFO:httpx:HTTP Request: POST https://api.openai.com/v1/chat/completions \"HTTP/1.1 200 OK\"\n"
          ]
        },
        {
          "data": {
            "text/html": [
              "<pre style=\"white-space:pre;overflow-x:auto;line-height:normal;font-family:Menlo,'DejaVu Sans Mono',consolas,'Courier New',monospace\">Generating response for: Why is it considered a shame that Hollywood struggles with originality in action films, \n",
              "especially in the context of the John Wick franchise and the mess of the latest Keanu Reeves film?\n",
              "</pre>\n"
            ],
            "text/plain": [
              "Generating response for: Why is it considered a shame that Hollywood struggles with originality in action films, \n",
              "especially in the context of the John Wick franchise and the mess of the latest Keanu Reeves film?\n"
            ]
          },
          "metadata": {},
          "output_type": "display_data"
        },
        {
          "name": "stderr",
          "output_type": "stream",
          "text": [
            "INFO:httpx:HTTP Request: POST https://api.openai.com/v1/chat/completions \"HTTP/1.1 200 OK\"\n"
          ]
        },
        {
          "data": {
            "text/html": [
              "<pre style=\"white-space:pre;overflow-x:auto;line-height:normal;font-family:Menlo,'DejaVu Sans Mono',consolas,'Courier New',monospace\">Generating response for: What are the similarities and differences in the portrayal of Reeves' character in John \n",
              "Wick compared to typical action movie tropes?\n",
              "</pre>\n"
            ],
            "text/plain": [
              "Generating response for: What are the similarities and differences in the portrayal of Reeves' character in John \n",
              "Wick compared to typical action movie tropes?\n"
            ]
          },
          "metadata": {},
          "output_type": "display_data"
        },
        {
          "name": "stderr",
          "output_type": "stream",
          "text": [
            "INFO:httpx:HTTP Request: POST https://api.openai.com/v1/chat/completions \"HTTP/1.1 200 OK\"\n"
          ]
        },
        {
          "name": "stdout",
          "output_type": "stream",
          "text": [
            "View the evaluation results for experiment: 'john-wick-rag-dd37c5d7' at:\n",
            "https://smith.langchain.com/o/7acbdd88-ea69-5821-8eee-b1b6853db36b/datasets/18b367c1-c7ab-4dd5-aa21-9d2bc7b4bf59/compare?selectedSessions=eadba511-56d0-4307-9702-23da1e87a24d\n",
            "\n",
            "\n"
          ]
        },
        {
          "data": {
            "application/vnd.jupyter.widget-view+json": {
              "model_id": "f484370cb4c74a2b9fc4ee1d73f87e2c",
              "version_major": 2,
              "version_minor": 0
            },
            "text/plain": [
              "0it [00:00, ?it/s]"
            ]
          },
          "metadata": {},
          "output_type": "display_data"
        },
        {
          "name": "stderr",
          "output_type": "stream",
          "text": [
            "INFO:httpx:HTTP Request: POST https://api.openai.com/v1/chat/completions \"HTTP/1.1 200 OK\"\n",
            "INFO:httpx:HTTP Request: POST https://api.openai.com/v1/chat/completions \"HTTP/1.1 200 OK\"\n",
            "INFO:httpx:HTTP Request: POST https://api.openai.com/v1/chat/completions \"HTTP/1.1 200 OK\"\n",
            "INFO:httpx:HTTP Request: POST https://api.openai.com/v1/chat/completions \"HTTP/1.1 200 OK\"\n",
            "INFO:httpx:HTTP Request: POST https://api.openai.com/v1/chat/completions \"HTTP/1.1 200 OK\"\n",
            "INFO:httpx:HTTP Request: POST https://api.openai.com/v1/chat/completions \"HTTP/1.1 200 OK\"\n",
            "INFO:httpx:HTTP Request: POST https://api.openai.com/v1/chat/completions \"HTTP/1.1 200 OK\"\n",
            "INFO:httpx:HTTP Request: POST https://api.openai.com/v1/chat/completions \"HTTP/1.1 200 OK\"\n",
            "INFO:httpx:HTTP Request: POST https://api.openai.com/v1/chat/completions \"HTTP/1.1 200 OK\"\n",
            "INFO:httpx:HTTP Request: POST https://api.openai.com/v1/chat/completions \"HTTP/1.1 200 OK\"\n",
            "INFO:httpx:HTTP Request: POST https://api.openai.com/v1/chat/completions \"HTTP/1.1 200 OK\"\n",
            "INFO:httpx:HTTP Request: POST https://api.openai.com/v1/chat/completions \"HTTP/1.1 200 OK\"\n",
            "INFO:httpx:HTTP Request: POST https://api.openai.com/v1/chat/completions \"HTTP/1.1 200 OK\"\n",
            "INFO:httpx:HTTP Request: POST https://api.openai.com/v1/chat/completions \"HTTP/1.1 200 OK\"\n",
            "INFO:httpx:HTTP Request: POST https://api.openai.com/v1/chat/completions \"HTTP/1.1 200 OK\"\n",
            "INFO:httpx:HTTP Request: POST https://api.openai.com/v1/chat/completions \"HTTP/1.1 200 OK\"\n",
            "INFO:httpx:HTTP Request: POST https://api.openai.com/v1/chat/completions \"HTTP/1.1 200 OK\"\n",
            "INFO:httpx:HTTP Request: POST https://api.openai.com/v1/chat/completions \"HTTP/1.1 200 OK\"\n",
            "INFO:httpx:HTTP Request: POST https://api.openai.com/v1/chat/completions \"HTTP/1.1 200 OK\"\n",
            "INFO:httpx:HTTP Request: POST https://api.openai.com/v1/chat/completions \"HTTP/1.1 200 OK\"\n",
            "INFO:httpx:HTTP Request: POST https://api.openai.com/v1/chat/completions \"HTTP/1.1 200 OK\"\n",
            "INFO:httpx:HTTP Request: POST https://api.openai.com/v1/chat/completions \"HTTP/1.1 200 OK\"\n",
            "INFO:httpx:HTTP Request: POST https://api.openai.com/v1/chat/completions \"HTTP/1.1 200 OK\"\n",
            "INFO:httpx:HTTP Request: POST https://api.openai.com/v1/chat/completions \"HTTP/1.1 200 OK\"\n",
            "INFO:httpx:HTTP Request: POST https://api.openai.com/v1/chat/completions \"HTTP/1.1 200 OK\"\n",
            "INFO:httpx:HTTP Request: POST https://api.openai.com/v1/chat/completions \"HTTP/1.1 200 OK\"\n",
            "INFO:httpx:HTTP Request: POST https://api.openai.com/v1/chat/completions \"HTTP/1.1 200 OK\"\n",
            "INFO:httpx:HTTP Request: POST https://api.openai.com/v1/chat/completions \"HTTP/1.1 200 OK\"\n",
            "INFO:httpx:HTTP Request: POST https://api.openai.com/v1/chat/completions \"HTTP/1.1 200 OK\"\n",
            "INFO:httpx:HTTP Request: POST https://api.openai.com/v1/chat/completions \"HTTP/1.1 200 OK\"\n",
            "INFO:__main__:Evaluating Naive\n"
          ]
        },
        {
          "data": {
            "text/html": [
              "<pre style=\"white-space:pre;overflow-x:auto;line-height:normal;font-family:Menlo,'DejaVu Sans Mono',consolas,'Courier New',monospace\">Generating response for: Why Keanu Reeves in John Wick?\n",
              "</pre>\n"
            ],
            "text/plain": [
              "Generating response for: Why Keanu Reeves in John Wick?\n"
            ]
          },
          "metadata": {},
          "output_type": "display_data"
        },
        {
          "name": "stderr",
          "output_type": "stream",
          "text": [
            "INFO:httpx:HTTP Request: POST https://api.openai.com/v1/embeddings \"HTTP/1.1 200 OK\"\n",
            "INFO:httpx:HTTP Request: POST https://api.openai.com/v1/chat/completions \"HTTP/1.1 200 OK\"\n"
          ]
        },
        {
          "data": {
            "text/html": [
              "<pre style=\"white-space:pre;overflow-x:auto;line-height:normal;font-family:Menlo,'DejaVu Sans Mono',consolas,'Courier New',monospace\">Generating response for: What is the general reception of the John Wick series?\n",
              "</pre>\n"
            ],
            "text/plain": [
              "Generating response for: What is the general reception of the John Wick series?\n"
            ]
          },
          "metadata": {},
          "output_type": "display_data"
        },
        {
          "name": "stderr",
          "output_type": "stream",
          "text": [
            "INFO:httpx:HTTP Request: POST https://api.openai.com/v1/embeddings \"HTTP/1.1 200 OK\"\n",
            "INFO:httpx:HTTP Request: POST https://api.openai.com/v1/chat/completions \"HTTP/1.1 200 OK\"\n"
          ]
        },
        {
          "data": {
            "text/html": [
              "<pre style=\"white-space:pre;overflow-x:auto;line-height:normal;font-family:Menlo,'DejaVu Sans Mono',consolas,'Courier New',monospace\">Generating response for: What is the main plot of the movie John wick with Keanu?\n",
              "</pre>\n"
            ],
            "text/plain": [
              "Generating response for: What is the main plot of the movie John wick with Keanu?\n"
            ]
          },
          "metadata": {},
          "output_type": "display_data"
        },
        {
          "name": "stderr",
          "output_type": "stream",
          "text": [
            "INFO:httpx:HTTP Request: POST https://api.openai.com/v1/embeddings \"HTTP/1.1 200 OK\"\n",
            "INFO:httpx:HTTP Request: POST https://api.openai.com/v1/chat/completions \"HTTP/1.1 200 OK\"\n"
          ]
        },
        {
          "data": {
            "text/html": [
              "<pre style=\"white-space:pre;overflow-x:auto;line-height:normal;font-family:Menlo,'DejaVu Sans Mono',consolas,'Courier New',monospace\">Generating response for: How does Keanu Reeves' portrayal of John Wick contribute to the film's overall impact and \n",
              "character development?\n",
              "</pre>\n"
            ],
            "text/plain": [
              "Generating response for: How does Keanu Reeves' portrayal of John Wick contribute to the film's overall impact and \n",
              "character development?\n"
            ]
          },
          "metadata": {},
          "output_type": "display_data"
        },
        {
          "name": "stderr",
          "output_type": "stream",
          "text": [
            "INFO:httpx:HTTP Request: POST https://api.openai.com/v1/embeddings \"HTTP/1.1 200 OK\"\n",
            "INFO:httpx:HTTP Request: POST https://api.openai.com/v1/chat/completions \"HTTP/1.1 200 OK\"\n"
          ]
        },
        {
          "data": {
            "text/html": [
              "<pre style=\"white-space:pre;overflow-x:auto;line-height:normal;font-family:Menlo,'DejaVu Sans Mono',consolas,'Courier New',monospace\">Generating response for: How does the character of the Russian mob prince contribute to the overall narrative of \n",
              "John Wick?\n",
              "</pre>\n"
            ],
            "text/plain": [
              "Generating response for: How does the character of the Russian mob prince contribute to the overall narrative of \n",
              "John Wick?\n"
            ]
          },
          "metadata": {},
          "output_type": "display_data"
        },
        {
          "name": "stderr",
          "output_type": "stream",
          "text": [
            "INFO:httpx:HTTP Request: POST https://api.openai.com/v1/embeddings \"HTTP/1.1 200 OK\"\n",
            "INFO:httpx:HTTP Request: POST https://api.openai.com/v1/chat/completions \"HTTP/1.1 200 OK\"\n"
          ]
        },
        {
          "data": {
            "text/html": [
              "<pre style=\"white-space:pre;overflow-x:auto;line-height:normal;font-family:Menlo,'DejaVu Sans Mono',consolas,'Courier New',monospace\">Generating response for: What genre did the filmmakers forget to add to their list for JOHN WICK, CHAPTER <span style=\"color: #008080; text-decoration-color: #008080; font-weight: bold\">3</span> : \n",
              "PARABELLUM, and how does the film's style compare to other action films?\n",
              "</pre>\n"
            ],
            "text/plain": [
              "Generating response for: What genre did the filmmakers forget to add to their list for JOHN WICK, CHAPTER \u001b[1;36m3\u001b[0m : \n",
              "PARABELLUM, and how does the film's style compare to other action films?\n"
            ]
          },
          "metadata": {},
          "output_type": "display_data"
        },
        {
          "name": "stderr",
          "output_type": "stream",
          "text": [
            "INFO:httpx:HTTP Request: POST https://api.openai.com/v1/embeddings \"HTTP/1.1 200 OK\"\n",
            "INFO:httpx:HTTP Request: POST https://api.openai.com/v1/chat/completions \"HTTP/1.1 200 OK\"\n"
          ]
        },
        {
          "data": {
            "text/html": [
              "<pre style=\"white-space:pre;overflow-x:auto;line-height:normal;font-family:Menlo,'DejaVu Sans Mono',consolas,'Courier New',monospace\">Generating response for: How does the involvement of Russian mobsters in John Wick's life contribute to the overall\n",
              "narrative and character development in the film?\n",
              "</pre>\n"
            ],
            "text/plain": [
              "Generating response for: How does the involvement of Russian mobsters in John Wick's life contribute to the overall\n",
              "narrative and character development in the film?\n"
            ]
          },
          "metadata": {},
          "output_type": "display_data"
        },
        {
          "name": "stderr",
          "output_type": "stream",
          "text": [
            "INFO:httpx:HTTP Request: POST https://api.openai.com/v1/embeddings \"HTTP/1.1 200 OK\"\n",
            "INFO:httpx:HTTP Request: POST https://api.openai.com/v1/chat/completions \"HTTP/1.1 200 OK\"\n"
          ]
        },
        {
          "data": {
            "text/html": [
              "<pre style=\"white-space:pre;overflow-x:auto;line-height:normal;font-family:Menlo,'DejaVu Sans Mono',consolas,'Courier New',monospace\">Generating response for: What makes John Wick <span style=\"color: #008080; text-decoration-color: #008080; font-weight: bold\">3</span> stand out as an action movie compared to the original John Wick?\n",
              "</pre>\n"
            ],
            "text/plain": [
              "Generating response for: What makes John Wick \u001b[1;36m3\u001b[0m stand out as an action movie compared to the original John Wick?\n"
            ]
          },
          "metadata": {},
          "output_type": "display_data"
        },
        {
          "name": "stderr",
          "output_type": "stream",
          "text": [
            "INFO:httpx:HTTP Request: POST https://api.openai.com/v1/embeddings \"HTTP/1.1 200 OK\"\n",
            "INFO:httpx:HTTP Request: POST https://api.openai.com/v1/chat/completions \"HTTP/1.1 200 OK\"\n"
          ]
        },
        {
          "data": {
            "text/html": [
              "<pre style=\"white-space:pre;overflow-x:auto;line-height:normal;font-family:Menlo,'DejaVu Sans Mono',consolas,'Courier New',monospace\">Generating response for: Why is it considered a shame that Hollywood struggles with originality in action films, \n",
              "especially in the context of the John Wick franchise and the mess of the latest Keanu Reeves film?\n",
              "</pre>\n"
            ],
            "text/plain": [
              "Generating response for: Why is it considered a shame that Hollywood struggles with originality in action films, \n",
              "especially in the context of the John Wick franchise and the mess of the latest Keanu Reeves film?\n"
            ]
          },
          "metadata": {},
          "output_type": "display_data"
        },
        {
          "name": "stderr",
          "output_type": "stream",
          "text": [
            "INFO:httpx:HTTP Request: POST https://api.openai.com/v1/embeddings \"HTTP/1.1 200 OK\"\n",
            "INFO:httpx:HTTP Request: POST https://api.openai.com/v1/chat/completions \"HTTP/1.1 200 OK\"\n"
          ]
        },
        {
          "data": {
            "text/html": [
              "<pre style=\"white-space:pre;overflow-x:auto;line-height:normal;font-family:Menlo,'DejaVu Sans Mono',consolas,'Courier New',monospace\">Generating response for: What are the similarities and differences in the portrayal of Reeves' character in John \n",
              "Wick compared to typical action movie tropes?\n",
              "</pre>\n"
            ],
            "text/plain": [
              "Generating response for: What are the similarities and differences in the portrayal of Reeves' character in John \n",
              "Wick compared to typical action movie tropes?\n"
            ]
          },
          "metadata": {},
          "output_type": "display_data"
        },
        {
          "name": "stderr",
          "output_type": "stream",
          "text": [
            "INFO:httpx:HTTP Request: POST https://api.openai.com/v1/embeddings \"HTTP/1.1 200 OK\"\n",
            "INFO:httpx:HTTP Request: POST https://api.openai.com/v1/chat/completions \"HTTP/1.1 200 OK\"\n"
          ]
        },
        {
          "name": "stdout",
          "output_type": "stream",
          "text": [
            "View the evaluation results for experiment: 'john-wick-rag-b5f82ae1' at:\n",
            "https://smith.langchain.com/o/7acbdd88-ea69-5821-8eee-b1b6853db36b/datasets/13875c70-8eee-4080-9b93-361217376404/compare?selectedSessions=c62dc274-51f8-45b4-ad91-f32ac548f2a8\n",
            "\n",
            "\n"
          ]
        },
        {
          "data": {
            "application/vnd.jupyter.widget-view+json": {
              "model_id": "79e119fb71524687b0d9a9ae6f3ad872",
              "version_major": 2,
              "version_minor": 0
            },
            "text/plain": [
              "0it [00:00, ?it/s]"
            ]
          },
          "metadata": {},
          "output_type": "display_data"
        },
        {
          "name": "stderr",
          "output_type": "stream",
          "text": [
            "INFO:httpx:HTTP Request: POST https://api.openai.com/v1/embeddings \"HTTP/1.1 200 OK\"\n",
            "INFO:httpx:HTTP Request: POST https://api.openai.com/v1/chat/completions \"HTTP/1.1 200 OK\"\n",
            "INFO:httpx:HTTP Request: POST https://api.openai.com/v1/embeddings \"HTTP/1.1 200 OK\"\n",
            "INFO:httpx:HTTP Request: POST https://api.openai.com/v1/chat/completions \"HTTP/1.1 200 OK\"\n",
            "INFO:httpx:HTTP Request: POST https://api.openai.com/v1/embeddings \"HTTP/1.1 200 OK\"\n",
            "INFO:httpx:HTTP Request: POST https://api.openai.com/v1/chat/completions \"HTTP/1.1 200 OK\"\n",
            "INFO:httpx:HTTP Request: POST https://api.openai.com/v1/embeddings \"HTTP/1.1 200 OK\"\n",
            "INFO:httpx:HTTP Request: POST https://api.openai.com/v1/chat/completions \"HTTP/1.1 200 OK\"\n",
            "INFO:httpx:HTTP Request: POST https://api.openai.com/v1/embeddings \"HTTP/1.1 200 OK\"\n",
            "INFO:httpx:HTTP Request: POST https://api.openai.com/v1/chat/completions \"HTTP/1.1 200 OK\"\n",
            "INFO:httpx:HTTP Request: POST https://api.openai.com/v1/embeddings \"HTTP/1.1 200 OK\"\n",
            "INFO:httpx:HTTP Request: POST https://api.openai.com/v1/chat/completions \"HTTP/1.1 200 OK\"\n",
            "INFO:httpx:HTTP Request: POST https://api.openai.com/v1/embeddings \"HTTP/1.1 200 OK\"\n",
            "INFO:httpx:HTTP Request: POST https://api.openai.com/v1/chat/completions \"HTTP/1.1 200 OK\"\n",
            "INFO:httpx:HTTP Request: POST https://api.openai.com/v1/embeddings \"HTTP/1.1 200 OK\"\n",
            "INFO:httpx:HTTP Request: POST https://api.openai.com/v1/chat/completions \"HTTP/1.1 200 OK\"\n",
            "INFO:httpx:HTTP Request: POST https://api.openai.com/v1/embeddings \"HTTP/1.1 200 OK\"\n",
            "INFO:httpx:HTTP Request: POST https://api.openai.com/v1/chat/completions \"HTTP/1.1 200 OK\"\n",
            "INFO:httpx:HTTP Request: POST https://api.openai.com/v1/embeddings \"HTTP/1.1 200 OK\"\n",
            "INFO:httpx:HTTP Request: POST https://api.openai.com/v1/chat/completions \"HTTP/1.1 200 OK\"\n",
            "INFO:httpx:HTTP Request: POST https://api.openai.com/v1/embeddings \"HTTP/1.1 200 OK\"\n",
            "INFO:httpx:HTTP Request: POST https://api.openai.com/v1/chat/completions \"HTTP/1.1 200 OK\"\n",
            "INFO:httpx:HTTP Request: POST https://api.openai.com/v1/embeddings \"HTTP/1.1 200 OK\"\n",
            "INFO:httpx:HTTP Request: POST https://api.openai.com/v1/chat/completions \"HTTP/1.1 200 OK\"\n",
            "INFO:httpx:HTTP Request: POST https://api.openai.com/v1/embeddings \"HTTP/1.1 200 OK\"\n",
            "INFO:httpx:HTTP Request: POST https://api.openai.com/v1/chat/completions \"HTTP/1.1 200 OK\"\n",
            "INFO:httpx:HTTP Request: POST https://api.openai.com/v1/embeddings \"HTTP/1.1 200 OK\"\n",
            "INFO:httpx:HTTP Request: POST https://api.openai.com/v1/chat/completions \"HTTP/1.1 200 OK\"\n",
            "INFO:httpx:HTTP Request: POST https://api.openai.com/v1/embeddings \"HTTP/1.1 200 OK\"\n",
            "INFO:httpx:HTTP Request: POST https://api.openai.com/v1/chat/completions \"HTTP/1.1 200 OK\"\n",
            "INFO:httpx:HTTP Request: POST https://api.openai.com/v1/embeddings \"HTTP/1.1 200 OK\"\n",
            "INFO:httpx:HTTP Request: POST https://api.openai.com/v1/chat/completions \"HTTP/1.1 200 OK\"\n",
            "INFO:httpx:HTTP Request: POST https://api.openai.com/v1/embeddings \"HTTP/1.1 200 OK\"\n",
            "INFO:httpx:HTTP Request: POST https://api.openai.com/v1/chat/completions \"HTTP/1.1 200 OK\"\n",
            "INFO:httpx:HTTP Request: POST https://api.openai.com/v1/embeddings \"HTTP/1.1 200 OK\"\n",
            "INFO:httpx:HTTP Request: POST https://api.openai.com/v1/chat/completions \"HTTP/1.1 200 OK\"\n",
            "INFO:httpx:HTTP Request: POST https://api.openai.com/v1/embeddings \"HTTP/1.1 200 OK\"\n",
            "INFO:httpx:HTTP Request: POST https://api.openai.com/v1/chat/completions \"HTTP/1.1 200 OK\"\n",
            "INFO:httpx:HTTP Request: POST https://api.openai.com/v1/embeddings \"HTTP/1.1 200 OK\"\n",
            "INFO:httpx:HTTP Request: POST https://api.openai.com/v1/chat/completions \"HTTP/1.1 200 OK\"\n",
            "INFO:httpx:HTTP Request: POST https://api.openai.com/v1/embeddings \"HTTP/1.1 200 OK\"\n",
            "INFO:httpx:HTTP Request: POST https://api.openai.com/v1/chat/completions \"HTTP/1.1 200 OK\"\n",
            "INFO:httpx:HTTP Request: POST https://api.openai.com/v1/embeddings \"HTTP/1.1 200 OK\"\n",
            "INFO:httpx:HTTP Request: POST https://api.openai.com/v1/chat/completions \"HTTP/1.1 200 OK\"\n",
            "INFO:httpx:HTTP Request: POST https://api.openai.com/v1/embeddings \"HTTP/1.1 200 OK\"\n",
            "INFO:httpx:HTTP Request: POST https://api.openai.com/v1/chat/completions \"HTTP/1.1 200 OK\"\n",
            "INFO:httpx:HTTP Request: POST https://api.openai.com/v1/embeddings \"HTTP/1.1 200 OK\"\n",
            "INFO:httpx:HTTP Request: POST https://api.openai.com/v1/chat/completions \"HTTP/1.1 200 OK\"\n",
            "INFO:httpx:HTTP Request: POST https://api.openai.com/v1/embeddings \"HTTP/1.1 200 OK\"\n",
            "INFO:httpx:HTTP Request: POST https://api.openai.com/v1/chat/completions \"HTTP/1.1 200 OK\"\n",
            "INFO:httpx:HTTP Request: POST https://api.openai.com/v1/embeddings \"HTTP/1.1 200 OK\"\n",
            "INFO:httpx:HTTP Request: POST https://api.openai.com/v1/chat/completions \"HTTP/1.1 200 OK\"\n",
            "INFO:httpx:HTTP Request: POST https://api.openai.com/v1/embeddings \"HTTP/1.1 200 OK\"\n",
            "INFO:httpx:HTTP Request: POST https://api.openai.com/v1/chat/completions \"HTTP/1.1 200 OK\"\n",
            "INFO:__main__:Evaluating Parent Document\n"
          ]
        },
        {
          "data": {
            "text/html": [
              "<pre style=\"white-space:pre;overflow-x:auto;line-height:normal;font-family:Menlo,'DejaVu Sans Mono',consolas,'Courier New',monospace\">Generating response for: Why Keanu Reeves in John Wick?\n",
              "</pre>\n"
            ],
            "text/plain": [
              "Generating response for: Why Keanu Reeves in John Wick?\n"
            ]
          },
          "metadata": {},
          "output_type": "display_data"
        },
        {
          "name": "stderr",
          "output_type": "stream",
          "text": [
            "INFO:httpx:HTTP Request: POST https://api.openai.com/v1/embeddings \"HTTP/1.1 200 OK\"\n",
            "INFO:httpx:HTTP Request: POST https://api.openai.com/v1/chat/completions \"HTTP/1.1 200 OK\"\n"
          ]
        },
        {
          "data": {
            "text/html": [
              "<pre style=\"white-space:pre;overflow-x:auto;line-height:normal;font-family:Menlo,'DejaVu Sans Mono',consolas,'Courier New',monospace\">Generating response for: What is the general reception of the John Wick series?\n",
              "</pre>\n"
            ],
            "text/plain": [
              "Generating response for: What is the general reception of the John Wick series?\n"
            ]
          },
          "metadata": {},
          "output_type": "display_data"
        },
        {
          "name": "stderr",
          "output_type": "stream",
          "text": [
            "INFO:httpx:HTTP Request: POST https://api.openai.com/v1/embeddings \"HTTP/1.1 200 OK\"\n",
            "INFO:httpx:HTTP Request: POST https://api.openai.com/v1/chat/completions \"HTTP/1.1 200 OK\"\n"
          ]
        },
        {
          "data": {
            "text/html": [
              "<pre style=\"white-space:pre;overflow-x:auto;line-height:normal;font-family:Menlo,'DejaVu Sans Mono',consolas,'Courier New',monospace\">Generating response for: What is the main plot of the movie John wick with Keanu?\n",
              "</pre>\n"
            ],
            "text/plain": [
              "Generating response for: What is the main plot of the movie John wick with Keanu?\n"
            ]
          },
          "metadata": {},
          "output_type": "display_data"
        },
        {
          "name": "stderr",
          "output_type": "stream",
          "text": [
            "INFO:httpx:HTTP Request: POST https://api.openai.com/v1/embeddings \"HTTP/1.1 200 OK\"\n",
            "INFO:httpx:HTTP Request: POST https://api.openai.com/v1/chat/completions \"HTTP/1.1 200 OK\"\n"
          ]
        },
        {
          "data": {
            "text/html": [
              "<pre style=\"white-space:pre;overflow-x:auto;line-height:normal;font-family:Menlo,'DejaVu Sans Mono',consolas,'Courier New',monospace\">Generating response for: How does Keanu Reeves' portrayal of John Wick contribute to the film's overall impact and \n",
              "character development?\n",
              "</pre>\n"
            ],
            "text/plain": [
              "Generating response for: How does Keanu Reeves' portrayal of John Wick contribute to the film's overall impact and \n",
              "character development?\n"
            ]
          },
          "metadata": {},
          "output_type": "display_data"
        },
        {
          "name": "stderr",
          "output_type": "stream",
          "text": [
            "INFO:httpx:HTTP Request: POST https://api.openai.com/v1/embeddings \"HTTP/1.1 200 OK\"\n",
            "INFO:httpx:HTTP Request: POST https://api.openai.com/v1/chat/completions \"HTTP/1.1 200 OK\"\n"
          ]
        },
        {
          "data": {
            "text/html": [
              "<pre style=\"white-space:pre;overflow-x:auto;line-height:normal;font-family:Menlo,'DejaVu Sans Mono',consolas,'Courier New',monospace\">Generating response for: How does the character of the Russian mob prince contribute to the overall narrative of \n",
              "John Wick?\n",
              "</pre>\n"
            ],
            "text/plain": [
              "Generating response for: How does the character of the Russian mob prince contribute to the overall narrative of \n",
              "John Wick?\n"
            ]
          },
          "metadata": {},
          "output_type": "display_data"
        },
        {
          "name": "stderr",
          "output_type": "stream",
          "text": [
            "INFO:httpx:HTTP Request: POST https://api.openai.com/v1/embeddings \"HTTP/1.1 200 OK\"\n",
            "INFO:httpx:HTTP Request: POST https://api.openai.com/v1/chat/completions \"HTTP/1.1 200 OK\"\n"
          ]
        },
        {
          "data": {
            "text/html": [
              "<pre style=\"white-space:pre;overflow-x:auto;line-height:normal;font-family:Menlo,'DejaVu Sans Mono',consolas,'Courier New',monospace\">Generating response for: What genre did the filmmakers forget to add to their list for JOHN WICK, CHAPTER <span style=\"color: #008080; text-decoration-color: #008080; font-weight: bold\">3</span> : \n",
              "PARABELLUM, and how does the film's style compare to other action films?\n",
              "</pre>\n"
            ],
            "text/plain": [
              "Generating response for: What genre did the filmmakers forget to add to their list for JOHN WICK, CHAPTER \u001b[1;36m3\u001b[0m : \n",
              "PARABELLUM, and how does the film's style compare to other action films?\n"
            ]
          },
          "metadata": {},
          "output_type": "display_data"
        },
        {
          "name": "stderr",
          "output_type": "stream",
          "text": [
            "INFO:httpx:HTTP Request: POST https://api.openai.com/v1/embeddings \"HTTP/1.1 200 OK\"\n",
            "INFO:httpx:HTTP Request: POST https://api.openai.com/v1/chat/completions \"HTTP/1.1 200 OK\"\n"
          ]
        },
        {
          "data": {
            "text/html": [
              "<pre style=\"white-space:pre;overflow-x:auto;line-height:normal;font-family:Menlo,'DejaVu Sans Mono',consolas,'Courier New',monospace\">Generating response for: How does the involvement of Russian mobsters in John Wick's life contribute to the overall\n",
              "narrative and character development in the film?\n",
              "</pre>\n"
            ],
            "text/plain": [
              "Generating response for: How does the involvement of Russian mobsters in John Wick's life contribute to the overall\n",
              "narrative and character development in the film?\n"
            ]
          },
          "metadata": {},
          "output_type": "display_data"
        },
        {
          "name": "stderr",
          "output_type": "stream",
          "text": [
            "INFO:httpx:HTTP Request: POST https://api.openai.com/v1/embeddings \"HTTP/1.1 200 OK\"\n",
            "INFO:httpx:HTTP Request: POST https://api.openai.com/v1/chat/completions \"HTTP/1.1 200 OK\"\n"
          ]
        },
        {
          "data": {
            "text/html": [
              "<pre style=\"white-space:pre;overflow-x:auto;line-height:normal;font-family:Menlo,'DejaVu Sans Mono',consolas,'Courier New',monospace\">Generating response for: What makes John Wick <span style=\"color: #008080; text-decoration-color: #008080; font-weight: bold\">3</span> stand out as an action movie compared to the original John Wick?\n",
              "</pre>\n"
            ],
            "text/plain": [
              "Generating response for: What makes John Wick \u001b[1;36m3\u001b[0m stand out as an action movie compared to the original John Wick?\n"
            ]
          },
          "metadata": {},
          "output_type": "display_data"
        },
        {
          "name": "stderr",
          "output_type": "stream",
          "text": [
            "INFO:httpx:HTTP Request: POST https://api.openai.com/v1/embeddings \"HTTP/1.1 200 OK\"\n",
            "INFO:httpx:HTTP Request: POST https://api.openai.com/v1/chat/completions \"HTTP/1.1 200 OK\"\n"
          ]
        },
        {
          "data": {
            "text/html": [
              "<pre style=\"white-space:pre;overflow-x:auto;line-height:normal;font-family:Menlo,'DejaVu Sans Mono',consolas,'Courier New',monospace\">Generating response for: Why is it considered a shame that Hollywood struggles with originality in action films, \n",
              "especially in the context of the John Wick franchise and the mess of the latest Keanu Reeves film?\n",
              "</pre>\n"
            ],
            "text/plain": [
              "Generating response for: Why is it considered a shame that Hollywood struggles with originality in action films, \n",
              "especially in the context of the John Wick franchise and the mess of the latest Keanu Reeves film?\n"
            ]
          },
          "metadata": {},
          "output_type": "display_data"
        },
        {
          "name": "stderr",
          "output_type": "stream",
          "text": [
            "INFO:httpx:HTTP Request: POST https://api.openai.com/v1/embeddings \"HTTP/1.1 200 OK\"\n",
            "INFO:httpx:HTTP Request: POST https://api.openai.com/v1/chat/completions \"HTTP/1.1 200 OK\"\n"
          ]
        },
        {
          "data": {
            "text/html": [
              "<pre style=\"white-space:pre;overflow-x:auto;line-height:normal;font-family:Menlo,'DejaVu Sans Mono',consolas,'Courier New',monospace\">Generating response for: What are the similarities and differences in the portrayal of Reeves' character in John \n",
              "Wick compared to typical action movie tropes?\n",
              "</pre>\n"
            ],
            "text/plain": [
              "Generating response for: What are the similarities and differences in the portrayal of Reeves' character in John \n",
              "Wick compared to typical action movie tropes?\n"
            ]
          },
          "metadata": {},
          "output_type": "display_data"
        },
        {
          "name": "stderr",
          "output_type": "stream",
          "text": [
            "INFO:httpx:HTTP Request: POST https://api.openai.com/v1/embeddings \"HTTP/1.1 200 OK\"\n",
            "INFO:httpx:HTTP Request: POST https://api.openai.com/v1/chat/completions \"HTTP/1.1 200 OK\"\n"
          ]
        },
        {
          "name": "stdout",
          "output_type": "stream",
          "text": [
            "View the evaluation results for experiment: 'john-wick-rag-276f1362' at:\n",
            "https://smith.langchain.com/o/7acbdd88-ea69-5821-8eee-b1b6853db36b/datasets/00ccf17b-fdab-4962-8fc2-0f803a2b2d7b/compare?selectedSessions=98fff3c8-7d38-42b8-bd4a-ece39c5a0093\n",
            "\n",
            "\n"
          ]
        },
        {
          "data": {
            "application/vnd.jupyter.widget-view+json": {
              "model_id": "c88b619e125b456c9481c205d4eaef52",
              "version_major": 2,
              "version_minor": 0
            },
            "text/plain": [
              "0it [00:00, ?it/s]"
            ]
          },
          "metadata": {},
          "output_type": "display_data"
        },
        {
          "name": "stderr",
          "output_type": "stream",
          "text": [
            "INFO:httpx:HTTP Request: POST https://api.openai.com/v1/embeddings \"HTTP/1.1 200 OK\"\n",
            "INFO:httpx:HTTP Request: POST https://api.openai.com/v1/chat/completions \"HTTP/1.1 200 OK\"\n",
            "INFO:httpx:HTTP Request: POST https://api.openai.com/v1/embeddings \"HTTP/1.1 200 OK\"\n",
            "INFO:httpx:HTTP Request: POST https://api.openai.com/v1/chat/completions \"HTTP/1.1 200 OK\"\n",
            "INFO:httpx:HTTP Request: POST https://api.openai.com/v1/embeddings \"HTTP/1.1 200 OK\"\n",
            "INFO:httpx:HTTP Request: POST https://api.openai.com/v1/chat/completions \"HTTP/1.1 200 OK\"\n",
            "INFO:httpx:HTTP Request: POST https://api.openai.com/v1/embeddings \"HTTP/1.1 200 OK\"\n",
            "INFO:httpx:HTTP Request: POST https://api.openai.com/v1/chat/completions \"HTTP/1.1 200 OK\"\n",
            "INFO:httpx:HTTP Request: POST https://api.openai.com/v1/embeddings \"HTTP/1.1 200 OK\"\n",
            "INFO:httpx:HTTP Request: POST https://api.openai.com/v1/chat/completions \"HTTP/1.1 200 OK\"\n",
            "INFO:httpx:HTTP Request: POST https://api.openai.com/v1/embeddings \"HTTP/1.1 200 OK\"\n",
            "INFO:httpx:HTTP Request: POST https://api.openai.com/v1/chat/completions \"HTTP/1.1 200 OK\"\n",
            "INFO:httpx:HTTP Request: POST https://api.openai.com/v1/embeddings \"HTTP/1.1 200 OK\"\n",
            "INFO:httpx:HTTP Request: POST https://api.openai.com/v1/chat/completions \"HTTP/1.1 200 OK\"\n",
            "INFO:httpx:HTTP Request: POST https://api.openai.com/v1/embeddings \"HTTP/1.1 200 OK\"\n",
            "INFO:httpx:HTTP Request: POST https://api.openai.com/v1/chat/completions \"HTTP/1.1 200 OK\"\n",
            "INFO:httpx:HTTP Request: POST https://api.openai.com/v1/embeddings \"HTTP/1.1 200 OK\"\n",
            "INFO:httpx:HTTP Request: POST https://api.openai.com/v1/chat/completions \"HTTP/1.1 200 OK\"\n",
            "INFO:httpx:HTTP Request: POST https://api.openai.com/v1/embeddings \"HTTP/1.1 200 OK\"\n",
            "INFO:httpx:HTTP Request: POST https://api.openai.com/v1/chat/completions \"HTTP/1.1 200 OK\"\n",
            "INFO:__main__:Evaluating Contextual Compression\n"
          ]
        },
        {
          "data": {
            "text/html": [
              "<pre style=\"white-space:pre;overflow-x:auto;line-height:normal;font-family:Menlo,'DejaVu Sans Mono',consolas,'Courier New',monospace\">Generating response for: Why Keanu Reeves in John Wick?\n",
              "</pre>\n"
            ],
            "text/plain": [
              "Generating response for: Why Keanu Reeves in John Wick?\n"
            ]
          },
          "metadata": {},
          "output_type": "display_data"
        },
        {
          "name": "stderr",
          "output_type": "stream",
          "text": [
            "INFO:httpx:HTTP Request: POST https://api.openai.com/v1/embeddings \"HTTP/1.1 200 OK\"\n",
            "INFO:httpx:HTTP Request: POST https://api.cohere.com/v2/rerank \"HTTP/1.1 200 OK\"\n",
            "INFO:httpx:HTTP Request: POST https://api.openai.com/v1/chat/completions \"HTTP/1.1 200 OK\"\n"
          ]
        },
        {
          "data": {
            "text/html": [
              "<pre style=\"white-space:pre;overflow-x:auto;line-height:normal;font-family:Menlo,'DejaVu Sans Mono',consolas,'Courier New',monospace\">Generating response for: What is the general reception of the John Wick series?\n",
              "</pre>\n"
            ],
            "text/plain": [
              "Generating response for: What is the general reception of the John Wick series?\n"
            ]
          },
          "metadata": {},
          "output_type": "display_data"
        },
        {
          "name": "stderr",
          "output_type": "stream",
          "text": [
            "INFO:httpx:HTTP Request: POST https://api.openai.com/v1/embeddings \"HTTP/1.1 200 OK\"\n",
            "INFO:httpx:HTTP Request: POST https://api.cohere.com/v2/rerank \"HTTP/1.1 200 OK\"\n",
            "INFO:httpx:HTTP Request: POST https://api.openai.com/v1/chat/completions \"HTTP/1.1 200 OK\"\n"
          ]
        },
        {
          "data": {
            "text/html": [
              "<pre style=\"white-space:pre;overflow-x:auto;line-height:normal;font-family:Menlo,'DejaVu Sans Mono',consolas,'Courier New',monospace\">Generating response for: What is the main plot of the movie John wick with Keanu?\n",
              "</pre>\n"
            ],
            "text/plain": [
              "Generating response for: What is the main plot of the movie John wick with Keanu?\n"
            ]
          },
          "metadata": {},
          "output_type": "display_data"
        },
        {
          "name": "stderr",
          "output_type": "stream",
          "text": [
            "INFO:httpx:HTTP Request: POST https://api.openai.com/v1/embeddings \"HTTP/1.1 200 OK\"\n",
            "INFO:httpx:HTTP Request: POST https://api.cohere.com/v2/rerank \"HTTP/1.1 200 OK\"\n",
            "INFO:httpx:HTTP Request: POST https://api.openai.com/v1/chat/completions \"HTTP/1.1 200 OK\"\n"
          ]
        },
        {
          "data": {
            "text/html": [
              "<pre style=\"white-space:pre;overflow-x:auto;line-height:normal;font-family:Menlo,'DejaVu Sans Mono',consolas,'Courier New',monospace\">Generating response for: How does Keanu Reeves' portrayal of John Wick contribute to the film's overall impact and \n",
              "character development?\n",
              "</pre>\n"
            ],
            "text/plain": [
              "Generating response for: How does Keanu Reeves' portrayal of John Wick contribute to the film's overall impact and \n",
              "character development?\n"
            ]
          },
          "metadata": {},
          "output_type": "display_data"
        },
        {
          "name": "stderr",
          "output_type": "stream",
          "text": [
            "INFO:httpx:HTTP Request: POST https://api.openai.com/v1/embeddings \"HTTP/1.1 200 OK\"\n",
            "INFO:httpx:HTTP Request: POST https://api.cohere.com/v2/rerank \"HTTP/1.1 200 OK\"\n",
            "INFO:httpx:HTTP Request: POST https://api.openai.com/v1/chat/completions \"HTTP/1.1 200 OK\"\n"
          ]
        },
        {
          "data": {
            "text/html": [
              "<pre style=\"white-space:pre;overflow-x:auto;line-height:normal;font-family:Menlo,'DejaVu Sans Mono',consolas,'Courier New',monospace\">Generating response for: How does the character of the Russian mob prince contribute to the overall narrative of \n",
              "John Wick?\n",
              "</pre>\n"
            ],
            "text/plain": [
              "Generating response for: How does the character of the Russian mob prince contribute to the overall narrative of \n",
              "John Wick?\n"
            ]
          },
          "metadata": {},
          "output_type": "display_data"
        },
        {
          "name": "stderr",
          "output_type": "stream",
          "text": [
            "INFO:httpx:HTTP Request: POST https://api.openai.com/v1/embeddings \"HTTP/1.1 200 OK\"\n",
            "INFO:httpx:HTTP Request: POST https://api.cohere.com/v2/rerank \"HTTP/1.1 200 OK\"\n",
            "INFO:httpx:HTTP Request: POST https://api.openai.com/v1/chat/completions \"HTTP/1.1 200 OK\"\n"
          ]
        },
        {
          "data": {
            "text/html": [
              "<pre style=\"white-space:pre;overflow-x:auto;line-height:normal;font-family:Menlo,'DejaVu Sans Mono',consolas,'Courier New',monospace\">Generating response for: What genre did the filmmakers forget to add to their list for JOHN WICK, CHAPTER <span style=\"color: #008080; text-decoration-color: #008080; font-weight: bold\">3</span> : \n",
              "PARABELLUM, and how does the film's style compare to other action films?\n",
              "</pre>\n"
            ],
            "text/plain": [
              "Generating response for: What genre did the filmmakers forget to add to their list for JOHN WICK, CHAPTER \u001b[1;36m3\u001b[0m : \n",
              "PARABELLUM, and how does the film's style compare to other action films?\n"
            ]
          },
          "metadata": {},
          "output_type": "display_data"
        },
        {
          "name": "stderr",
          "output_type": "stream",
          "text": [
            "INFO:httpx:HTTP Request: POST https://api.openai.com/v1/embeddings \"HTTP/1.1 200 OK\"\n",
            "INFO:httpx:HTTP Request: POST https://api.cohere.com/v2/rerank \"HTTP/1.1 200 OK\"\n",
            "INFO:httpx:HTTP Request: POST https://api.openai.com/v1/chat/completions \"HTTP/1.1 200 OK\"\n"
          ]
        },
        {
          "data": {
            "text/html": [
              "<pre style=\"white-space:pre;overflow-x:auto;line-height:normal;font-family:Menlo,'DejaVu Sans Mono',consolas,'Courier New',monospace\">Generating response for: How does the involvement of Russian mobsters in John Wick's life contribute to the overall\n",
              "narrative and character development in the film?\n",
              "</pre>\n"
            ],
            "text/plain": [
              "Generating response for: How does the involvement of Russian mobsters in John Wick's life contribute to the overall\n",
              "narrative and character development in the film?\n"
            ]
          },
          "metadata": {},
          "output_type": "display_data"
        },
        {
          "name": "stderr",
          "output_type": "stream",
          "text": [
            "INFO:httpx:HTTP Request: POST https://api.openai.com/v1/embeddings \"HTTP/1.1 200 OK\"\n",
            "INFO:httpx:HTTP Request: POST https://api.cohere.com/v2/rerank \"HTTP/1.1 200 OK\"\n",
            "INFO:httpx:HTTP Request: POST https://api.openai.com/v1/chat/completions \"HTTP/1.1 200 OK\"\n"
          ]
        },
        {
          "data": {
            "text/html": [
              "<pre style=\"white-space:pre;overflow-x:auto;line-height:normal;font-family:Menlo,'DejaVu Sans Mono',consolas,'Courier New',monospace\">Generating response for: What makes John Wick <span style=\"color: #008080; text-decoration-color: #008080; font-weight: bold\">3</span> stand out as an action movie compared to the original John Wick?\n",
              "</pre>\n"
            ],
            "text/plain": [
              "Generating response for: What makes John Wick \u001b[1;36m3\u001b[0m stand out as an action movie compared to the original John Wick?\n"
            ]
          },
          "metadata": {},
          "output_type": "display_data"
        },
        {
          "name": "stderr",
          "output_type": "stream",
          "text": [
            "INFO:httpx:HTTP Request: POST https://api.openai.com/v1/embeddings \"HTTP/1.1 200 OK\"\n",
            "INFO:httpx:HTTP Request: POST https://api.cohere.com/v2/rerank \"HTTP/1.1 200 OK\"\n",
            "INFO:httpx:HTTP Request: POST https://api.openai.com/v1/chat/completions \"HTTP/1.1 200 OK\"\n"
          ]
        },
        {
          "data": {
            "text/html": [
              "<pre style=\"white-space:pre;overflow-x:auto;line-height:normal;font-family:Menlo,'DejaVu Sans Mono',consolas,'Courier New',monospace\">Generating response for: Why is it considered a shame that Hollywood struggles with originality in action films, \n",
              "especially in the context of the John Wick franchise and the mess of the latest Keanu Reeves film?\n",
              "</pre>\n"
            ],
            "text/plain": [
              "Generating response for: Why is it considered a shame that Hollywood struggles with originality in action films, \n",
              "especially in the context of the John Wick franchise and the mess of the latest Keanu Reeves film?\n"
            ]
          },
          "metadata": {},
          "output_type": "display_data"
        },
        {
          "name": "stderr",
          "output_type": "stream",
          "text": [
            "INFO:httpx:HTTP Request: POST https://api.openai.com/v1/embeddings \"HTTP/1.1 200 OK\"\n",
            "INFO:httpx:HTTP Request: POST https://api.cohere.com/v2/rerank \"HTTP/1.1 200 OK\"\n",
            "INFO:httpx:HTTP Request: POST https://api.openai.com/v1/chat/completions \"HTTP/1.1 200 OK\"\n"
          ]
        },
        {
          "data": {
            "text/html": [
              "<pre style=\"white-space:pre;overflow-x:auto;line-height:normal;font-family:Menlo,'DejaVu Sans Mono',consolas,'Courier New',monospace\">Generating response for: What are the similarities and differences in the portrayal of Reeves' character in John \n",
              "Wick compared to typical action movie tropes?\n",
              "</pre>\n"
            ],
            "text/plain": [
              "Generating response for: What are the similarities and differences in the portrayal of Reeves' character in John \n",
              "Wick compared to typical action movie tropes?\n"
            ]
          },
          "metadata": {},
          "output_type": "display_data"
        },
        {
          "name": "stderr",
          "output_type": "stream",
          "text": [
            "INFO:httpx:HTTP Request: POST https://api.openai.com/v1/embeddings \"HTTP/1.1 200 OK\"\n",
            "INFO:httpx:HTTP Request: POST https://api.cohere.com/v2/rerank \"HTTP/1.1 200 OK\"\n",
            "INFO:httpx:HTTP Request: POST https://api.openai.com/v1/chat/completions \"HTTP/1.1 200 OK\"\n"
          ]
        },
        {
          "name": "stdout",
          "output_type": "stream",
          "text": [
            "View the evaluation results for experiment: 'john-wick-rag-08919b28' at:\n",
            "https://smith.langchain.com/o/7acbdd88-ea69-5821-8eee-b1b6853db36b/datasets/ff575670-c757-489b-809f-b1986f45f8b3/compare?selectedSessions=06291480-746d-4d23-b9d7-67a93109d86f\n",
            "\n",
            "\n"
          ]
        },
        {
          "data": {
            "application/vnd.jupyter.widget-view+json": {
              "model_id": "5038c66bfb70495eae7e7529e5e963fa",
              "version_major": 2,
              "version_minor": 0
            },
            "text/plain": [
              "0it [00:00, ?it/s]"
            ]
          },
          "metadata": {},
          "output_type": "display_data"
        },
        {
          "name": "stderr",
          "output_type": "stream",
          "text": [
            "INFO:httpx:HTTP Request: POST https://api.openai.com/v1/embeddings \"HTTP/1.1 200 OK\"\n",
            "INFO:httpx:HTTP Request: POST https://api.cohere.com/v2/rerank \"HTTP/1.1 429 Too Many Requests\"\n",
            "ERROR:langsmith.evaluation._runner:Error running target function: status_code: 429, body: {'message': \"You are using a Trial key, which is limited to 10 API calls / minute. You can continue to use the Trial key for free or upgrade to a Production key with higher rate limits at 'https://dashboard.cohere.com/api-keys'. Contact us on 'https://discord.gg/XW44jPfYJu' or email us at support@cohere.com with any questions\"}\n",
            "Traceback (most recent call last):\n",
            "  File \"/Users/vprzybylo/Desktop/NG/AIE5/13_Advanced_Retrieval/.venv/lib/python3.13/site-packages/langsmith/evaluation/_runner.py\", line 1914, in _forward\n",
            "    fn(\n",
            "    ~~^\n",
            "        *args,\n",
            "        ^^^^^^\n",
            "        langsmith_extra=langsmith_extra,\n",
            "        ^^^^^^^^^^^^^^^^^^^^^^^^^^^^^^^^\n",
            "    )\n",
            "    ^\n",
            "  File \"/Users/vprzybylo/Desktop/NG/AIE5/13_Advanced_Retrieval/.venv/lib/python3.13/site-packages/langsmith/run_helpers.py\", line 629, in wrapper\n",
            "    raise e\n",
            "  File \"/Users/vprzybylo/Desktop/NG/AIE5/13_Advanced_Retrieval/.venv/lib/python3.13/site-packages/langsmith/run_helpers.py\", line 626, in wrapper\n",
            "    function_result = run_container[\"context\"].run(func, *args, **kwargs)\n",
            "  File \"/Users/vprzybylo/Desktop/NG/AIE5/13_Advanced_Retrieval/.venv/lib/python3.13/site-packages/langchain_core/runnables/base.py\", line 3022, in invoke\n",
            "    input = context.run(step.invoke, input, config, **kwargs)\n",
            "  File \"/Users/vprzybylo/Desktop/NG/AIE5/13_Advanced_Retrieval/.venv/lib/python3.13/site-packages/langchain_core/runnables/base.py\", line 3729, in invoke\n",
            "    output = {key: future.result() for key, future in zip(steps, futures)}\n",
            "                   ~~~~~~~~~~~~~^^\n",
            "  File \"/opt/homebrew/Cellar/python@3.13/3.13.2/Frameworks/Python.framework/Versions/3.13/lib/python3.13/concurrent/futures/_base.py\", line 456, in result\n",
            "    return self.__get_result()\n",
            "           ~~~~~~~~~~~~~~~~~^^\n",
            "  File \"/opt/homebrew/Cellar/python@3.13/3.13.2/Frameworks/Python.framework/Versions/3.13/lib/python3.13/concurrent/futures/_base.py\", line 401, in __get_result\n",
            "    raise self._exception\n",
            "  File \"/opt/homebrew/Cellar/python@3.13/3.13.2/Frameworks/Python.framework/Versions/3.13/lib/python3.13/concurrent/futures/thread.py\", line 59, in run\n",
            "    result = self.fn(*self.args, **self.kwargs)\n",
            "  File \"/Users/vprzybylo/Desktop/NG/AIE5/13_Advanced_Retrieval/.venv/lib/python3.13/site-packages/langchain_core/runnables/base.py\", line 3713, in _invoke_step\n",
            "    return context.run(\n",
            "           ~~~~~~~~~~~^\n",
            "        step.invoke,\n",
            "        ^^^^^^^^^^^^\n",
            "        input,\n",
            "        ^^^^^^\n",
            "        child_config,\n",
            "        ^^^^^^^^^^^^^\n",
            "    )\n",
            "    ^\n",
            "  File \"/Users/vprzybylo/Desktop/NG/AIE5/13_Advanced_Retrieval/.venv/lib/python3.13/site-packages/langchain_core/runnables/base.py\", line 3024, in invoke\n",
            "    input = context.run(step.invoke, input, config)\n",
            "  File \"/Users/vprzybylo/Desktop/NG/AIE5/13_Advanced_Retrieval/.venv/lib/python3.13/site-packages/langchain_core/retrievers.py\", line 259, in invoke\n",
            "    result = self._get_relevant_documents(\n",
            "        input, run_manager=run_manager, **_kwargs\n",
            "    )\n",
            "  File \"/Users/vprzybylo/Desktop/NG/AIE5/13_Advanced_Retrieval/.venv/lib/python3.13/site-packages/langchain/retrievers/contextual_compression.py\", line 48, in _get_relevant_documents\n",
            "    compressed_docs = self.base_compressor.compress_documents(\n",
            "        docs, query, callbacks=run_manager.get_child()\n",
            "    )\n",
            "  File \"/Users/vprzybylo/Desktop/NG/AIE5/13_Advanced_Retrieval/.venv/lib/python3.13/site-packages/langchain_cohere/rerank.py\", line 145, in compress_documents\n",
            "    for res in self.rerank(documents, query):\n",
            "               ~~~~~~~~~~~^^^^^^^^^^^^^^^^^^\n",
            "  File \"/Users/vprzybylo/Desktop/NG/AIE5/13_Advanced_Retrieval/.venv/lib/python3.13/site-packages/langchain_cohere/rerank.py\", line 113, in rerank\n",
            "    results = self.client.rerank(\n",
            "        query=query,\n",
            "    ...<3 lines>...\n",
            "        max_tokens_per_doc=max_tokens_per_doc,\n",
            "    )\n",
            "  File \"/Users/vprzybylo/Desktop/NG/AIE5/13_Advanced_Retrieval/.venv/lib/python3.13/site-packages/cohere/v2/client.py\", line 1094, in rerank\n",
            "    raise TooManyRequestsError(\n",
            "    ...<7 lines>...\n",
            "    )\n",
            "cohere.errors.too_many_requests_error.TooManyRequestsError: status_code: 429, body: {'message': \"You are using a Trial key, which is limited to 10 API calls / minute. You can continue to use the Trial key for free or upgrade to a Production key with higher rate limits at 'https://dashboard.cohere.com/api-keys'. Contact us on 'https://discord.gg/XW44jPfYJu' or email us at support@cohere.com with any questions\"}\n",
            "INFO:httpx:HTTP Request: POST https://api.openai.com/v1/embeddings \"HTTP/1.1 200 OK\"\n",
            "INFO:httpx:HTTP Request: POST https://api.cohere.com/v2/rerank \"HTTP/1.1 429 Too Many Requests\"\n",
            "ERROR:langsmith.evaluation._runner:Error running target function: status_code: 429, body: {'message': \"You are using a Trial key, which is limited to 10 API calls / minute. You can continue to use the Trial key for free or upgrade to a Production key with higher rate limits at 'https://dashboard.cohere.com/api-keys'. Contact us on 'https://discord.gg/XW44jPfYJu' or email us at support@cohere.com with any questions\"}\n",
            "Traceback (most recent call last):\n",
            "  File \"/Users/vprzybylo/Desktop/NG/AIE5/13_Advanced_Retrieval/.venv/lib/python3.13/site-packages/langsmith/evaluation/_runner.py\", line 1914, in _forward\n",
            "    fn(\n",
            "    ~~^\n",
            "        *args,\n",
            "        ^^^^^^\n",
            "        langsmith_extra=langsmith_extra,\n",
            "        ^^^^^^^^^^^^^^^^^^^^^^^^^^^^^^^^\n",
            "    )\n",
            "    ^\n",
            "  File \"/Users/vprzybylo/Desktop/NG/AIE5/13_Advanced_Retrieval/.venv/lib/python3.13/site-packages/langsmith/run_helpers.py\", line 629, in wrapper\n",
            "    raise e\n",
            "  File \"/Users/vprzybylo/Desktop/NG/AIE5/13_Advanced_Retrieval/.venv/lib/python3.13/site-packages/langsmith/run_helpers.py\", line 626, in wrapper\n",
            "    function_result = run_container[\"context\"].run(func, *args, **kwargs)\n",
            "  File \"/Users/vprzybylo/Desktop/NG/AIE5/13_Advanced_Retrieval/.venv/lib/python3.13/site-packages/langchain_core/runnables/base.py\", line 3022, in invoke\n",
            "    input = context.run(step.invoke, input, config, **kwargs)\n",
            "  File \"/Users/vprzybylo/Desktop/NG/AIE5/13_Advanced_Retrieval/.venv/lib/python3.13/site-packages/langchain_core/runnables/base.py\", line 3729, in invoke\n",
            "    output = {key: future.result() for key, future in zip(steps, futures)}\n",
            "                   ~~~~~~~~~~~~~^^\n",
            "  File \"/opt/homebrew/Cellar/python@3.13/3.13.2/Frameworks/Python.framework/Versions/3.13/lib/python3.13/concurrent/futures/_base.py\", line 456, in result\n",
            "    return self.__get_result()\n",
            "           ~~~~~~~~~~~~~~~~~^^\n",
            "  File \"/opt/homebrew/Cellar/python@3.13/3.13.2/Frameworks/Python.framework/Versions/3.13/lib/python3.13/concurrent/futures/_base.py\", line 401, in __get_result\n",
            "    raise self._exception\n",
            "  File \"/opt/homebrew/Cellar/python@3.13/3.13.2/Frameworks/Python.framework/Versions/3.13/lib/python3.13/concurrent/futures/thread.py\", line 59, in run\n",
            "    result = self.fn(*self.args, **self.kwargs)\n",
            "  File \"/Users/vprzybylo/Desktop/NG/AIE5/13_Advanced_Retrieval/.venv/lib/python3.13/site-packages/langchain_core/runnables/base.py\", line 3713, in _invoke_step\n",
            "    return context.run(\n",
            "           ~~~~~~~~~~~^\n",
            "        step.invoke,\n",
            "        ^^^^^^^^^^^^\n",
            "        input,\n",
            "        ^^^^^^\n",
            "        child_config,\n",
            "        ^^^^^^^^^^^^^\n",
            "    )\n",
            "    ^\n",
            "  File \"/Users/vprzybylo/Desktop/NG/AIE5/13_Advanced_Retrieval/.venv/lib/python3.13/site-packages/langchain_core/runnables/base.py\", line 3024, in invoke\n",
            "    input = context.run(step.invoke, input, config)\n",
            "  File \"/Users/vprzybylo/Desktop/NG/AIE5/13_Advanced_Retrieval/.venv/lib/python3.13/site-packages/langchain_core/retrievers.py\", line 259, in invoke\n",
            "    result = self._get_relevant_documents(\n",
            "        input, run_manager=run_manager, **_kwargs\n",
            "    )\n",
            "  File \"/Users/vprzybylo/Desktop/NG/AIE5/13_Advanced_Retrieval/.venv/lib/python3.13/site-packages/langchain/retrievers/contextual_compression.py\", line 48, in _get_relevant_documents\n",
            "    compressed_docs = self.base_compressor.compress_documents(\n",
            "        docs, query, callbacks=run_manager.get_child()\n",
            "    )\n",
            "  File \"/Users/vprzybylo/Desktop/NG/AIE5/13_Advanced_Retrieval/.venv/lib/python3.13/site-packages/langchain_cohere/rerank.py\", line 145, in compress_documents\n",
            "    for res in self.rerank(documents, query):\n",
            "               ~~~~~~~~~~~^^^^^^^^^^^^^^^^^^\n",
            "  File \"/Users/vprzybylo/Desktop/NG/AIE5/13_Advanced_Retrieval/.venv/lib/python3.13/site-packages/langchain_cohere/rerank.py\", line 113, in rerank\n",
            "    results = self.client.rerank(\n",
            "        query=query,\n",
            "    ...<3 lines>...\n",
            "        max_tokens_per_doc=max_tokens_per_doc,\n",
            "    )\n",
            "  File \"/Users/vprzybylo/Desktop/NG/AIE5/13_Advanced_Retrieval/.venv/lib/python3.13/site-packages/cohere/v2/client.py\", line 1094, in rerank\n",
            "    raise TooManyRequestsError(\n",
            "    ...<7 lines>...\n",
            "    )\n",
            "cohere.errors.too_many_requests_error.TooManyRequestsError: status_code: 429, body: {'message': \"You are using a Trial key, which is limited to 10 API calls / minute. You can continue to use the Trial key for free or upgrade to a Production key with higher rate limits at 'https://dashboard.cohere.com/api-keys'. Contact us on 'https://discord.gg/XW44jPfYJu' or email us at support@cohere.com with any questions\"}\n",
            "INFO:httpx:HTTP Request: POST https://api.openai.com/v1/embeddings \"HTTP/1.1 200 OK\"\n",
            "INFO:httpx:HTTP Request: POST https://api.cohere.com/v2/rerank \"HTTP/1.1 429 Too Many Requests\"\n",
            "ERROR:langsmith.evaluation._runner:Error running target function: status_code: 429, body: {'message': \"You are using a Trial key, which is limited to 10 API calls / minute. You can continue to use the Trial key for free or upgrade to a Production key with higher rate limits at 'https://dashboard.cohere.com/api-keys'. Contact us on 'https://discord.gg/XW44jPfYJu' or email us at support@cohere.com with any questions\"}\n",
            "Traceback (most recent call last):\n",
            "  File \"/Users/vprzybylo/Desktop/NG/AIE5/13_Advanced_Retrieval/.venv/lib/python3.13/site-packages/langsmith/evaluation/_runner.py\", line 1914, in _forward\n",
            "    fn(\n",
            "    ~~^\n",
            "        *args,\n",
            "        ^^^^^^\n",
            "        langsmith_extra=langsmith_extra,\n",
            "        ^^^^^^^^^^^^^^^^^^^^^^^^^^^^^^^^\n",
            "    )\n",
            "    ^\n",
            "  File \"/Users/vprzybylo/Desktop/NG/AIE5/13_Advanced_Retrieval/.venv/lib/python3.13/site-packages/langsmith/run_helpers.py\", line 629, in wrapper\n",
            "    raise e\n",
            "  File \"/Users/vprzybylo/Desktop/NG/AIE5/13_Advanced_Retrieval/.venv/lib/python3.13/site-packages/langsmith/run_helpers.py\", line 626, in wrapper\n",
            "    function_result = run_container[\"context\"].run(func, *args, **kwargs)\n",
            "  File \"/Users/vprzybylo/Desktop/NG/AIE5/13_Advanced_Retrieval/.venv/lib/python3.13/site-packages/langchain_core/runnables/base.py\", line 3022, in invoke\n",
            "    input = context.run(step.invoke, input, config, **kwargs)\n",
            "  File \"/Users/vprzybylo/Desktop/NG/AIE5/13_Advanced_Retrieval/.venv/lib/python3.13/site-packages/langchain_core/runnables/base.py\", line 3729, in invoke\n",
            "    output = {key: future.result() for key, future in zip(steps, futures)}\n",
            "                   ~~~~~~~~~~~~~^^\n",
            "  File \"/opt/homebrew/Cellar/python@3.13/3.13.2/Frameworks/Python.framework/Versions/3.13/lib/python3.13/concurrent/futures/_base.py\", line 456, in result\n",
            "    return self.__get_result()\n",
            "           ~~~~~~~~~~~~~~~~~^^\n",
            "  File \"/opt/homebrew/Cellar/python@3.13/3.13.2/Frameworks/Python.framework/Versions/3.13/lib/python3.13/concurrent/futures/_base.py\", line 401, in __get_result\n",
            "    raise self._exception\n",
            "  File \"/opt/homebrew/Cellar/python@3.13/3.13.2/Frameworks/Python.framework/Versions/3.13/lib/python3.13/concurrent/futures/thread.py\", line 59, in run\n",
            "    result = self.fn(*self.args, **self.kwargs)\n",
            "  File \"/Users/vprzybylo/Desktop/NG/AIE5/13_Advanced_Retrieval/.venv/lib/python3.13/site-packages/langchain_core/runnables/base.py\", line 3713, in _invoke_step\n",
            "    return context.run(\n",
            "           ~~~~~~~~~~~^\n",
            "        step.invoke,\n",
            "        ^^^^^^^^^^^^\n",
            "        input,\n",
            "        ^^^^^^\n",
            "        child_config,\n",
            "        ^^^^^^^^^^^^^\n",
            "    )\n",
            "    ^\n",
            "  File \"/Users/vprzybylo/Desktop/NG/AIE5/13_Advanced_Retrieval/.venv/lib/python3.13/site-packages/langchain_core/runnables/base.py\", line 3024, in invoke\n",
            "    input = context.run(step.invoke, input, config)\n",
            "  File \"/Users/vprzybylo/Desktop/NG/AIE5/13_Advanced_Retrieval/.venv/lib/python3.13/site-packages/langchain_core/retrievers.py\", line 259, in invoke\n",
            "    result = self._get_relevant_documents(\n",
            "        input, run_manager=run_manager, **_kwargs\n",
            "    )\n",
            "  File \"/Users/vprzybylo/Desktop/NG/AIE5/13_Advanced_Retrieval/.venv/lib/python3.13/site-packages/langchain/retrievers/contextual_compression.py\", line 48, in _get_relevant_documents\n",
            "    compressed_docs = self.base_compressor.compress_documents(\n",
            "        docs, query, callbacks=run_manager.get_child()\n",
            "    )\n",
            "  File \"/Users/vprzybylo/Desktop/NG/AIE5/13_Advanced_Retrieval/.venv/lib/python3.13/site-packages/langchain_cohere/rerank.py\", line 145, in compress_documents\n",
            "    for res in self.rerank(documents, query):\n",
            "               ~~~~~~~~~~~^^^^^^^^^^^^^^^^^^\n",
            "  File \"/Users/vprzybylo/Desktop/NG/AIE5/13_Advanced_Retrieval/.venv/lib/python3.13/site-packages/langchain_cohere/rerank.py\", line 113, in rerank\n",
            "    results = self.client.rerank(\n",
            "        query=query,\n",
            "    ...<3 lines>...\n",
            "        max_tokens_per_doc=max_tokens_per_doc,\n",
            "    )\n",
            "  File \"/Users/vprzybylo/Desktop/NG/AIE5/13_Advanced_Retrieval/.venv/lib/python3.13/site-packages/cohere/v2/client.py\", line 1094, in rerank\n",
            "    raise TooManyRequestsError(\n",
            "    ...<7 lines>...\n",
            "    )\n",
            "cohere.errors.too_many_requests_error.TooManyRequestsError: status_code: 429, body: {'message': \"You are using a Trial key, which is limited to 10 API calls / minute. You can continue to use the Trial key for free or upgrade to a Production key with higher rate limits at 'https://dashboard.cohere.com/api-keys'. Contact us on 'https://discord.gg/XW44jPfYJu' or email us at support@cohere.com with any questions\"}\n",
            "INFO:httpx:HTTP Request: POST https://api.openai.com/v1/embeddings \"HTTP/1.1 200 OK\"\n",
            "INFO:httpx:HTTP Request: POST https://api.cohere.com/v2/rerank \"HTTP/1.1 429 Too Many Requests\"\n",
            "ERROR:langsmith.evaluation._runner:Error running target function: status_code: 429, body: {'message': \"You are using a Trial key, which is limited to 10 API calls / minute. You can continue to use the Trial key for free or upgrade to a Production key with higher rate limits at 'https://dashboard.cohere.com/api-keys'. Contact us on 'https://discord.gg/XW44jPfYJu' or email us at support@cohere.com with any questions\"}\n",
            "Traceback (most recent call last):\n",
            "  File \"/Users/vprzybylo/Desktop/NG/AIE5/13_Advanced_Retrieval/.venv/lib/python3.13/site-packages/langsmith/evaluation/_runner.py\", line 1914, in _forward\n",
            "    fn(\n",
            "    ~~^\n",
            "        *args,\n",
            "        ^^^^^^\n",
            "        langsmith_extra=langsmith_extra,\n",
            "        ^^^^^^^^^^^^^^^^^^^^^^^^^^^^^^^^\n",
            "    )\n",
            "    ^\n",
            "  File \"/Users/vprzybylo/Desktop/NG/AIE5/13_Advanced_Retrieval/.venv/lib/python3.13/site-packages/langsmith/run_helpers.py\", line 629, in wrapper\n",
            "    raise e\n",
            "  File \"/Users/vprzybylo/Desktop/NG/AIE5/13_Advanced_Retrieval/.venv/lib/python3.13/site-packages/langsmith/run_helpers.py\", line 626, in wrapper\n",
            "    function_result = run_container[\"context\"].run(func, *args, **kwargs)\n",
            "  File \"/Users/vprzybylo/Desktop/NG/AIE5/13_Advanced_Retrieval/.venv/lib/python3.13/site-packages/langchain_core/runnables/base.py\", line 3022, in invoke\n",
            "    input = context.run(step.invoke, input, config, **kwargs)\n",
            "  File \"/Users/vprzybylo/Desktop/NG/AIE5/13_Advanced_Retrieval/.venv/lib/python3.13/site-packages/langchain_core/runnables/base.py\", line 3729, in invoke\n",
            "    output = {key: future.result() for key, future in zip(steps, futures)}\n",
            "                   ~~~~~~~~~~~~~^^\n",
            "  File \"/opt/homebrew/Cellar/python@3.13/3.13.2/Frameworks/Python.framework/Versions/3.13/lib/python3.13/concurrent/futures/_base.py\", line 456, in result\n",
            "    return self.__get_result()\n",
            "           ~~~~~~~~~~~~~~~~~^^\n",
            "  File \"/opt/homebrew/Cellar/python@3.13/3.13.2/Frameworks/Python.framework/Versions/3.13/lib/python3.13/concurrent/futures/_base.py\", line 401, in __get_result\n",
            "    raise self._exception\n",
            "  File \"/opt/homebrew/Cellar/python@3.13/3.13.2/Frameworks/Python.framework/Versions/3.13/lib/python3.13/concurrent/futures/thread.py\", line 59, in run\n",
            "    result = self.fn(*self.args, **self.kwargs)\n",
            "  File \"/Users/vprzybylo/Desktop/NG/AIE5/13_Advanced_Retrieval/.venv/lib/python3.13/site-packages/langchain_core/runnables/base.py\", line 3713, in _invoke_step\n",
            "    return context.run(\n",
            "           ~~~~~~~~~~~^\n",
            "        step.invoke,\n",
            "        ^^^^^^^^^^^^\n",
            "        input,\n",
            "        ^^^^^^\n",
            "        child_config,\n",
            "        ^^^^^^^^^^^^^\n",
            "    )\n",
            "    ^\n",
            "  File \"/Users/vprzybylo/Desktop/NG/AIE5/13_Advanced_Retrieval/.venv/lib/python3.13/site-packages/langchain_core/runnables/base.py\", line 3024, in invoke\n",
            "    input = context.run(step.invoke, input, config)\n",
            "  File \"/Users/vprzybylo/Desktop/NG/AIE5/13_Advanced_Retrieval/.venv/lib/python3.13/site-packages/langchain_core/retrievers.py\", line 259, in invoke\n",
            "    result = self._get_relevant_documents(\n",
            "        input, run_manager=run_manager, **_kwargs\n",
            "    )\n",
            "  File \"/Users/vprzybylo/Desktop/NG/AIE5/13_Advanced_Retrieval/.venv/lib/python3.13/site-packages/langchain/retrievers/contextual_compression.py\", line 48, in _get_relevant_documents\n",
            "    compressed_docs = self.base_compressor.compress_documents(\n",
            "        docs, query, callbacks=run_manager.get_child()\n",
            "    )\n",
            "  File \"/Users/vprzybylo/Desktop/NG/AIE5/13_Advanced_Retrieval/.venv/lib/python3.13/site-packages/langchain_cohere/rerank.py\", line 145, in compress_documents\n",
            "    for res in self.rerank(documents, query):\n",
            "               ~~~~~~~~~~~^^^^^^^^^^^^^^^^^^\n",
            "  File \"/Users/vprzybylo/Desktop/NG/AIE5/13_Advanced_Retrieval/.venv/lib/python3.13/site-packages/langchain_cohere/rerank.py\", line 113, in rerank\n",
            "    results = self.client.rerank(\n",
            "        query=query,\n",
            "    ...<3 lines>...\n",
            "        max_tokens_per_doc=max_tokens_per_doc,\n",
            "    )\n",
            "  File \"/Users/vprzybylo/Desktop/NG/AIE5/13_Advanced_Retrieval/.venv/lib/python3.13/site-packages/cohere/v2/client.py\", line 1094, in rerank\n",
            "    raise TooManyRequestsError(\n",
            "    ...<7 lines>...\n",
            "    )\n",
            "cohere.errors.too_many_requests_error.TooManyRequestsError: status_code: 429, body: {'message': \"You are using a Trial key, which is limited to 10 API calls / minute. You can continue to use the Trial key for free or upgrade to a Production key with higher rate limits at 'https://dashboard.cohere.com/api-keys'. Contact us on 'https://discord.gg/XW44jPfYJu' or email us at support@cohere.com with any questions\"}\n",
            "INFO:httpx:HTTP Request: POST https://api.openai.com/v1/embeddings \"HTTP/1.1 200 OK\"\n",
            "INFO:httpx:HTTP Request: POST https://api.cohere.com/v2/rerank \"HTTP/1.1 429 Too Many Requests\"\n",
            "ERROR:langsmith.evaluation._runner:Error running target function: status_code: 429, body: {'message': \"You are using a Trial key, which is limited to 10 API calls / minute. You can continue to use the Trial key for free or upgrade to a Production key with higher rate limits at 'https://dashboard.cohere.com/api-keys'. Contact us on 'https://discord.gg/XW44jPfYJu' or email us at support@cohere.com with any questions\"}\n",
            "Traceback (most recent call last):\n",
            "  File \"/Users/vprzybylo/Desktop/NG/AIE5/13_Advanced_Retrieval/.venv/lib/python3.13/site-packages/langsmith/evaluation/_runner.py\", line 1914, in _forward\n",
            "    fn(\n",
            "    ~~^\n",
            "        *args,\n",
            "        ^^^^^^\n",
            "        langsmith_extra=langsmith_extra,\n",
            "        ^^^^^^^^^^^^^^^^^^^^^^^^^^^^^^^^\n",
            "    )\n",
            "    ^\n",
            "  File \"/Users/vprzybylo/Desktop/NG/AIE5/13_Advanced_Retrieval/.venv/lib/python3.13/site-packages/langsmith/run_helpers.py\", line 629, in wrapper\n",
            "    raise e\n",
            "  File \"/Users/vprzybylo/Desktop/NG/AIE5/13_Advanced_Retrieval/.venv/lib/python3.13/site-packages/langsmith/run_helpers.py\", line 626, in wrapper\n",
            "    function_result = run_container[\"context\"].run(func, *args, **kwargs)\n",
            "  File \"/Users/vprzybylo/Desktop/NG/AIE5/13_Advanced_Retrieval/.venv/lib/python3.13/site-packages/langchain_core/runnables/base.py\", line 3022, in invoke\n",
            "    input = context.run(step.invoke, input, config, **kwargs)\n",
            "  File \"/Users/vprzybylo/Desktop/NG/AIE5/13_Advanced_Retrieval/.venv/lib/python3.13/site-packages/langchain_core/runnables/base.py\", line 3729, in invoke\n",
            "    output = {key: future.result() for key, future in zip(steps, futures)}\n",
            "                   ~~~~~~~~~~~~~^^\n",
            "  File \"/opt/homebrew/Cellar/python@3.13/3.13.2/Frameworks/Python.framework/Versions/3.13/lib/python3.13/concurrent/futures/_base.py\", line 456, in result\n",
            "    return self.__get_result()\n",
            "           ~~~~~~~~~~~~~~~~~^^\n",
            "  File \"/opt/homebrew/Cellar/python@3.13/3.13.2/Frameworks/Python.framework/Versions/3.13/lib/python3.13/concurrent/futures/_base.py\", line 401, in __get_result\n",
            "    raise self._exception\n",
            "  File \"/opt/homebrew/Cellar/python@3.13/3.13.2/Frameworks/Python.framework/Versions/3.13/lib/python3.13/concurrent/futures/thread.py\", line 59, in run\n",
            "    result = self.fn(*self.args, **self.kwargs)\n",
            "  File \"/Users/vprzybylo/Desktop/NG/AIE5/13_Advanced_Retrieval/.venv/lib/python3.13/site-packages/langchain_core/runnables/base.py\", line 3713, in _invoke_step\n",
            "    return context.run(\n",
            "           ~~~~~~~~~~~^\n",
            "        step.invoke,\n",
            "        ^^^^^^^^^^^^\n",
            "        input,\n",
            "        ^^^^^^\n",
            "        child_config,\n",
            "        ^^^^^^^^^^^^^\n",
            "    )\n",
            "    ^\n",
            "  File \"/Users/vprzybylo/Desktop/NG/AIE5/13_Advanced_Retrieval/.venv/lib/python3.13/site-packages/langchain_core/runnables/base.py\", line 3024, in invoke\n",
            "    input = context.run(step.invoke, input, config)\n",
            "  File \"/Users/vprzybylo/Desktop/NG/AIE5/13_Advanced_Retrieval/.venv/lib/python3.13/site-packages/langchain_core/retrievers.py\", line 259, in invoke\n",
            "    result = self._get_relevant_documents(\n",
            "        input, run_manager=run_manager, **_kwargs\n",
            "    )\n",
            "  File \"/Users/vprzybylo/Desktop/NG/AIE5/13_Advanced_Retrieval/.venv/lib/python3.13/site-packages/langchain/retrievers/contextual_compression.py\", line 48, in _get_relevant_documents\n",
            "    compressed_docs = self.base_compressor.compress_documents(\n",
            "        docs, query, callbacks=run_manager.get_child()\n",
            "    )\n",
            "  File \"/Users/vprzybylo/Desktop/NG/AIE5/13_Advanced_Retrieval/.venv/lib/python3.13/site-packages/langchain_cohere/rerank.py\", line 145, in compress_documents\n",
            "    for res in self.rerank(documents, query):\n",
            "               ~~~~~~~~~~~^^^^^^^^^^^^^^^^^^\n",
            "  File \"/Users/vprzybylo/Desktop/NG/AIE5/13_Advanced_Retrieval/.venv/lib/python3.13/site-packages/langchain_cohere/rerank.py\", line 113, in rerank\n",
            "    results = self.client.rerank(\n",
            "        query=query,\n",
            "    ...<3 lines>...\n",
            "        max_tokens_per_doc=max_tokens_per_doc,\n",
            "    )\n",
            "  File \"/Users/vprzybylo/Desktop/NG/AIE5/13_Advanced_Retrieval/.venv/lib/python3.13/site-packages/cohere/v2/client.py\", line 1094, in rerank\n",
            "    raise TooManyRequestsError(\n",
            "    ...<7 lines>...\n",
            "    )\n",
            "cohere.errors.too_many_requests_error.TooManyRequestsError: status_code: 429, body: {'message': \"You are using a Trial key, which is limited to 10 API calls / minute. You can continue to use the Trial key for free or upgrade to a Production key with higher rate limits at 'https://dashboard.cohere.com/api-keys'. Contact us on 'https://discord.gg/XW44jPfYJu' or email us at support@cohere.com with any questions\"}\n",
            "INFO:httpx:HTTP Request: POST https://api.openai.com/v1/embeddings \"HTTP/1.1 200 OK\"\n",
            "INFO:httpx:HTTP Request: POST https://api.cohere.com/v2/rerank \"HTTP/1.1 429 Too Many Requests\"\n",
            "ERROR:langsmith.evaluation._runner:Error running target function: status_code: 429, body: {'message': \"You are using a Trial key, which is limited to 10 API calls / minute. You can continue to use the Trial key for free or upgrade to a Production key with higher rate limits at 'https://dashboard.cohere.com/api-keys'. Contact us on 'https://discord.gg/XW44jPfYJu' or email us at support@cohere.com with any questions\"}\n",
            "Traceback (most recent call last):\n",
            "  File \"/Users/vprzybylo/Desktop/NG/AIE5/13_Advanced_Retrieval/.venv/lib/python3.13/site-packages/langsmith/evaluation/_runner.py\", line 1914, in _forward\n",
            "    fn(\n",
            "    ~~^\n",
            "        *args,\n",
            "        ^^^^^^\n",
            "        langsmith_extra=langsmith_extra,\n",
            "        ^^^^^^^^^^^^^^^^^^^^^^^^^^^^^^^^\n",
            "    )\n",
            "    ^\n",
            "  File \"/Users/vprzybylo/Desktop/NG/AIE5/13_Advanced_Retrieval/.venv/lib/python3.13/site-packages/langsmith/run_helpers.py\", line 629, in wrapper\n",
            "    raise e\n",
            "  File \"/Users/vprzybylo/Desktop/NG/AIE5/13_Advanced_Retrieval/.venv/lib/python3.13/site-packages/langsmith/run_helpers.py\", line 626, in wrapper\n",
            "    function_result = run_container[\"context\"].run(func, *args, **kwargs)\n",
            "  File \"/Users/vprzybylo/Desktop/NG/AIE5/13_Advanced_Retrieval/.venv/lib/python3.13/site-packages/langchain_core/runnables/base.py\", line 3022, in invoke\n",
            "    input = context.run(step.invoke, input, config, **kwargs)\n",
            "  File \"/Users/vprzybylo/Desktop/NG/AIE5/13_Advanced_Retrieval/.venv/lib/python3.13/site-packages/langchain_core/runnables/base.py\", line 3729, in invoke\n",
            "    output = {key: future.result() for key, future in zip(steps, futures)}\n",
            "                   ~~~~~~~~~~~~~^^\n",
            "  File \"/opt/homebrew/Cellar/python@3.13/3.13.2/Frameworks/Python.framework/Versions/3.13/lib/python3.13/concurrent/futures/_base.py\", line 456, in result\n",
            "    return self.__get_result()\n",
            "           ~~~~~~~~~~~~~~~~~^^\n",
            "  File \"/opt/homebrew/Cellar/python@3.13/3.13.2/Frameworks/Python.framework/Versions/3.13/lib/python3.13/concurrent/futures/_base.py\", line 401, in __get_result\n",
            "    raise self._exception\n",
            "  File \"/opt/homebrew/Cellar/python@3.13/3.13.2/Frameworks/Python.framework/Versions/3.13/lib/python3.13/concurrent/futures/thread.py\", line 59, in run\n",
            "    result = self.fn(*self.args, **self.kwargs)\n",
            "  File \"/Users/vprzybylo/Desktop/NG/AIE5/13_Advanced_Retrieval/.venv/lib/python3.13/site-packages/langchain_core/runnables/base.py\", line 3713, in _invoke_step\n",
            "    return context.run(\n",
            "           ~~~~~~~~~~~^\n",
            "        step.invoke,\n",
            "        ^^^^^^^^^^^^\n",
            "        input,\n",
            "        ^^^^^^\n",
            "        child_config,\n",
            "        ^^^^^^^^^^^^^\n",
            "    )\n",
            "    ^\n",
            "  File \"/Users/vprzybylo/Desktop/NG/AIE5/13_Advanced_Retrieval/.venv/lib/python3.13/site-packages/langchain_core/runnables/base.py\", line 3024, in invoke\n",
            "    input = context.run(step.invoke, input, config)\n",
            "  File \"/Users/vprzybylo/Desktop/NG/AIE5/13_Advanced_Retrieval/.venv/lib/python3.13/site-packages/langchain_core/retrievers.py\", line 259, in invoke\n",
            "    result = self._get_relevant_documents(\n",
            "        input, run_manager=run_manager, **_kwargs\n",
            "    )\n",
            "  File \"/Users/vprzybylo/Desktop/NG/AIE5/13_Advanced_Retrieval/.venv/lib/python3.13/site-packages/langchain/retrievers/contextual_compression.py\", line 48, in _get_relevant_documents\n",
            "    compressed_docs = self.base_compressor.compress_documents(\n",
            "        docs, query, callbacks=run_manager.get_child()\n",
            "    )\n",
            "  File \"/Users/vprzybylo/Desktop/NG/AIE5/13_Advanced_Retrieval/.venv/lib/python3.13/site-packages/langchain_cohere/rerank.py\", line 145, in compress_documents\n",
            "    for res in self.rerank(documents, query):\n",
            "               ~~~~~~~~~~~^^^^^^^^^^^^^^^^^^\n",
            "  File \"/Users/vprzybylo/Desktop/NG/AIE5/13_Advanced_Retrieval/.venv/lib/python3.13/site-packages/langchain_cohere/rerank.py\", line 113, in rerank\n",
            "    results = self.client.rerank(\n",
            "        query=query,\n",
            "    ...<3 lines>...\n",
            "        max_tokens_per_doc=max_tokens_per_doc,\n",
            "    )\n",
            "  File \"/Users/vprzybylo/Desktop/NG/AIE5/13_Advanced_Retrieval/.venv/lib/python3.13/site-packages/cohere/v2/client.py\", line 1094, in rerank\n",
            "    raise TooManyRequestsError(\n",
            "    ...<7 lines>...\n",
            "    )\n",
            "cohere.errors.too_many_requests_error.TooManyRequestsError: status_code: 429, body: {'message': \"You are using a Trial key, which is limited to 10 API calls / minute. You can continue to use the Trial key for free or upgrade to a Production key with higher rate limits at 'https://dashboard.cohere.com/api-keys'. Contact us on 'https://discord.gg/XW44jPfYJu' or email us at support@cohere.com with any questions\"}\n",
            "INFO:httpx:HTTP Request: POST https://api.openai.com/v1/embeddings \"HTTP/1.1 200 OK\"\n",
            "INFO:httpx:HTTP Request: POST https://api.cohere.com/v2/rerank \"HTTP/1.1 429 Too Many Requests\"\n",
            "ERROR:langsmith.evaluation._runner:Error running target function: status_code: 429, body: {'message': \"You are using a Trial key, which is limited to 10 API calls / minute. You can continue to use the Trial key for free or upgrade to a Production key with higher rate limits at 'https://dashboard.cohere.com/api-keys'. Contact us on 'https://discord.gg/XW44jPfYJu' or email us at support@cohere.com with any questions\"}\n",
            "Traceback (most recent call last):\n",
            "  File \"/Users/vprzybylo/Desktop/NG/AIE5/13_Advanced_Retrieval/.venv/lib/python3.13/site-packages/langsmith/evaluation/_runner.py\", line 1914, in _forward\n",
            "    fn(\n",
            "    ~~^\n",
            "        *args,\n",
            "        ^^^^^^\n",
            "        langsmith_extra=langsmith_extra,\n",
            "        ^^^^^^^^^^^^^^^^^^^^^^^^^^^^^^^^\n",
            "    )\n",
            "    ^\n",
            "  File \"/Users/vprzybylo/Desktop/NG/AIE5/13_Advanced_Retrieval/.venv/lib/python3.13/site-packages/langsmith/run_helpers.py\", line 629, in wrapper\n",
            "    raise e\n",
            "  File \"/Users/vprzybylo/Desktop/NG/AIE5/13_Advanced_Retrieval/.venv/lib/python3.13/site-packages/langsmith/run_helpers.py\", line 626, in wrapper\n",
            "    function_result = run_container[\"context\"].run(func, *args, **kwargs)\n",
            "  File \"/Users/vprzybylo/Desktop/NG/AIE5/13_Advanced_Retrieval/.venv/lib/python3.13/site-packages/langchain_core/runnables/base.py\", line 3022, in invoke\n",
            "    input = context.run(step.invoke, input, config, **kwargs)\n",
            "  File \"/Users/vprzybylo/Desktop/NG/AIE5/13_Advanced_Retrieval/.venv/lib/python3.13/site-packages/langchain_core/runnables/base.py\", line 3729, in invoke\n",
            "    output = {key: future.result() for key, future in zip(steps, futures)}\n",
            "                   ~~~~~~~~~~~~~^^\n",
            "  File \"/opt/homebrew/Cellar/python@3.13/3.13.2/Frameworks/Python.framework/Versions/3.13/lib/python3.13/concurrent/futures/_base.py\", line 456, in result\n",
            "    return self.__get_result()\n",
            "           ~~~~~~~~~~~~~~~~~^^\n",
            "  File \"/opt/homebrew/Cellar/python@3.13/3.13.2/Frameworks/Python.framework/Versions/3.13/lib/python3.13/concurrent/futures/_base.py\", line 401, in __get_result\n",
            "    raise self._exception\n",
            "  File \"/opt/homebrew/Cellar/python@3.13/3.13.2/Frameworks/Python.framework/Versions/3.13/lib/python3.13/concurrent/futures/thread.py\", line 59, in run\n",
            "    result = self.fn(*self.args, **self.kwargs)\n",
            "  File \"/Users/vprzybylo/Desktop/NG/AIE5/13_Advanced_Retrieval/.venv/lib/python3.13/site-packages/langchain_core/runnables/base.py\", line 3713, in _invoke_step\n",
            "    return context.run(\n",
            "           ~~~~~~~~~~~^\n",
            "        step.invoke,\n",
            "        ^^^^^^^^^^^^\n",
            "        input,\n",
            "        ^^^^^^\n",
            "        child_config,\n",
            "        ^^^^^^^^^^^^^\n",
            "    )\n",
            "    ^\n",
            "  File \"/Users/vprzybylo/Desktop/NG/AIE5/13_Advanced_Retrieval/.venv/lib/python3.13/site-packages/langchain_core/runnables/base.py\", line 3024, in invoke\n",
            "    input = context.run(step.invoke, input, config)\n",
            "  File \"/Users/vprzybylo/Desktop/NG/AIE5/13_Advanced_Retrieval/.venv/lib/python3.13/site-packages/langchain_core/retrievers.py\", line 259, in invoke\n",
            "    result = self._get_relevant_documents(\n",
            "        input, run_manager=run_manager, **_kwargs\n",
            "    )\n",
            "  File \"/Users/vprzybylo/Desktop/NG/AIE5/13_Advanced_Retrieval/.venv/lib/python3.13/site-packages/langchain/retrievers/contextual_compression.py\", line 48, in _get_relevant_documents\n",
            "    compressed_docs = self.base_compressor.compress_documents(\n",
            "        docs, query, callbacks=run_manager.get_child()\n",
            "    )\n",
            "  File \"/Users/vprzybylo/Desktop/NG/AIE5/13_Advanced_Retrieval/.venv/lib/python3.13/site-packages/langchain_cohere/rerank.py\", line 145, in compress_documents\n",
            "    for res in self.rerank(documents, query):\n",
            "               ~~~~~~~~~~~^^^^^^^^^^^^^^^^^^\n",
            "  File \"/Users/vprzybylo/Desktop/NG/AIE5/13_Advanced_Retrieval/.venv/lib/python3.13/site-packages/langchain_cohere/rerank.py\", line 113, in rerank\n",
            "    results = self.client.rerank(\n",
            "        query=query,\n",
            "    ...<3 lines>...\n",
            "        max_tokens_per_doc=max_tokens_per_doc,\n",
            "    )\n",
            "  File \"/Users/vprzybylo/Desktop/NG/AIE5/13_Advanced_Retrieval/.venv/lib/python3.13/site-packages/cohere/v2/client.py\", line 1094, in rerank\n",
            "    raise TooManyRequestsError(\n",
            "    ...<7 lines>...\n",
            "    )\n",
            "cohere.errors.too_many_requests_error.TooManyRequestsError: status_code: 429, body: {'message': \"You are using a Trial key, which is limited to 10 API calls / minute. You can continue to use the Trial key for free or upgrade to a Production key with higher rate limits at 'https://dashboard.cohere.com/api-keys'. Contact us on 'https://discord.gg/XW44jPfYJu' or email us at support@cohere.com with any questions\"}\n",
            "INFO:httpx:HTTP Request: POST https://api.openai.com/v1/embeddings \"HTTP/1.1 200 OK\"\n",
            "INFO:httpx:HTTP Request: POST https://api.cohere.com/v2/rerank \"HTTP/1.1 429 Too Many Requests\"\n",
            "ERROR:langsmith.evaluation._runner:Error running target function: status_code: 429, body: {'message': \"You are using a Trial key, which is limited to 10 API calls / minute. You can continue to use the Trial key for free or upgrade to a Production key with higher rate limits at 'https://dashboard.cohere.com/api-keys'. Contact us on 'https://discord.gg/XW44jPfYJu' or email us at support@cohere.com with any questions\"}\n",
            "Traceback (most recent call last):\n",
            "  File \"/Users/vprzybylo/Desktop/NG/AIE5/13_Advanced_Retrieval/.venv/lib/python3.13/site-packages/langsmith/evaluation/_runner.py\", line 1914, in _forward\n",
            "    fn(\n",
            "    ~~^\n",
            "        *args,\n",
            "        ^^^^^^\n",
            "        langsmith_extra=langsmith_extra,\n",
            "        ^^^^^^^^^^^^^^^^^^^^^^^^^^^^^^^^\n",
            "    )\n",
            "    ^\n",
            "  File \"/Users/vprzybylo/Desktop/NG/AIE5/13_Advanced_Retrieval/.venv/lib/python3.13/site-packages/langsmith/run_helpers.py\", line 629, in wrapper\n",
            "    raise e\n",
            "  File \"/Users/vprzybylo/Desktop/NG/AIE5/13_Advanced_Retrieval/.venv/lib/python3.13/site-packages/langsmith/run_helpers.py\", line 626, in wrapper\n",
            "    function_result = run_container[\"context\"].run(func, *args, **kwargs)\n",
            "  File \"/Users/vprzybylo/Desktop/NG/AIE5/13_Advanced_Retrieval/.venv/lib/python3.13/site-packages/langchain_core/runnables/base.py\", line 3022, in invoke\n",
            "    input = context.run(step.invoke, input, config, **kwargs)\n",
            "  File \"/Users/vprzybylo/Desktop/NG/AIE5/13_Advanced_Retrieval/.venv/lib/python3.13/site-packages/langchain_core/runnables/base.py\", line 3729, in invoke\n",
            "    output = {key: future.result() for key, future in zip(steps, futures)}\n",
            "                   ~~~~~~~~~~~~~^^\n",
            "  File \"/opt/homebrew/Cellar/python@3.13/3.13.2/Frameworks/Python.framework/Versions/3.13/lib/python3.13/concurrent/futures/_base.py\", line 456, in result\n",
            "    return self.__get_result()\n",
            "           ~~~~~~~~~~~~~~~~~^^\n",
            "  File \"/opt/homebrew/Cellar/python@3.13/3.13.2/Frameworks/Python.framework/Versions/3.13/lib/python3.13/concurrent/futures/_base.py\", line 401, in __get_result\n",
            "    raise self._exception\n",
            "  File \"/opt/homebrew/Cellar/python@3.13/3.13.2/Frameworks/Python.framework/Versions/3.13/lib/python3.13/concurrent/futures/thread.py\", line 59, in run\n",
            "    result = self.fn(*self.args, **self.kwargs)\n",
            "  File \"/Users/vprzybylo/Desktop/NG/AIE5/13_Advanced_Retrieval/.venv/lib/python3.13/site-packages/langchain_core/runnables/base.py\", line 3713, in _invoke_step\n",
            "    return context.run(\n",
            "           ~~~~~~~~~~~^\n",
            "        step.invoke,\n",
            "        ^^^^^^^^^^^^\n",
            "        input,\n",
            "        ^^^^^^\n",
            "        child_config,\n",
            "        ^^^^^^^^^^^^^\n",
            "    )\n",
            "    ^\n",
            "  File \"/Users/vprzybylo/Desktop/NG/AIE5/13_Advanced_Retrieval/.venv/lib/python3.13/site-packages/langchain_core/runnables/base.py\", line 3024, in invoke\n",
            "    input = context.run(step.invoke, input, config)\n",
            "  File \"/Users/vprzybylo/Desktop/NG/AIE5/13_Advanced_Retrieval/.venv/lib/python3.13/site-packages/langchain_core/retrievers.py\", line 259, in invoke\n",
            "    result = self._get_relevant_documents(\n",
            "        input, run_manager=run_manager, **_kwargs\n",
            "    )\n",
            "  File \"/Users/vprzybylo/Desktop/NG/AIE5/13_Advanced_Retrieval/.venv/lib/python3.13/site-packages/langchain/retrievers/contextual_compression.py\", line 48, in _get_relevant_documents\n",
            "    compressed_docs = self.base_compressor.compress_documents(\n",
            "        docs, query, callbacks=run_manager.get_child()\n",
            "    )\n",
            "  File \"/Users/vprzybylo/Desktop/NG/AIE5/13_Advanced_Retrieval/.venv/lib/python3.13/site-packages/langchain_cohere/rerank.py\", line 145, in compress_documents\n",
            "    for res in self.rerank(documents, query):\n",
            "               ~~~~~~~~~~~^^^^^^^^^^^^^^^^^^\n",
            "  File \"/Users/vprzybylo/Desktop/NG/AIE5/13_Advanced_Retrieval/.venv/lib/python3.13/site-packages/langchain_cohere/rerank.py\", line 113, in rerank\n",
            "    results = self.client.rerank(\n",
            "        query=query,\n",
            "    ...<3 lines>...\n",
            "        max_tokens_per_doc=max_tokens_per_doc,\n",
            "    )\n",
            "  File \"/Users/vprzybylo/Desktop/NG/AIE5/13_Advanced_Retrieval/.venv/lib/python3.13/site-packages/cohere/v2/client.py\", line 1094, in rerank\n",
            "    raise TooManyRequestsError(\n",
            "    ...<7 lines>...\n",
            "    )\n",
            "cohere.errors.too_many_requests_error.TooManyRequestsError: status_code: 429, body: {'message': \"You are using a Trial key, which is limited to 10 API calls / minute. You can continue to use the Trial key for free or upgrade to a Production key with higher rate limits at 'https://dashboard.cohere.com/api-keys'. Contact us on 'https://discord.gg/XW44jPfYJu' or email us at support@cohere.com with any questions\"}\n",
            "INFO:httpx:HTTP Request: POST https://api.openai.com/v1/embeddings \"HTTP/1.1 200 OK\"\n",
            "INFO:httpx:HTTP Request: POST https://api.cohere.com/v2/rerank \"HTTP/1.1 429 Too Many Requests\"\n",
            "ERROR:langsmith.evaluation._runner:Error running target function: status_code: 429, body: {'message': \"You are using a Trial key, which is limited to 10 API calls / minute. You can continue to use the Trial key for free or upgrade to a Production key with higher rate limits at 'https://dashboard.cohere.com/api-keys'. Contact us on 'https://discord.gg/XW44jPfYJu' or email us at support@cohere.com with any questions\"}\n",
            "Traceback (most recent call last):\n",
            "  File \"/Users/vprzybylo/Desktop/NG/AIE5/13_Advanced_Retrieval/.venv/lib/python3.13/site-packages/langsmith/evaluation/_runner.py\", line 1914, in _forward\n",
            "    fn(\n",
            "    ~~^\n",
            "        *args,\n",
            "        ^^^^^^\n",
            "        langsmith_extra=langsmith_extra,\n",
            "        ^^^^^^^^^^^^^^^^^^^^^^^^^^^^^^^^\n",
            "    )\n",
            "    ^\n",
            "  File \"/Users/vprzybylo/Desktop/NG/AIE5/13_Advanced_Retrieval/.venv/lib/python3.13/site-packages/langsmith/run_helpers.py\", line 629, in wrapper\n",
            "    raise e\n",
            "  File \"/Users/vprzybylo/Desktop/NG/AIE5/13_Advanced_Retrieval/.venv/lib/python3.13/site-packages/langsmith/run_helpers.py\", line 626, in wrapper\n",
            "    function_result = run_container[\"context\"].run(func, *args, **kwargs)\n",
            "  File \"/Users/vprzybylo/Desktop/NG/AIE5/13_Advanced_Retrieval/.venv/lib/python3.13/site-packages/langchain_core/runnables/base.py\", line 3022, in invoke\n",
            "    input = context.run(step.invoke, input, config, **kwargs)\n",
            "  File \"/Users/vprzybylo/Desktop/NG/AIE5/13_Advanced_Retrieval/.venv/lib/python3.13/site-packages/langchain_core/runnables/base.py\", line 3729, in invoke\n",
            "    output = {key: future.result() for key, future in zip(steps, futures)}\n",
            "                   ~~~~~~~~~~~~~^^\n",
            "  File \"/opt/homebrew/Cellar/python@3.13/3.13.2/Frameworks/Python.framework/Versions/3.13/lib/python3.13/concurrent/futures/_base.py\", line 456, in result\n",
            "    return self.__get_result()\n",
            "           ~~~~~~~~~~~~~~~~~^^\n",
            "  File \"/opt/homebrew/Cellar/python@3.13/3.13.2/Frameworks/Python.framework/Versions/3.13/lib/python3.13/concurrent/futures/_base.py\", line 401, in __get_result\n",
            "    raise self._exception\n",
            "  File \"/opt/homebrew/Cellar/python@3.13/3.13.2/Frameworks/Python.framework/Versions/3.13/lib/python3.13/concurrent/futures/thread.py\", line 59, in run\n",
            "    result = self.fn(*self.args, **self.kwargs)\n",
            "  File \"/Users/vprzybylo/Desktop/NG/AIE5/13_Advanced_Retrieval/.venv/lib/python3.13/site-packages/langchain_core/runnables/base.py\", line 3713, in _invoke_step\n",
            "    return context.run(\n",
            "           ~~~~~~~~~~~^\n",
            "        step.invoke,\n",
            "        ^^^^^^^^^^^^\n",
            "        input,\n",
            "        ^^^^^^\n",
            "        child_config,\n",
            "        ^^^^^^^^^^^^^\n",
            "    )\n",
            "    ^\n",
            "  File \"/Users/vprzybylo/Desktop/NG/AIE5/13_Advanced_Retrieval/.venv/lib/python3.13/site-packages/langchain_core/runnables/base.py\", line 3024, in invoke\n",
            "    input = context.run(step.invoke, input, config)\n",
            "  File \"/Users/vprzybylo/Desktop/NG/AIE5/13_Advanced_Retrieval/.venv/lib/python3.13/site-packages/langchain_core/retrievers.py\", line 259, in invoke\n",
            "    result = self._get_relevant_documents(\n",
            "        input, run_manager=run_manager, **_kwargs\n",
            "    )\n",
            "  File \"/Users/vprzybylo/Desktop/NG/AIE5/13_Advanced_Retrieval/.venv/lib/python3.13/site-packages/langchain/retrievers/contextual_compression.py\", line 48, in _get_relevant_documents\n",
            "    compressed_docs = self.base_compressor.compress_documents(\n",
            "        docs, query, callbacks=run_manager.get_child()\n",
            "    )\n",
            "  File \"/Users/vprzybylo/Desktop/NG/AIE5/13_Advanced_Retrieval/.venv/lib/python3.13/site-packages/langchain_cohere/rerank.py\", line 145, in compress_documents\n",
            "    for res in self.rerank(documents, query):\n",
            "               ~~~~~~~~~~~^^^^^^^^^^^^^^^^^^\n",
            "  File \"/Users/vprzybylo/Desktop/NG/AIE5/13_Advanced_Retrieval/.venv/lib/python3.13/site-packages/langchain_cohere/rerank.py\", line 113, in rerank\n",
            "    results = self.client.rerank(\n",
            "        query=query,\n",
            "    ...<3 lines>...\n",
            "        max_tokens_per_doc=max_tokens_per_doc,\n",
            "    )\n",
            "  File \"/Users/vprzybylo/Desktop/NG/AIE5/13_Advanced_Retrieval/.venv/lib/python3.13/site-packages/cohere/v2/client.py\", line 1094, in rerank\n",
            "    raise TooManyRequestsError(\n",
            "    ...<7 lines>...\n",
            "    )\n",
            "cohere.errors.too_many_requests_error.TooManyRequestsError: status_code: 429, body: {'message': \"You are using a Trial key, which is limited to 10 API calls / minute. You can continue to use the Trial key for free or upgrade to a Production key with higher rate limits at 'https://dashboard.cohere.com/api-keys'. Contact us on 'https://discord.gg/XW44jPfYJu' or email us at support@cohere.com with any questions\"}\n",
            "INFO:httpx:HTTP Request: POST https://api.openai.com/v1/embeddings \"HTTP/1.1 200 OK\"\n",
            "INFO:httpx:HTTP Request: POST https://api.cohere.com/v2/rerank \"HTTP/1.1 429 Too Many Requests\"\n",
            "ERROR:langsmith.evaluation._runner:Error running target function: status_code: 429, body: {'message': \"You are using a Trial key, which is limited to 10 API calls / minute. You can continue to use the Trial key for free or upgrade to a Production key with higher rate limits at 'https://dashboard.cohere.com/api-keys'. Contact us on 'https://discord.gg/XW44jPfYJu' or email us at support@cohere.com with any questions\"}\n",
            "Traceback (most recent call last):\n",
            "  File \"/Users/vprzybylo/Desktop/NG/AIE5/13_Advanced_Retrieval/.venv/lib/python3.13/site-packages/langsmith/evaluation/_runner.py\", line 1914, in _forward\n",
            "    fn(\n",
            "    ~~^\n",
            "        *args,\n",
            "        ^^^^^^\n",
            "        langsmith_extra=langsmith_extra,\n",
            "        ^^^^^^^^^^^^^^^^^^^^^^^^^^^^^^^^\n",
            "    )\n",
            "    ^\n",
            "  File \"/Users/vprzybylo/Desktop/NG/AIE5/13_Advanced_Retrieval/.venv/lib/python3.13/site-packages/langsmith/run_helpers.py\", line 629, in wrapper\n",
            "    raise e\n",
            "  File \"/Users/vprzybylo/Desktop/NG/AIE5/13_Advanced_Retrieval/.venv/lib/python3.13/site-packages/langsmith/run_helpers.py\", line 626, in wrapper\n",
            "    function_result = run_container[\"context\"].run(func, *args, **kwargs)\n",
            "  File \"/Users/vprzybylo/Desktop/NG/AIE5/13_Advanced_Retrieval/.venv/lib/python3.13/site-packages/langchain_core/runnables/base.py\", line 3022, in invoke\n",
            "    input = context.run(step.invoke, input, config, **kwargs)\n",
            "  File \"/Users/vprzybylo/Desktop/NG/AIE5/13_Advanced_Retrieval/.venv/lib/python3.13/site-packages/langchain_core/runnables/base.py\", line 3729, in invoke\n",
            "    output = {key: future.result() for key, future in zip(steps, futures)}\n",
            "                   ~~~~~~~~~~~~~^^\n",
            "  File \"/opt/homebrew/Cellar/python@3.13/3.13.2/Frameworks/Python.framework/Versions/3.13/lib/python3.13/concurrent/futures/_base.py\", line 456, in result\n",
            "    return self.__get_result()\n",
            "           ~~~~~~~~~~~~~~~~~^^\n",
            "  File \"/opt/homebrew/Cellar/python@3.13/3.13.2/Frameworks/Python.framework/Versions/3.13/lib/python3.13/concurrent/futures/_base.py\", line 401, in __get_result\n",
            "    raise self._exception\n",
            "  File \"/opt/homebrew/Cellar/python@3.13/3.13.2/Frameworks/Python.framework/Versions/3.13/lib/python3.13/concurrent/futures/thread.py\", line 59, in run\n",
            "    result = self.fn(*self.args, **self.kwargs)\n",
            "  File \"/Users/vprzybylo/Desktop/NG/AIE5/13_Advanced_Retrieval/.venv/lib/python3.13/site-packages/langchain_core/runnables/base.py\", line 3713, in _invoke_step\n",
            "    return context.run(\n",
            "           ~~~~~~~~~~~^\n",
            "        step.invoke,\n",
            "        ^^^^^^^^^^^^\n",
            "        input,\n",
            "        ^^^^^^\n",
            "        child_config,\n",
            "        ^^^^^^^^^^^^^\n",
            "    )\n",
            "    ^\n",
            "  File \"/Users/vprzybylo/Desktop/NG/AIE5/13_Advanced_Retrieval/.venv/lib/python3.13/site-packages/langchain_core/runnables/base.py\", line 3024, in invoke\n",
            "    input = context.run(step.invoke, input, config)\n",
            "  File \"/Users/vprzybylo/Desktop/NG/AIE5/13_Advanced_Retrieval/.venv/lib/python3.13/site-packages/langchain_core/retrievers.py\", line 259, in invoke\n",
            "    result = self._get_relevant_documents(\n",
            "        input, run_manager=run_manager, **_kwargs\n",
            "    )\n",
            "  File \"/Users/vprzybylo/Desktop/NG/AIE5/13_Advanced_Retrieval/.venv/lib/python3.13/site-packages/langchain/retrievers/contextual_compression.py\", line 48, in _get_relevant_documents\n",
            "    compressed_docs = self.base_compressor.compress_documents(\n",
            "        docs, query, callbacks=run_manager.get_child()\n",
            "    )\n",
            "  File \"/Users/vprzybylo/Desktop/NG/AIE5/13_Advanced_Retrieval/.venv/lib/python3.13/site-packages/langchain_cohere/rerank.py\", line 145, in compress_documents\n",
            "    for res in self.rerank(documents, query):\n",
            "               ~~~~~~~~~~~^^^^^^^^^^^^^^^^^^\n",
            "  File \"/Users/vprzybylo/Desktop/NG/AIE5/13_Advanced_Retrieval/.venv/lib/python3.13/site-packages/langchain_cohere/rerank.py\", line 113, in rerank\n",
            "    results = self.client.rerank(\n",
            "        query=query,\n",
            "    ...<3 lines>...\n",
            "        max_tokens_per_doc=max_tokens_per_doc,\n",
            "    )\n",
            "  File \"/Users/vprzybylo/Desktop/NG/AIE5/13_Advanced_Retrieval/.venv/lib/python3.13/site-packages/cohere/v2/client.py\", line 1094, in rerank\n",
            "    raise TooManyRequestsError(\n",
            "    ...<7 lines>...\n",
            "    )\n",
            "cohere.errors.too_many_requests_error.TooManyRequestsError: status_code: 429, body: {'message': \"You are using a Trial key, which is limited to 10 API calls / minute. You can continue to use the Trial key for free or upgrade to a Production key with higher rate limits at 'https://dashboard.cohere.com/api-keys'. Contact us on 'https://discord.gg/XW44jPfYJu' or email us at support@cohere.com with any questions\"}\n",
            "INFO:__main__:Evaluating Multi Query\n"
          ]
        },
        {
          "data": {
            "text/html": [
              "<pre style=\"white-space:pre;overflow-x:auto;line-height:normal;font-family:Menlo,'DejaVu Sans Mono',consolas,'Courier New',monospace\">Generating response for: Why Keanu Reeves in John Wick?\n",
              "</pre>\n"
            ],
            "text/plain": [
              "Generating response for: Why Keanu Reeves in John Wick?\n"
            ]
          },
          "metadata": {},
          "output_type": "display_data"
        },
        {
          "name": "stderr",
          "output_type": "stream",
          "text": [
            "INFO:httpx:HTTP Request: POST https://api.openai.com/v1/chat/completions \"HTTP/1.1 200 OK\"\n",
            "INFO:langchain.retrievers.multi_query:Generated queries: ['What makes Keanu Reeves the ideal choice for John Wick?', 'What attributes of Keanu Reeves suit the character in John Wick?', 'How does Keanu Reeves embody the role of John Wick?']\n",
            "INFO:httpx:HTTP Request: POST https://api.openai.com/v1/embeddings \"HTTP/1.1 200 OK\"\n",
            "INFO:httpx:HTTP Request: POST https://api.openai.com/v1/embeddings \"HTTP/1.1 200 OK\"\n",
            "INFO:httpx:HTTP Request: POST https://api.openai.com/v1/embeddings \"HTTP/1.1 200 OK\"\n",
            "INFO:httpx:HTTP Request: POST https://api.openai.com/v1/chat/completions \"HTTP/1.1 200 OK\"\n"
          ]
        },
        {
          "data": {
            "text/html": [
              "<pre style=\"white-space:pre;overflow-x:auto;line-height:normal;font-family:Menlo,'DejaVu Sans Mono',consolas,'Courier New',monospace\">Generating response for: What is the general reception of the John Wick series?\n",
              "</pre>\n"
            ],
            "text/plain": [
              "Generating response for: What is the general reception of the John Wick series?\n"
            ]
          },
          "metadata": {},
          "output_type": "display_data"
        },
        {
          "name": "stderr",
          "output_type": "stream",
          "text": [
            "INFO:httpx:HTTP Request: POST https://api.openai.com/v1/chat/completions \"HTTP/1.1 200 OK\"\n",
            "INFO:langchain.retrievers.multi_query:Generated queries: ['1. How have audiences and critics generally received the John Wick series?', '2. What is the overall consensus on the reception of the John Wick franchise?', '3. How has the public responded to the John Wick movies in general?']\n",
            "INFO:httpx:HTTP Request: POST https://api.openai.com/v1/embeddings \"HTTP/1.1 200 OK\"\n",
            "INFO:httpx:HTTP Request: POST https://api.openai.com/v1/embeddings \"HTTP/1.1 200 OK\"\n",
            "INFO:httpx:HTTP Request: POST https://api.openai.com/v1/embeddings \"HTTP/1.1 200 OK\"\n",
            "INFO:httpx:HTTP Request: POST https://api.openai.com/v1/chat/completions \"HTTP/1.1 200 OK\"\n"
          ]
        },
        {
          "data": {
            "text/html": [
              "<pre style=\"white-space:pre;overflow-x:auto;line-height:normal;font-family:Menlo,'DejaVu Sans Mono',consolas,'Courier New',monospace\">Generating response for: What is the main plot of the movie John wick with Keanu?\n",
              "</pre>\n"
            ],
            "text/plain": [
              "Generating response for: What is the main plot of the movie John wick with Keanu?\n"
            ]
          },
          "metadata": {},
          "output_type": "display_data"
        },
        {
          "name": "stderr",
          "output_type": "stream",
          "text": [
            "INFO:httpx:HTTP Request: POST https://api.openai.com/v1/chat/completions \"HTTP/1.1 200 OK\"\n",
            "INFO:langchain.retrievers.multi_query:Generated queries: ['1. Can you provide a brief summary of the storyline in the movie John Wick starring Keanu Reeves?', '2. What is the central narrative focus of the film John Wick featuring Keanu Reeves in the lead role?', '3. What is the primary storyline in the movie John Wick, where Keanu Reeves plays a significant role?']\n",
            "INFO:httpx:HTTP Request: POST https://api.openai.com/v1/embeddings \"HTTP/1.1 200 OK\"\n",
            "INFO:httpx:HTTP Request: POST https://api.openai.com/v1/embeddings \"HTTP/1.1 200 OK\"\n",
            "INFO:httpx:HTTP Request: POST https://api.openai.com/v1/embeddings \"HTTP/1.1 200 OK\"\n",
            "INFO:httpx:HTTP Request: POST https://api.openai.com/v1/chat/completions \"HTTP/1.1 200 OK\"\n"
          ]
        },
        {
          "data": {
            "text/html": [
              "<pre style=\"white-space:pre;overflow-x:auto;line-height:normal;font-family:Menlo,'DejaVu Sans Mono',consolas,'Courier New',monospace\">Generating response for: How does Keanu Reeves' portrayal of John Wick contribute to the film's overall impact and \n",
              "character development?\n",
              "</pre>\n"
            ],
            "text/plain": [
              "Generating response for: How does Keanu Reeves' portrayal of John Wick contribute to the film's overall impact and \n",
              "character development?\n"
            ]
          },
          "metadata": {},
          "output_type": "display_data"
        },
        {
          "name": "stderr",
          "output_type": "stream",
          "text": [
            "INFO:httpx:HTTP Request: POST https://api.openai.com/v1/chat/completions \"HTTP/1.1 200 OK\"\n",
            "INFO:langchain.retrievers.multi_query:Generated queries: [\"What impact does Keanu Reeves' portrayal of John Wick have on the film's character development and overall effectiveness?\", \"How does Keanu Reeves' interpretation of John Wick influence the film's character evolution and overall impression?\", \"In what ways does Keanu Reeves' depiction of John Wick shape the film's overall impact and character growth?\"]\n",
            "INFO:httpx:HTTP Request: POST https://api.openai.com/v1/embeddings \"HTTP/1.1 200 OK\"\n",
            "INFO:httpx:HTTP Request: POST https://api.openai.com/v1/embeddings \"HTTP/1.1 200 OK\"\n",
            "INFO:httpx:HTTP Request: POST https://api.openai.com/v1/embeddings \"HTTP/1.1 200 OK\"\n",
            "INFO:httpx:HTTP Request: POST https://api.openai.com/v1/chat/completions \"HTTP/1.1 200 OK\"\n"
          ]
        },
        {
          "data": {
            "text/html": [
              "<pre style=\"white-space:pre;overflow-x:auto;line-height:normal;font-family:Menlo,'DejaVu Sans Mono',consolas,'Courier New',monospace\">Generating response for: How does the character of the Russian mob prince contribute to the overall narrative of \n",
              "John Wick?\n",
              "</pre>\n"
            ],
            "text/plain": [
              "Generating response for: How does the character of the Russian mob prince contribute to the overall narrative of \n",
              "John Wick?\n"
            ]
          },
          "metadata": {},
          "output_type": "display_data"
        },
        {
          "name": "stderr",
          "output_type": "stream",
          "text": [
            "INFO:httpx:HTTP Request: POST https://api.openai.com/v1/chat/completions \"HTTP/1.1 200 OK\"\n",
            "INFO:langchain.retrievers.multi_query:Generated queries: ['What impact does the personality of the Russian mob prince have on the storyline of John Wick?', 'In what ways does the portrayal of the Russian mob prince shape the overall narrative of John Wick?', 'How does the character of the Russian mob prince influence the development of the storyline in John Wick?']\n",
            "INFO:httpx:HTTP Request: POST https://api.openai.com/v1/embeddings \"HTTP/1.1 200 OK\"\n",
            "INFO:httpx:HTTP Request: POST https://api.openai.com/v1/embeddings \"HTTP/1.1 200 OK\"\n",
            "INFO:httpx:HTTP Request: POST https://api.openai.com/v1/embeddings \"HTTP/1.1 200 OK\"\n",
            "INFO:httpx:HTTP Request: POST https://api.openai.com/v1/chat/completions \"HTTP/1.1 200 OK\"\n"
          ]
        },
        {
          "data": {
            "text/html": [
              "<pre style=\"white-space:pre;overflow-x:auto;line-height:normal;font-family:Menlo,'DejaVu Sans Mono',consolas,'Courier New',monospace\">Generating response for: What genre did the filmmakers forget to add to their list for JOHN WICK, CHAPTER <span style=\"color: #008080; text-decoration-color: #008080; font-weight: bold\">3</span> : \n",
              "PARABELLUM, and how does the film's style compare to other action films?\n",
              "</pre>\n"
            ],
            "text/plain": [
              "Generating response for: What genre did the filmmakers forget to add to their list for JOHN WICK, CHAPTER \u001b[1;36m3\u001b[0m : \n",
              "PARABELLUM, and how does the film's style compare to other action films?\n"
            ]
          },
          "metadata": {},
          "output_type": "display_data"
        },
        {
          "name": "stderr",
          "output_type": "stream",
          "text": [
            "INFO:httpx:HTTP Request: POST https://api.openai.com/v1/chat/completions \"HTTP/1.1 200 OK\"\n",
            "INFO:langchain.retrievers.multi_query:Generated queries: [\"What genre was overlooked in the list for JOHN WICK, CHAPTER 3 : PARABELLUM by the filmmakers, and in what ways does the film's style differ from other action films?\", \"In JOHN WICK, CHAPTER 3 : PARABELLUM, which genre was omitted from the filmmakers' list, and how does the film's style contrast with other action movies?\", \"What specific genre was not included in the filmmakers' list for JOHN WICK, CHAPTER 3 : PARABELLUM, and what sets the film's style apart from other action films?\"]\n",
            "INFO:httpx:HTTP Request: POST https://api.openai.com/v1/embeddings \"HTTP/1.1 200 OK\"\n",
            "INFO:httpx:HTTP Request: POST https://api.openai.com/v1/embeddings \"HTTP/1.1 200 OK\"\n",
            "INFO:httpx:HTTP Request: POST https://api.openai.com/v1/embeddings \"HTTP/1.1 200 OK\"\n",
            "INFO:httpx:HTTP Request: POST https://api.openai.com/v1/chat/completions \"HTTP/1.1 200 OK\"\n"
          ]
        },
        {
          "data": {
            "text/html": [
              "<pre style=\"white-space:pre;overflow-x:auto;line-height:normal;font-family:Menlo,'DejaVu Sans Mono',consolas,'Courier New',monospace\">Generating response for: How does the involvement of Russian mobsters in John Wick's life contribute to the overall\n",
              "narrative and character development in the film?\n",
              "</pre>\n"
            ],
            "text/plain": [
              "Generating response for: How does the involvement of Russian mobsters in John Wick's life contribute to the overall\n",
              "narrative and character development in the film?\n"
            ]
          },
          "metadata": {},
          "output_type": "display_data"
        },
        {
          "name": "stderr",
          "output_type": "stream",
          "text": [
            "INFO:httpx:HTTP Request: POST https://api.openai.com/v1/chat/completions \"HTTP/1.1 200 OK\"\n",
            "INFO:langchain.retrievers.multi_query:Generated queries: ['What impact do Russian mobsters have on the storyline and character growth of John Wick in the movie?', 'In what ways do Russian mobsters influence the overarching narrative and character evolution of John Wick in the film?', 'How does the presence of Russian mobsters shape the overall plot and character development of John Wick in the movie?']\n",
            "INFO:httpx:HTTP Request: POST https://api.openai.com/v1/embeddings \"HTTP/1.1 200 OK\"\n",
            "INFO:httpx:HTTP Request: POST https://api.openai.com/v1/embeddings \"HTTP/1.1 200 OK\"\n",
            "INFO:httpx:HTTP Request: POST https://api.openai.com/v1/embeddings \"HTTP/1.1 200 OK\"\n",
            "INFO:httpx:HTTP Request: POST https://api.openai.com/v1/chat/completions \"HTTP/1.1 200 OK\"\n"
          ]
        },
        {
          "data": {
            "text/html": [
              "<pre style=\"white-space:pre;overflow-x:auto;line-height:normal;font-family:Menlo,'DejaVu Sans Mono',consolas,'Courier New',monospace\">Generating response for: What makes John Wick <span style=\"color: #008080; text-decoration-color: #008080; font-weight: bold\">3</span> stand out as an action movie compared to the original John Wick?\n",
              "</pre>\n"
            ],
            "text/plain": [
              "Generating response for: What makes John Wick \u001b[1;36m3\u001b[0m stand out as an action movie compared to the original John Wick?\n"
            ]
          },
          "metadata": {},
          "output_type": "display_data"
        },
        {
          "name": "stderr",
          "output_type": "stream",
          "text": [
            "INFO:httpx:HTTP Request: POST https://api.openai.com/v1/chat/completions \"HTTP/1.1 200 OK\"\n",
            "INFO:langchain.retrievers.multi_query:Generated queries: ['1. How does the action in John Wick 3 differ from the original John Wick movie?', '2. In what ways does John Wick 3 set itself apart as an action film when compared to the first John Wick movie?', '3. What unique aspects of John Wick 3 elevate it as an action movie in contrast to the original John Wick film?']\n",
            "INFO:httpx:HTTP Request: POST https://api.openai.com/v1/embeddings \"HTTP/1.1 200 OK\"\n",
            "INFO:httpx:HTTP Request: POST https://api.openai.com/v1/embeddings \"HTTP/1.1 200 OK\"\n",
            "INFO:httpx:HTTP Request: POST https://api.openai.com/v1/embeddings \"HTTP/1.1 200 OK\"\n",
            "INFO:httpx:HTTP Request: POST https://api.openai.com/v1/chat/completions \"HTTP/1.1 200 OK\"\n"
          ]
        },
        {
          "data": {
            "text/html": [
              "<pre style=\"white-space:pre;overflow-x:auto;line-height:normal;font-family:Menlo,'DejaVu Sans Mono',consolas,'Courier New',monospace\">Generating response for: Why is it considered a shame that Hollywood struggles with originality in action films, \n",
              "especially in the context of the John Wick franchise and the mess of the latest Keanu Reeves film?\n",
              "</pre>\n"
            ],
            "text/plain": [
              "Generating response for: Why is it considered a shame that Hollywood struggles with originality in action films, \n",
              "especially in the context of the John Wick franchise and the mess of the latest Keanu Reeves film?\n"
            ]
          },
          "metadata": {},
          "output_type": "display_data"
        },
        {
          "name": "stderr",
          "output_type": "stream",
          "text": [
            "INFO:httpx:HTTP Request: POST https://api.openai.com/v1/chat/completions \"HTTP/1.1 200 OK\"\n",
            "INFO:langchain.retrievers.multi_query:Generated queries: ['What are some reasons behind the criticism of Hollywood for lacking originality in action films, particularly when comparing it to the John Wick franchise and recent Keanu Reeves movies?', \"In what ways does Hollywood's challenge with creating original action films, as seen in the John Wick franchise and Keanu Reeves' latest film, impact the overall perception of the industry?\", \"How does the issue of originality in action films, exemplified by Hollywood's struggles and the recent Keanu Reeves movie, reflect a larger trend in the entertainment industry?\"]\n",
            "INFO:httpx:HTTP Request: POST https://api.openai.com/v1/embeddings \"HTTP/1.1 200 OK\"\n",
            "INFO:httpx:HTTP Request: POST https://api.openai.com/v1/embeddings \"HTTP/1.1 200 OK\"\n",
            "INFO:httpx:HTTP Request: POST https://api.openai.com/v1/embeddings \"HTTP/1.1 200 OK\"\n",
            "INFO:httpx:HTTP Request: POST https://api.openai.com/v1/chat/completions \"HTTP/1.1 200 OK\"\n"
          ]
        },
        {
          "data": {
            "text/html": [
              "<pre style=\"white-space:pre;overflow-x:auto;line-height:normal;font-family:Menlo,'DejaVu Sans Mono',consolas,'Courier New',monospace\">Generating response for: What are the similarities and differences in the portrayal of Reeves' character in John \n",
              "Wick compared to typical action movie tropes?\n",
              "</pre>\n"
            ],
            "text/plain": [
              "Generating response for: What are the similarities and differences in the portrayal of Reeves' character in John \n",
              "Wick compared to typical action movie tropes?\n"
            ]
          },
          "metadata": {},
          "output_type": "display_data"
        },
        {
          "name": "stderr",
          "output_type": "stream",
          "text": [
            "INFO:httpx:HTTP Request: POST https://api.openai.com/v1/chat/completions \"HTTP/1.1 200 OK\"\n",
            "INFO:langchain.retrievers.multi_query:Generated queries: [\"How does Reeves' character in John Wick differ from the typical action movie protagonist?\", \"In what ways is Reeves' portrayal in John Wick similar to and distinct from common action movie tropes?\", \"Can you highlight the similarities and variances in how Reeves' character is depicted in John Wick versus traditional action movie stereotypes?\"]\n",
            "INFO:httpx:HTTP Request: POST https://api.openai.com/v1/embeddings \"HTTP/1.1 200 OK\"\n",
            "INFO:httpx:HTTP Request: POST https://api.openai.com/v1/embeddings \"HTTP/1.1 200 OK\"\n",
            "INFO:httpx:HTTP Request: POST https://api.openai.com/v1/embeddings \"HTTP/1.1 200 OK\"\n",
            "INFO:httpx:HTTP Request: POST https://api.openai.com/v1/chat/completions \"HTTP/1.1 200 OK\"\n"
          ]
        },
        {
          "name": "stdout",
          "output_type": "stream",
          "text": [
            "View the evaluation results for experiment: 'john-wick-rag-50ae6781' at:\n",
            "https://smith.langchain.com/o/7acbdd88-ea69-5821-8eee-b1b6853db36b/datasets/fd95125a-1fde-4ca2-b307-2853f043b035/compare?selectedSessions=ffb7ca93-9c01-42dd-ab97-5571e19899bf\n",
            "\n",
            "\n"
          ]
        },
        {
          "data": {
            "application/vnd.jupyter.widget-view+json": {
              "model_id": "2151f2a3c85e47f8aaca9ba6b5a1f4ba",
              "version_major": 2,
              "version_minor": 0
            },
            "text/plain": [
              "0it [00:00, ?it/s]"
            ]
          },
          "metadata": {},
          "output_type": "display_data"
        },
        {
          "name": "stderr",
          "output_type": "stream",
          "text": [
            "INFO:httpx:HTTP Request: POST https://api.openai.com/v1/chat/completions \"HTTP/1.1 200 OK\"\n",
            "INFO:langchain.retrievers.multi_query:Generated queries: [\"How does Reeves' character in John Wick compare to traditional action movie stereotypes in terms of portrayal?\", \"What commonalities and distinctions can be found in the depiction of Reeves' character in John Wick versus standard action movie clichés?\", \"In what ways does the portrayal of Reeves' character in John Wick differ from the typical tropes seen in action movies?\"]\n",
            "INFO:httpx:HTTP Request: POST https://api.openai.com/v1/embeddings \"HTTP/1.1 200 OK\"\n",
            "INFO:httpx:HTTP Request: POST https://api.openai.com/v1/embeddings \"HTTP/1.1 200 OK\"\n",
            "INFO:httpx:HTTP Request: POST https://api.openai.com/v1/embeddings \"HTTP/1.1 200 OK\"\n",
            "INFO:httpx:HTTP Request: POST https://api.openai.com/v1/chat/completions \"HTTP/1.1 200 OK\"\n",
            "INFO:httpx:HTTP Request: POST https://api.openai.com/v1/chat/completions \"HTTP/1.1 200 OK\"\n",
            "INFO:langchain.retrievers.multi_query:Generated queries: [\"What are the reasons behind the negative perception of Hollywood's lack of originality in action films, particularly when comparing the John Wick franchise to recent Keanu Reeves movies?\", \"What factors contribute to the criticism of Hollywood's struggle with creating original action films, with a focus on the John Wick series and the latest Keanu Reeves film?\", 'How does the issue of originality in Hollywood action films, such as the John Wick franchise and recent Keanu Reeves movies, impact the overall quality and reception of these films?']\n",
            "INFO:httpx:HTTP Request: POST https://api.openai.com/v1/embeddings \"HTTP/1.1 200 OK\"\n",
            "INFO:httpx:HTTP Request: POST https://api.openai.com/v1/embeddings \"HTTP/1.1 200 OK\"\n",
            "INFO:httpx:HTTP Request: POST https://api.openai.com/v1/embeddings \"HTTP/1.1 200 OK\"\n",
            "INFO:httpx:HTTP Request: POST https://api.openai.com/v1/chat/completions \"HTTP/1.1 200 OK\"\n",
            "INFO:httpx:HTTP Request: POST https://api.openai.com/v1/chat/completions \"HTTP/1.1 200 OK\"\n",
            "INFO:langchain.retrievers.multi_query:Generated queries: ['1. In what ways does John Wick 3 differentiate itself as an action film from the first John Wick movie?', '2. How does John Wick 3 set itself apart as an action movie when compared to the original John Wick?', '3. What aspects of John Wick 3 make it unique as an action film in contrast to the original John Wick?']\n",
            "INFO:httpx:HTTP Request: POST https://api.openai.com/v1/embeddings \"HTTP/1.1 200 OK\"\n",
            "INFO:httpx:HTTP Request: POST https://api.openai.com/v1/embeddings \"HTTP/1.1 200 OK\"\n",
            "INFO:httpx:HTTP Request: POST https://api.openai.com/v1/embeddings \"HTTP/1.1 200 OK\"\n",
            "INFO:httpx:HTTP Request: POST https://api.openai.com/v1/chat/completions \"HTTP/1.1 200 OK\"\n",
            "INFO:httpx:HTTP Request: POST https://api.openai.com/v1/chat/completions \"HTTP/1.1 200 OK\"\n",
            "INFO:langchain.retrievers.multi_query:Generated queries: [\"What impact do Russian mobsters have on John Wick's storyline and character growth in the movie?\", \"How do the actions of Russian mobsters shape John Wick's journey and personality evolution in the film?\", 'In what ways do Russian mobsters influence the overarching narrative and character arc of John Wick in the movie?']\n",
            "INFO:httpx:HTTP Request: POST https://api.openai.com/v1/embeddings \"HTTP/1.1 200 OK\"\n",
            "INFO:httpx:HTTP Request: POST https://api.openai.com/v1/embeddings \"HTTP/1.1 200 OK\"\n",
            "INFO:httpx:HTTP Request: POST https://api.openai.com/v1/embeddings \"HTTP/1.1 200 OK\"\n",
            "INFO:httpx:HTTP Request: POST https://api.openai.com/v1/chat/completions \"HTTP/1.1 200 OK\"\n",
            "INFO:httpx:HTTP Request: POST https://api.openai.com/v1/chat/completions \"HTTP/1.1 200 OK\"\n",
            "INFO:langchain.retrievers.multi_query:Generated queries: [\"1. Which genre was omitted from the list of genres for JOHN WICK, CHAPTER 3 : PARABELLUM by the filmmakers, and in what ways does the film's style differ from other action movies?\", \"2. Are there any genres that were overlooked by the filmmakers in their classification of JOHN WICK, CHAPTER 3 : PARABELLUM, and what sets the film's style apart from other action films?\", \"3. What specific genre was not included in the filmmakers' list for JOHN WICK, CHAPTER 3 : PARABELLUM, and how does the film's stylistic approach contrast with other movies in the action genre?\"]\n",
            "INFO:httpx:HTTP Request: POST https://api.openai.com/v1/embeddings \"HTTP/1.1 200 OK\"\n",
            "INFO:httpx:HTTP Request: POST https://api.openai.com/v1/embeddings \"HTTP/1.1 200 OK\"\n",
            "INFO:httpx:HTTP Request: POST https://api.openai.com/v1/embeddings \"HTTP/1.1 200 OK\"\n",
            "INFO:httpx:HTTP Request: POST https://api.openai.com/v1/chat/completions \"HTTP/1.1 200 OK\"\n",
            "INFO:httpx:HTTP Request: POST https://api.openai.com/v1/chat/completions \"HTTP/1.1 200 OK\"\n",
            "INFO:langchain.retrievers.multi_query:Generated queries: ['What impact does the persona of the Russian mob prince have on the overarching storyline of John Wick?', \"In what way does the Russian mob prince's character shape the overall plot of John Wick?\", \"How does the Russian mob prince's personality influence the narrative of John Wick as a whole?\"]\n",
            "INFO:httpx:HTTP Request: POST https://api.openai.com/v1/embeddings \"HTTP/1.1 200 OK\"\n",
            "INFO:httpx:HTTP Request: POST https://api.openai.com/v1/embeddings \"HTTP/1.1 200 OK\"\n",
            "INFO:httpx:HTTP Request: POST https://api.openai.com/v1/embeddings \"HTTP/1.1 200 OK\"\n",
            "INFO:httpx:HTTP Request: POST https://api.openai.com/v1/chat/completions \"HTTP/1.1 200 OK\"\n",
            "INFO:httpx:HTTP Request: POST https://api.openai.com/v1/chat/completions \"HTTP/1.1 200 OK\"\n",
            "INFO:langchain.retrievers.multi_query:Generated queries: [\"What impact does Keanu Reeves' portrayal of John Wick have on the overall tone and character evolution of the film?\", \"How does Keanu Reeves' depiction of John Wick influence the movie's overall resonance and character growth?\", \"In what ways does Keanu Reeves' performance as John Wick shape the film's overall impact and character progression?\"]\n",
            "INFO:httpx:HTTP Request: POST https://api.openai.com/v1/embeddings \"HTTP/1.1 200 OK\"\n",
            "INFO:httpx:HTTP Request: POST https://api.openai.com/v1/embeddings \"HTTP/1.1 200 OK\"\n",
            "INFO:httpx:HTTP Request: POST https://api.openai.com/v1/embeddings \"HTTP/1.1 200 OK\"\n",
            "INFO:httpx:HTTP Request: POST https://api.openai.com/v1/chat/completions \"HTTP/1.1 200 OK\"\n",
            "INFO:httpx:HTTP Request: POST https://api.openai.com/v1/chat/completions \"HTTP/1.1 200 OK\"\n",
            "INFO:langchain.retrievers.multi_query:Generated queries: ['1. Can you provide a detailed overview of the storyline in the movie John Wick starring Keanu Reeves?', '2. What are the key events that drive the plot forward in the film John Wick featuring Keanu Reeves?', '3. How would you summarize the central narrative of the movie John Wick with Keanu Reeves in the lead role?']\n",
            "INFO:httpx:HTTP Request: POST https://api.openai.com/v1/embeddings \"HTTP/1.1 200 OK\"\n",
            "INFO:httpx:HTTP Request: POST https://api.openai.com/v1/embeddings \"HTTP/1.1 200 OK\"\n",
            "INFO:httpx:HTTP Request: POST https://api.openai.com/v1/embeddings \"HTTP/1.1 200 OK\"\n",
            "INFO:httpx:HTTP Request: POST https://api.openai.com/v1/chat/completions \"HTTP/1.1 200 OK\"\n",
            "INFO:httpx:HTTP Request: POST https://api.openai.com/v1/chat/completions \"HTTP/1.1 200 OK\"\n",
            "INFO:langchain.retrievers.multi_query:Generated queries: ['What do audiences generally think of the John Wick series?', 'How has the public received the John Wick series?', 'What is the overall consensus on the John Wick series?']\n",
            "INFO:httpx:HTTP Request: POST https://api.openai.com/v1/embeddings \"HTTP/1.1 200 OK\"\n",
            "INFO:httpx:HTTP Request: POST https://api.openai.com/v1/embeddings \"HTTP/1.1 200 OK\"\n",
            "INFO:httpx:HTTP Request: POST https://api.openai.com/v1/embeddings \"HTTP/1.1 200 OK\"\n",
            "INFO:httpx:HTTP Request: POST https://api.openai.com/v1/chat/completions \"HTTP/1.1 200 OK\"\n",
            "INFO:httpx:HTTP Request: POST https://api.openai.com/v1/chat/completions \"HTTP/1.1 200 OK\"\n",
            "INFO:langchain.retrievers.multi_query:Generated queries: [\"What is the significance of Keanu Reeves' role in John Wick?\", 'What makes Keanu Reeves perfect for the character in John Wick?', 'What qualities does Keanu Reeves bring to his portrayal of John Wick?']\n",
            "INFO:httpx:HTTP Request: POST https://api.openai.com/v1/embeddings \"HTTP/1.1 200 OK\"\n",
            "INFO:httpx:HTTP Request: POST https://api.openai.com/v1/embeddings \"HTTP/1.1 200 OK\"\n",
            "INFO:httpx:HTTP Request: POST https://api.openai.com/v1/embeddings \"HTTP/1.1 200 OK\"\n",
            "INFO:httpx:HTTP Request: POST https://api.openai.com/v1/chat/completions \"HTTP/1.1 200 OK\"\n",
            "INFO:__main__:Evaluating Ensemble\n"
          ]
        },
        {
          "data": {
            "text/html": [
              "<pre style=\"white-space:pre;overflow-x:auto;line-height:normal;font-family:Menlo,'DejaVu Sans Mono',consolas,'Courier New',monospace\">Generating response for: Why Keanu Reeves in John Wick?\n",
              "</pre>\n"
            ],
            "text/plain": [
              "Generating response for: Why Keanu Reeves in John Wick?\n"
            ]
          },
          "metadata": {},
          "output_type": "display_data"
        },
        {
          "name": "stderr",
          "output_type": "stream",
          "text": [
            "INFO:httpx:HTTP Request: POST https://api.openai.com/v1/embeddings \"HTTP/1.1 200 OK\"\n",
            "INFO:httpx:HTTP Request: POST https://api.openai.com/v1/embeddings \"HTTP/1.1 200 OK\"\n",
            "INFO:httpx:HTTP Request: POST https://api.openai.com/v1/embeddings \"HTTP/1.1 200 OK\"\n",
            "INFO:httpx:HTTP Request: POST https://api.cohere.com/v2/rerank \"HTTP/1.1 200 OK\"\n",
            "INFO:httpx:HTTP Request: POST https://api.openai.com/v1/chat/completions \"HTTP/1.1 200 OK\"\n",
            "INFO:langchain.retrievers.multi_query:Generated queries: ['1. What is the reason for choosing Keanu Reeves for the role of John Wick?', '2. How did Keanu Reeves become involved in the John Wick franchise?', '3. What factors led to the casting of Keanu Reeves as John Wick?']\n",
            "INFO:httpx:HTTP Request: POST https://api.openai.com/v1/embeddings \"HTTP/1.1 200 OK\"\n",
            "INFO:httpx:HTTP Request: POST https://api.openai.com/v1/embeddings \"HTTP/1.1 200 OK\"\n",
            "INFO:httpx:HTTP Request: POST https://api.openai.com/v1/embeddings \"HTTP/1.1 200 OK\"\n",
            "INFO:httpx:HTTP Request: POST https://api.openai.com/v1/chat/completions \"HTTP/1.1 200 OK\"\n"
          ]
        },
        {
          "data": {
            "text/html": [
              "<pre style=\"white-space:pre;overflow-x:auto;line-height:normal;font-family:Menlo,'DejaVu Sans Mono',consolas,'Courier New',monospace\">Generating response for: What is the general reception of the John Wick series?\n",
              "</pre>\n"
            ],
            "text/plain": [
              "Generating response for: What is the general reception of the John Wick series?\n"
            ]
          },
          "metadata": {},
          "output_type": "display_data"
        },
        {
          "name": "stderr",
          "output_type": "stream",
          "text": [
            "INFO:httpx:HTTP Request: POST https://api.openai.com/v1/embeddings \"HTTP/1.1 200 OK\"\n",
            "INFO:httpx:HTTP Request: POST https://api.openai.com/v1/embeddings \"HTTP/1.1 200 OK\"\n",
            "INFO:httpx:HTTP Request: POST https://api.openai.com/v1/embeddings \"HTTP/1.1 200 OK\"\n",
            "INFO:httpx:HTTP Request: POST https://api.cohere.com/v2/rerank \"HTTP/1.1 200 OK\"\n",
            "INFO:httpx:HTTP Request: POST https://api.openai.com/v1/chat/completions \"HTTP/1.1 200 OK\"\n",
            "INFO:langchain.retrievers.multi_query:Generated queries: ['1. How have audiences and critics generally received the John Wick series?', '2. What is the overall consensus on the reception of the John Wick franchise?', '3. How are the John Wick movies typically perceived by viewers and reviewers?']\n",
            "INFO:httpx:HTTP Request: POST https://api.openai.com/v1/embeddings \"HTTP/1.1 200 OK\"\n",
            "INFO:httpx:HTTP Request: POST https://api.openai.com/v1/embeddings \"HTTP/1.1 200 OK\"\n",
            "INFO:httpx:HTTP Request: POST https://api.openai.com/v1/embeddings \"HTTP/1.1 200 OK\"\n",
            "INFO:httpx:HTTP Request: POST https://api.openai.com/v1/chat/completions \"HTTP/1.1 200 OK\"\n"
          ]
        },
        {
          "data": {
            "text/html": [
              "<pre style=\"white-space:pre;overflow-x:auto;line-height:normal;font-family:Menlo,'DejaVu Sans Mono',consolas,'Courier New',monospace\">Generating response for: What is the main plot of the movie John wick with Keanu?\n",
              "</pre>\n"
            ],
            "text/plain": [
              "Generating response for: What is the main plot of the movie John wick with Keanu?\n"
            ]
          },
          "metadata": {},
          "output_type": "display_data"
        },
        {
          "name": "stderr",
          "output_type": "stream",
          "text": [
            "INFO:httpx:HTTP Request: POST https://api.openai.com/v1/embeddings \"HTTP/1.1 200 OK\"\n",
            "INFO:httpx:HTTP Request: POST https://api.openai.com/v1/embeddings \"HTTP/1.1 200 OK\"\n",
            "INFO:httpx:HTTP Request: POST https://api.openai.com/v1/embeddings \"HTTP/1.1 200 OK\"\n",
            "INFO:httpx:HTTP Request: POST https://api.cohere.com/v2/rerank \"HTTP/1.1 200 OK\"\n",
            "INFO:httpx:HTTP Request: POST https://api.openai.com/v1/chat/completions \"HTTP/1.1 200 OK\"\n",
            "INFO:langchain.retrievers.multi_query:Generated queries: ['1. Can you provide a summary of the primary storyline in the movie John Wick starring Keanu Reeves?', '2. What are the central events and narrative focus in the film John Wick featuring Keanu Reeves?', '3. Could you explain the key plot points and developments in the movie John Wick with Keanu Reeves?']\n",
            "INFO:httpx:HTTP Request: POST https://api.openai.com/v1/embeddings \"HTTP/1.1 200 OK\"\n",
            "INFO:httpx:HTTP Request: POST https://api.openai.com/v1/embeddings \"HTTP/1.1 200 OK\"\n",
            "INFO:httpx:HTTP Request: POST https://api.openai.com/v1/embeddings \"HTTP/1.1 200 OK\"\n",
            "INFO:httpx:HTTP Request: POST https://api.openai.com/v1/chat/completions \"HTTP/1.1 200 OK\"\n"
          ]
        },
        {
          "data": {
            "text/html": [
              "<pre style=\"white-space:pre;overflow-x:auto;line-height:normal;font-family:Menlo,'DejaVu Sans Mono',consolas,'Courier New',monospace\">Generating response for: How does Keanu Reeves' portrayal of John Wick contribute to the film's overall impact and \n",
              "character development?\n",
              "</pre>\n"
            ],
            "text/plain": [
              "Generating response for: How does Keanu Reeves' portrayal of John Wick contribute to the film's overall impact and \n",
              "character development?\n"
            ]
          },
          "metadata": {},
          "output_type": "display_data"
        },
        {
          "name": "stderr",
          "output_type": "stream",
          "text": [
            "INFO:httpx:HTTP Request: POST https://api.openai.com/v1/embeddings \"HTTP/1.1 200 OK\"\n",
            "INFO:httpx:HTTP Request: POST https://api.openai.com/v1/embeddings \"HTTP/1.1 200 OK\"\n",
            "INFO:httpx:HTTP Request: POST https://api.openai.com/v1/embeddings \"HTTP/1.1 200 OK\"\n",
            "INFO:httpx:HTTP Request: POST https://api.cohere.com/v2/rerank \"HTTP/1.1 200 OK\"\n",
            "INFO:httpx:HTTP Request: POST https://api.openai.com/v1/chat/completions \"HTTP/1.1 200 OK\"\n",
            "INFO:langchain.retrievers.multi_query:Generated queries: [\"What impact does Keanu Reeves' portrayal of John Wick have on the overall tone and character development of the film?\", \"In what ways does Keanu Reeves' performance as John Wick influence the film's overall impact and character progression?\", \"How does Keanu Reeves' depiction of John Wick shape the overall impact and development of the film's characters?\"]\n",
            "INFO:httpx:HTTP Request: POST https://api.openai.com/v1/embeddings \"HTTP/1.1 200 OK\"\n",
            "INFO:httpx:HTTP Request: POST https://api.openai.com/v1/embeddings \"HTTP/1.1 200 OK\"\n",
            "INFO:httpx:HTTP Request: POST https://api.openai.com/v1/embeddings \"HTTP/1.1 200 OK\"\n",
            "INFO:httpx:HTTP Request: POST https://api.openai.com/v1/chat/completions \"HTTP/1.1 200 OK\"\n"
          ]
        },
        {
          "data": {
            "text/html": [
              "<pre style=\"white-space:pre;overflow-x:auto;line-height:normal;font-family:Menlo,'DejaVu Sans Mono',consolas,'Courier New',monospace\">Generating response for: How does the character of the Russian mob prince contribute to the overall narrative of \n",
              "John Wick?\n",
              "</pre>\n"
            ],
            "text/plain": [
              "Generating response for: How does the character of the Russian mob prince contribute to the overall narrative of \n",
              "John Wick?\n"
            ]
          },
          "metadata": {},
          "output_type": "display_data"
        },
        {
          "name": "stderr",
          "output_type": "stream",
          "text": [
            "INFO:httpx:HTTP Request: POST https://api.openai.com/v1/embeddings \"HTTP/1.1 200 OK\"\n",
            "INFO:httpx:HTTP Request: POST https://api.openai.com/v1/embeddings \"HTTP/1.1 200 OK\"\n",
            "INFO:httpx:HTTP Request: POST https://api.openai.com/v1/embeddings \"HTTP/1.1 200 OK\"\n",
            "INFO:httpx:HTTP Request: POST https://api.cohere.com/v2/rerank \"HTTP/1.1 200 OK\"\n",
            "INFO:httpx:HTTP Request: POST https://api.openai.com/v1/chat/completions \"HTTP/1.1 200 OK\"\n",
            "INFO:langchain.retrievers.multi_query:Generated queries: [\"What impact does the Russian mob prince's character have on the storyline of John Wick?\", 'In what ways does the Russian mob prince shape the overarching narrative of John Wick?', 'How does the presence of the Russian mob prince influence the overall plot development in John Wick?']\n",
            "INFO:httpx:HTTP Request: POST https://api.openai.com/v1/embeddings \"HTTP/1.1 200 OK\"\n",
            "INFO:httpx:HTTP Request: POST https://api.openai.com/v1/embeddings \"HTTP/1.1 200 OK\"\n",
            "INFO:httpx:HTTP Request: POST https://api.openai.com/v1/embeddings \"HTTP/1.1 200 OK\"\n",
            "INFO:httpx:HTTP Request: POST https://api.openai.com/v1/chat/completions \"HTTP/1.1 200 OK\"\n"
          ]
        },
        {
          "data": {
            "text/html": [
              "<pre style=\"white-space:pre;overflow-x:auto;line-height:normal;font-family:Menlo,'DejaVu Sans Mono',consolas,'Courier New',monospace\">Generating response for: What genre did the filmmakers forget to add to their list for JOHN WICK, CHAPTER <span style=\"color: #008080; text-decoration-color: #008080; font-weight: bold\">3</span> : \n",
              "PARABELLUM, and how does the film's style compare to other action films?\n",
              "</pre>\n"
            ],
            "text/plain": [
              "Generating response for: What genre did the filmmakers forget to add to their list for JOHN WICK, CHAPTER \u001b[1;36m3\u001b[0m : \n",
              "PARABELLUM, and how does the film's style compare to other action films?\n"
            ]
          },
          "metadata": {},
          "output_type": "display_data"
        },
        {
          "name": "stderr",
          "output_type": "stream",
          "text": [
            "INFO:httpx:HTTP Request: POST https://api.openai.com/v1/embeddings \"HTTP/1.1 200 OK\"\n",
            "INFO:httpx:HTTP Request: POST https://api.openai.com/v1/embeddings \"HTTP/1.1 200 OK\"\n",
            "INFO:httpx:HTTP Request: POST https://api.openai.com/v1/embeddings \"HTTP/1.1 200 OK\"\n",
            "INFO:httpx:HTTP Request: POST https://api.cohere.com/v2/rerank \"HTTP/1.1 200 OK\"\n",
            "INFO:httpx:HTTP Request: POST https://api.openai.com/v1/chat/completions \"HTTP/1.1 200 OK\"\n",
            "INFO:langchain.retrievers.multi_query:Generated queries: [\"What genre was possibly overlooked in the list of genres for JOHN WICK, CHAPTER 3 : PARABELLUM, and in what ways does the film's style differ from other action films?\", \"What other genre could have been included in the genre list for JOHN WICK, CHAPTER 3 : PARABELLUM, and how does the film's stylistic approach set it apart from other action films?\", \"Is there a genre that the filmmakers missed when categorizing JOHN WICK, CHAPTER 3 : PARABELLUM, and how does the film's unique style differentiate it from other action films?\"]\n",
            "INFO:httpx:HTTP Request: POST https://api.openai.com/v1/embeddings \"HTTP/1.1 200 OK\"\n",
            "INFO:httpx:HTTP Request: POST https://api.openai.com/v1/embeddings \"HTTP/1.1 200 OK\"\n",
            "INFO:httpx:HTTP Request: POST https://api.openai.com/v1/embeddings \"HTTP/1.1 200 OK\"\n",
            "INFO:httpx:HTTP Request: POST https://api.openai.com/v1/chat/completions \"HTTP/1.1 200 OK\"\n"
          ]
        },
        {
          "data": {
            "text/html": [
              "<pre style=\"white-space:pre;overflow-x:auto;line-height:normal;font-family:Menlo,'DejaVu Sans Mono',consolas,'Courier New',monospace\">Generating response for: How does the involvement of Russian mobsters in John Wick's life contribute to the overall\n",
              "narrative and character development in the film?\n",
              "</pre>\n"
            ],
            "text/plain": [
              "Generating response for: How does the involvement of Russian mobsters in John Wick's life contribute to the overall\n",
              "narrative and character development in the film?\n"
            ]
          },
          "metadata": {},
          "output_type": "display_data"
        },
        {
          "name": "stderr",
          "output_type": "stream",
          "text": [
            "INFO:httpx:HTTP Request: POST https://api.openai.com/v1/embeddings \"HTTP/1.1 200 OK\"\n",
            "INFO:httpx:HTTP Request: POST https://api.openai.com/v1/embeddings \"HTTP/1.1 200 OK\"\n",
            "INFO:httpx:HTTP Request: POST https://api.openai.com/v1/embeddings \"HTTP/1.1 200 OK\"\n",
            "INFO:httpx:HTTP Request: POST https://api.cohere.com/v2/rerank \"HTTP/1.1 200 OK\"\n",
            "INFO:httpx:HTTP Request: POST https://api.openai.com/v1/chat/completions \"HTTP/1.1 200 OK\"\n",
            "INFO:langchain.retrievers.multi_query:Generated queries: [\"1. In what ways do the actions of Russian mobsters impact John Wick's story arc and character evolution throughout the movie?\", \"2. How does the presence of Russian criminals influence John Wick's journey and personality growth within the film's narrative?\", '3. What role do Russian mobsters play in shaping the storyline and character dynamics of John Wick in the movie?']\n",
            "INFO:httpx:HTTP Request: POST https://api.openai.com/v1/embeddings \"HTTP/1.1 200 OK\"\n",
            "INFO:httpx:HTTP Request: POST https://api.openai.com/v1/embeddings \"HTTP/1.1 200 OK\"\n",
            "INFO:httpx:HTTP Request: POST https://api.openai.com/v1/embeddings \"HTTP/1.1 200 OK\"\n",
            "INFO:httpx:HTTP Request: POST https://api.openai.com/v1/chat/completions \"HTTP/1.1 200 OK\"\n"
          ]
        },
        {
          "data": {
            "text/html": [
              "<pre style=\"white-space:pre;overflow-x:auto;line-height:normal;font-family:Menlo,'DejaVu Sans Mono',consolas,'Courier New',monospace\">Generating response for: What makes John Wick <span style=\"color: #008080; text-decoration-color: #008080; font-weight: bold\">3</span> stand out as an action movie compared to the original John Wick?\n",
              "</pre>\n"
            ],
            "text/plain": [
              "Generating response for: What makes John Wick \u001b[1;36m3\u001b[0m stand out as an action movie compared to the original John Wick?\n"
            ]
          },
          "metadata": {},
          "output_type": "display_data"
        },
        {
          "name": "stderr",
          "output_type": "stream",
          "text": [
            "INFO:httpx:HTTP Request: POST https://api.openai.com/v1/embeddings \"HTTP/1.1 200 OK\"\n",
            "INFO:httpx:HTTP Request: POST https://api.openai.com/v1/embeddings \"HTTP/1.1 200 OK\"\n",
            "INFO:httpx:HTTP Request: POST https://api.openai.com/v1/embeddings \"HTTP/1.1 200 OK\"\n",
            "INFO:httpx:HTTP Request: POST https://api.cohere.com/v2/rerank \"HTTP/1.1 200 OK\"\n",
            "INFO:httpx:HTTP Request: POST https://api.openai.com/v1/chat/completions \"HTTP/1.1 200 OK\"\n",
            "INFO:langchain.retrievers.multi_query:Generated queries: ['1. How does the action in John Wick 3 differentiate it from the first John Wick movie?', '2. In what ways does John Wick 3 distinguish itself as an action film when compared to the original John Wick?', '3. What are the key elements that set John Wick 3 apart from the original John Wick in terms of action sequences and storytelling?']\n",
            "INFO:httpx:HTTP Request: POST https://api.openai.com/v1/embeddings \"HTTP/1.1 200 OK\"\n",
            "INFO:httpx:HTTP Request: POST https://api.openai.com/v1/embeddings \"HTTP/1.1 200 OK\"\n",
            "INFO:httpx:HTTP Request: POST https://api.openai.com/v1/embeddings \"HTTP/1.1 200 OK\"\n",
            "INFO:httpx:HTTP Request: POST https://api.openai.com/v1/chat/completions \"HTTP/1.1 200 OK\"\n"
          ]
        },
        {
          "data": {
            "text/html": [
              "<pre style=\"white-space:pre;overflow-x:auto;line-height:normal;font-family:Menlo,'DejaVu Sans Mono',consolas,'Courier New',monospace\">Generating response for: Why is it considered a shame that Hollywood struggles with originality in action films, \n",
              "especially in the context of the John Wick franchise and the mess of the latest Keanu Reeves film?\n",
              "</pre>\n"
            ],
            "text/plain": [
              "Generating response for: Why is it considered a shame that Hollywood struggles with originality in action films, \n",
              "especially in the context of the John Wick franchise and the mess of the latest Keanu Reeves film?\n"
            ]
          },
          "metadata": {},
          "output_type": "display_data"
        },
        {
          "name": "stderr",
          "output_type": "stream",
          "text": [
            "INFO:httpx:HTTP Request: POST https://api.openai.com/v1/embeddings \"HTTP/1.1 200 OK\"\n",
            "INFO:httpx:HTTP Request: POST https://api.openai.com/v1/embeddings \"HTTP/1.1 200 OK\"\n",
            "INFO:httpx:HTTP Request: POST https://api.openai.com/v1/embeddings \"HTTP/1.1 200 OK\"\n",
            "INFO:httpx:HTTP Request: POST https://api.cohere.com/v2/rerank \"HTTP/1.1 200 OK\"\n",
            "INFO:httpx:HTTP Request: POST https://api.openai.com/v1/chat/completions \"HTTP/1.1 200 OK\"\n",
            "INFO:langchain.retrievers.multi_query:Generated queries: [\"What are the reasons behind Hollywood's difficulty with coming up with original ideas for action films, specifically when looking at the John Wick franchise and the recent Keanu Reeves movie?\", 'Why does Hollywood face criticism for its lack of originality in action movies, particularly when comparing it to the John Wick series and the recent film starring Keanu Reeves?', \"In what ways does Hollywood's struggle to innovate in action films, like the John Wick franchise and the latest Keanu Reeves film, impact its reputation in the industry?\"]\n",
            "INFO:httpx:HTTP Request: POST https://api.openai.com/v1/embeddings \"HTTP/1.1 200 OK\"\n",
            "INFO:httpx:HTTP Request: POST https://api.openai.com/v1/embeddings \"HTTP/1.1 200 OK\"\n",
            "INFO:httpx:HTTP Request: POST https://api.openai.com/v1/embeddings \"HTTP/1.1 200 OK\"\n",
            "INFO:httpx:HTTP Request: POST https://api.openai.com/v1/chat/completions \"HTTP/1.1 200 OK\"\n"
          ]
        },
        {
          "data": {
            "text/html": [
              "<pre style=\"white-space:pre;overflow-x:auto;line-height:normal;font-family:Menlo,'DejaVu Sans Mono',consolas,'Courier New',monospace\">Generating response for: What are the similarities and differences in the portrayal of Reeves' character in John \n",
              "Wick compared to typical action movie tropes?\n",
              "</pre>\n"
            ],
            "text/plain": [
              "Generating response for: What are the similarities and differences in the portrayal of Reeves' character in John \n",
              "Wick compared to typical action movie tropes?\n"
            ]
          },
          "metadata": {},
          "output_type": "display_data"
        },
        {
          "name": "stderr",
          "output_type": "stream",
          "text": [
            "INFO:httpx:HTTP Request: POST https://api.openai.com/v1/embeddings \"HTTP/1.1 200 OK\"\n",
            "INFO:httpx:HTTP Request: POST https://api.openai.com/v1/embeddings \"HTTP/1.1 200 OK\"\n",
            "INFO:httpx:HTTP Request: POST https://api.openai.com/v1/embeddings \"HTTP/1.1 200 OK\"\n",
            "INFO:httpx:HTTP Request: POST https://api.cohere.com/v2/rerank \"HTTP/1.1 200 OK\"\n",
            "INFO:httpx:HTTP Request: POST https://api.openai.com/v1/chat/completions \"HTTP/1.1 200 OK\"\n",
            "INFO:langchain.retrievers.multi_query:Generated queries: [\"How does the portrayal of Reeves' character in John Wick compare to common tropes seen in action movies?\", \"How does John Wick depict Reeves' character differently from traditional action movie stereotypes?\", \"What unique qualities does Reeves' character in John Wick possess that set him apart from typical action movie archetypes?\"]\n",
            "INFO:httpx:HTTP Request: POST https://api.openai.com/v1/embeddings \"HTTP/1.1 200 OK\"\n",
            "INFO:httpx:HTTP Request: POST https://api.openai.com/v1/embeddings \"HTTP/1.1 200 OK\"\n",
            "INFO:httpx:HTTP Request: POST https://api.openai.com/v1/embeddings \"HTTP/1.1 200 OK\"\n",
            "INFO:httpx:HTTP Request: POST https://api.openai.com/v1/chat/completions \"HTTP/1.1 200 OK\"\n"
          ]
        },
        {
          "name": "stdout",
          "output_type": "stream",
          "text": [
            "View the evaluation results for experiment: 'john-wick-rag-e5925b34' at:\n",
            "https://smith.langchain.com/o/7acbdd88-ea69-5821-8eee-b1b6853db36b/datasets/903c932e-138d-4cb4-910d-7091aa51c884/compare?selectedSessions=640c1f8e-ac21-48e0-b62f-0d387c0d7b83\n",
            "\n",
            "\n"
          ]
        },
        {
          "data": {
            "application/vnd.jupyter.widget-view+json": {
              "model_id": "67fbf8504c404b4b9177fb0940177187",
              "version_major": 2,
              "version_minor": 0
            },
            "text/plain": [
              "0it [00:00, ?it/s]"
            ]
          },
          "metadata": {},
          "output_type": "display_data"
        },
        {
          "name": "stderr",
          "output_type": "stream",
          "text": [
            "INFO:httpx:HTTP Request: POST https://api.openai.com/v1/embeddings \"HTTP/1.1 200 OK\"\n",
            "INFO:httpx:HTTP Request: POST https://api.openai.com/v1/embeddings \"HTTP/1.1 200 OK\"\n",
            "INFO:httpx:HTTP Request: POST https://api.openai.com/v1/embeddings \"HTTP/1.1 200 OK\"\n",
            "INFO:httpx:HTTP Request: POST https://api.cohere.com/v2/rerank \"HTTP/1.1 429 Too Many Requests\"\n",
            "ERROR:langsmith.evaluation._runner:Error running target function: status_code: 429, body: {'message': \"You are using a Trial key, which is limited to 10 API calls / minute. You can continue to use the Trial key for free or upgrade to a Production key with higher rate limits at 'https://dashboard.cohere.com/api-keys'. Contact us on 'https://discord.gg/XW44jPfYJu' or email us at support@cohere.com with any questions\"}\n",
            "Traceback (most recent call last):\n",
            "  File \"/Users/vprzybylo/Desktop/NG/AIE5/13_Advanced_Retrieval/.venv/lib/python3.13/site-packages/langsmith/evaluation/_runner.py\", line 1914, in _forward\n",
            "    fn(\n",
            "    ~~^\n",
            "        *args,\n",
            "        ^^^^^^\n",
            "        langsmith_extra=langsmith_extra,\n",
            "        ^^^^^^^^^^^^^^^^^^^^^^^^^^^^^^^^\n",
            "    )\n",
            "    ^\n",
            "  File \"/Users/vprzybylo/Desktop/NG/AIE5/13_Advanced_Retrieval/.venv/lib/python3.13/site-packages/langsmith/run_helpers.py\", line 629, in wrapper\n",
            "    raise e\n",
            "  File \"/Users/vprzybylo/Desktop/NG/AIE5/13_Advanced_Retrieval/.venv/lib/python3.13/site-packages/langsmith/run_helpers.py\", line 626, in wrapper\n",
            "    function_result = run_container[\"context\"].run(func, *args, **kwargs)\n",
            "  File \"/Users/vprzybylo/Desktop/NG/AIE5/13_Advanced_Retrieval/.venv/lib/python3.13/site-packages/langchain_core/runnables/base.py\", line 3022, in invoke\n",
            "    input = context.run(step.invoke, input, config, **kwargs)\n",
            "  File \"/Users/vprzybylo/Desktop/NG/AIE5/13_Advanced_Retrieval/.venv/lib/python3.13/site-packages/langchain_core/runnables/base.py\", line 3729, in invoke\n",
            "    output = {key: future.result() for key, future in zip(steps, futures)}\n",
            "                   ~~~~~~~~~~~~~^^\n",
            "  File \"/opt/homebrew/Cellar/python@3.13/3.13.2/Frameworks/Python.framework/Versions/3.13/lib/python3.13/concurrent/futures/_base.py\", line 456, in result\n",
            "    return self.__get_result()\n",
            "           ~~~~~~~~~~~~~~~~~^^\n",
            "  File \"/opt/homebrew/Cellar/python@3.13/3.13.2/Frameworks/Python.framework/Versions/3.13/lib/python3.13/concurrent/futures/_base.py\", line 401, in __get_result\n",
            "    raise self._exception\n",
            "  File \"/opt/homebrew/Cellar/python@3.13/3.13.2/Frameworks/Python.framework/Versions/3.13/lib/python3.13/concurrent/futures/thread.py\", line 59, in run\n",
            "    result = self.fn(*self.args, **self.kwargs)\n",
            "  File \"/Users/vprzybylo/Desktop/NG/AIE5/13_Advanced_Retrieval/.venv/lib/python3.13/site-packages/langchain_core/runnables/base.py\", line 3713, in _invoke_step\n",
            "    return context.run(\n",
            "           ~~~~~~~~~~~^\n",
            "        step.invoke,\n",
            "        ^^^^^^^^^^^^\n",
            "        input,\n",
            "        ^^^^^^\n",
            "        child_config,\n",
            "        ^^^^^^^^^^^^^\n",
            "    )\n",
            "    ^\n",
            "  File \"/Users/vprzybylo/Desktop/NG/AIE5/13_Advanced_Retrieval/.venv/lib/python3.13/site-packages/langchain_core/runnables/base.py\", line 3024, in invoke\n",
            "    input = context.run(step.invoke, input, config)\n",
            "  File \"/Users/vprzybylo/Desktop/NG/AIE5/13_Advanced_Retrieval/.venv/lib/python3.13/site-packages/langchain/retrievers/ensemble.py\", line 118, in invoke\n",
            "    raise e\n",
            "  File \"/Users/vprzybylo/Desktop/NG/AIE5/13_Advanced_Retrieval/.venv/lib/python3.13/site-packages/langchain/retrievers/ensemble.py\", line 115, in invoke\n",
            "    result = self.rank_fusion(input, run_manager=run_manager, config=config)\n",
            "  File \"/Users/vprzybylo/Desktop/NG/AIE5/13_Advanced_Retrieval/.venv/lib/python3.13/site-packages/langchain/retrievers/ensemble.py\", line 223, in rank_fusion\n",
            "    retriever.invoke(\n",
            "    ~~~~~~~~~~~~~~~~^\n",
            "        query,\n",
            "        ^^^^^^\n",
            "    ...<2 lines>...\n",
            "        ),\n",
            "        ^^\n",
            "    )\n",
            "    ^\n",
            "  File \"/Users/vprzybylo/Desktop/NG/AIE5/13_Advanced_Retrieval/.venv/lib/python3.13/site-packages/langchain_core/retrievers.py\", line 259, in invoke\n",
            "    result = self._get_relevant_documents(\n",
            "        input, run_manager=run_manager, **_kwargs\n",
            "    )\n",
            "  File \"/Users/vprzybylo/Desktop/NG/AIE5/13_Advanced_Retrieval/.venv/lib/python3.13/site-packages/langchain/retrievers/contextual_compression.py\", line 48, in _get_relevant_documents\n",
            "    compressed_docs = self.base_compressor.compress_documents(\n",
            "        docs, query, callbacks=run_manager.get_child()\n",
            "    )\n",
            "  File \"/Users/vprzybylo/Desktop/NG/AIE5/13_Advanced_Retrieval/.venv/lib/python3.13/site-packages/langchain_cohere/rerank.py\", line 145, in compress_documents\n",
            "    for res in self.rerank(documents, query):\n",
            "               ~~~~~~~~~~~^^^^^^^^^^^^^^^^^^\n",
            "  File \"/Users/vprzybylo/Desktop/NG/AIE5/13_Advanced_Retrieval/.venv/lib/python3.13/site-packages/langchain_cohere/rerank.py\", line 113, in rerank\n",
            "    results = self.client.rerank(\n",
            "        query=query,\n",
            "    ...<3 lines>...\n",
            "        max_tokens_per_doc=max_tokens_per_doc,\n",
            "    )\n",
            "  File \"/Users/vprzybylo/Desktop/NG/AIE5/13_Advanced_Retrieval/.venv/lib/python3.13/site-packages/cohere/v2/client.py\", line 1094, in rerank\n",
            "    raise TooManyRequestsError(\n",
            "    ...<7 lines>...\n",
            "    )\n",
            "cohere.errors.too_many_requests_error.TooManyRequestsError: status_code: 429, body: {'message': \"You are using a Trial key, which is limited to 10 API calls / minute. You can continue to use the Trial key for free or upgrade to a Production key with higher rate limits at 'https://dashboard.cohere.com/api-keys'. Contact us on 'https://discord.gg/XW44jPfYJu' or email us at support@cohere.com with any questions\"}\n",
            "INFO:httpx:HTTP Request: POST https://api.openai.com/v1/embeddings \"HTTP/1.1 200 OK\"\n",
            "INFO:httpx:HTTP Request: POST https://api.openai.com/v1/embeddings \"HTTP/1.1 200 OK\"\n",
            "INFO:httpx:HTTP Request: POST https://api.openai.com/v1/embeddings \"HTTP/1.1 200 OK\"\n",
            "INFO:httpx:HTTP Request: POST https://api.cohere.com/v2/rerank \"HTTP/1.1 429 Too Many Requests\"\n",
            "ERROR:langsmith.evaluation._runner:Error running target function: status_code: 429, body: {'message': \"You are using a Trial key, which is limited to 10 API calls / minute. You can continue to use the Trial key for free or upgrade to a Production key with higher rate limits at 'https://dashboard.cohere.com/api-keys'. Contact us on 'https://discord.gg/XW44jPfYJu' or email us at support@cohere.com with any questions\"}\n",
            "Traceback (most recent call last):\n",
            "  File \"/Users/vprzybylo/Desktop/NG/AIE5/13_Advanced_Retrieval/.venv/lib/python3.13/site-packages/langsmith/evaluation/_runner.py\", line 1914, in _forward\n",
            "    fn(\n",
            "    ~~^\n",
            "        *args,\n",
            "        ^^^^^^\n",
            "        langsmith_extra=langsmith_extra,\n",
            "        ^^^^^^^^^^^^^^^^^^^^^^^^^^^^^^^^\n",
            "    )\n",
            "    ^\n",
            "  File \"/Users/vprzybylo/Desktop/NG/AIE5/13_Advanced_Retrieval/.venv/lib/python3.13/site-packages/langsmith/run_helpers.py\", line 629, in wrapper\n",
            "    raise e\n",
            "  File \"/Users/vprzybylo/Desktop/NG/AIE5/13_Advanced_Retrieval/.venv/lib/python3.13/site-packages/langsmith/run_helpers.py\", line 626, in wrapper\n",
            "    function_result = run_container[\"context\"].run(func, *args, **kwargs)\n",
            "  File \"/Users/vprzybylo/Desktop/NG/AIE5/13_Advanced_Retrieval/.venv/lib/python3.13/site-packages/langchain_core/runnables/base.py\", line 3022, in invoke\n",
            "    input = context.run(step.invoke, input, config, **kwargs)\n",
            "  File \"/Users/vprzybylo/Desktop/NG/AIE5/13_Advanced_Retrieval/.venv/lib/python3.13/site-packages/langchain_core/runnables/base.py\", line 3729, in invoke\n",
            "    output = {key: future.result() for key, future in zip(steps, futures)}\n",
            "                   ~~~~~~~~~~~~~^^\n",
            "  File \"/opt/homebrew/Cellar/python@3.13/3.13.2/Frameworks/Python.framework/Versions/3.13/lib/python3.13/concurrent/futures/_base.py\", line 456, in result\n",
            "    return self.__get_result()\n",
            "           ~~~~~~~~~~~~~~~~~^^\n",
            "  File \"/opt/homebrew/Cellar/python@3.13/3.13.2/Frameworks/Python.framework/Versions/3.13/lib/python3.13/concurrent/futures/_base.py\", line 401, in __get_result\n",
            "    raise self._exception\n",
            "  File \"/opt/homebrew/Cellar/python@3.13/3.13.2/Frameworks/Python.framework/Versions/3.13/lib/python3.13/concurrent/futures/thread.py\", line 59, in run\n",
            "    result = self.fn(*self.args, **self.kwargs)\n",
            "  File \"/Users/vprzybylo/Desktop/NG/AIE5/13_Advanced_Retrieval/.venv/lib/python3.13/site-packages/langchain_core/runnables/base.py\", line 3713, in _invoke_step\n",
            "    return context.run(\n",
            "           ~~~~~~~~~~~^\n",
            "        step.invoke,\n",
            "        ^^^^^^^^^^^^\n",
            "        input,\n",
            "        ^^^^^^\n",
            "        child_config,\n",
            "        ^^^^^^^^^^^^^\n",
            "    )\n",
            "    ^\n",
            "  File \"/Users/vprzybylo/Desktop/NG/AIE5/13_Advanced_Retrieval/.venv/lib/python3.13/site-packages/langchain_core/runnables/base.py\", line 3024, in invoke\n",
            "    input = context.run(step.invoke, input, config)\n",
            "  File \"/Users/vprzybylo/Desktop/NG/AIE5/13_Advanced_Retrieval/.venv/lib/python3.13/site-packages/langchain/retrievers/ensemble.py\", line 118, in invoke\n",
            "    raise e\n",
            "  File \"/Users/vprzybylo/Desktop/NG/AIE5/13_Advanced_Retrieval/.venv/lib/python3.13/site-packages/langchain/retrievers/ensemble.py\", line 115, in invoke\n",
            "    result = self.rank_fusion(input, run_manager=run_manager, config=config)\n",
            "  File \"/Users/vprzybylo/Desktop/NG/AIE5/13_Advanced_Retrieval/.venv/lib/python3.13/site-packages/langchain/retrievers/ensemble.py\", line 223, in rank_fusion\n",
            "    retriever.invoke(\n",
            "    ~~~~~~~~~~~~~~~~^\n",
            "        query,\n",
            "        ^^^^^^\n",
            "    ...<2 lines>...\n",
            "        ),\n",
            "        ^^\n",
            "    )\n",
            "    ^\n",
            "  File \"/Users/vprzybylo/Desktop/NG/AIE5/13_Advanced_Retrieval/.venv/lib/python3.13/site-packages/langchain_core/retrievers.py\", line 259, in invoke\n",
            "    result = self._get_relevant_documents(\n",
            "        input, run_manager=run_manager, **_kwargs\n",
            "    )\n",
            "  File \"/Users/vprzybylo/Desktop/NG/AIE5/13_Advanced_Retrieval/.venv/lib/python3.13/site-packages/langchain/retrievers/contextual_compression.py\", line 48, in _get_relevant_documents\n",
            "    compressed_docs = self.base_compressor.compress_documents(\n",
            "        docs, query, callbacks=run_manager.get_child()\n",
            "    )\n",
            "  File \"/Users/vprzybylo/Desktop/NG/AIE5/13_Advanced_Retrieval/.venv/lib/python3.13/site-packages/langchain_cohere/rerank.py\", line 145, in compress_documents\n",
            "    for res in self.rerank(documents, query):\n",
            "               ~~~~~~~~~~~^^^^^^^^^^^^^^^^^^\n",
            "  File \"/Users/vprzybylo/Desktop/NG/AIE5/13_Advanced_Retrieval/.venv/lib/python3.13/site-packages/langchain_cohere/rerank.py\", line 113, in rerank\n",
            "    results = self.client.rerank(\n",
            "        query=query,\n",
            "    ...<3 lines>...\n",
            "        max_tokens_per_doc=max_tokens_per_doc,\n",
            "    )\n",
            "  File \"/Users/vprzybylo/Desktop/NG/AIE5/13_Advanced_Retrieval/.venv/lib/python3.13/site-packages/cohere/v2/client.py\", line 1094, in rerank\n",
            "    raise TooManyRequestsError(\n",
            "    ...<7 lines>...\n",
            "    )\n",
            "cohere.errors.too_many_requests_error.TooManyRequestsError: status_code: 429, body: {'message': \"You are using a Trial key, which is limited to 10 API calls / minute. You can continue to use the Trial key for free or upgrade to a Production key with higher rate limits at 'https://dashboard.cohere.com/api-keys'. Contact us on 'https://discord.gg/XW44jPfYJu' or email us at support@cohere.com with any questions\"}\n",
            "INFO:httpx:HTTP Request: POST https://api.openai.com/v1/embeddings \"HTTP/1.1 200 OK\"\n",
            "INFO:httpx:HTTP Request: POST https://api.openai.com/v1/embeddings \"HTTP/1.1 200 OK\"\n",
            "INFO:httpx:HTTP Request: POST https://api.openai.com/v1/embeddings \"HTTP/1.1 200 OK\"\n",
            "INFO:httpx:HTTP Request: POST https://api.cohere.com/v2/rerank \"HTTP/1.1 200 OK\"\n",
            "INFO:httpx:HTTP Request: POST https://api.openai.com/v1/chat/completions \"HTTP/1.1 200 OK\"\n",
            "INFO:langchain.retrievers.multi_query:Generated queries: ['1. How does John Wick 3 distinguish itself as an action movie when compared to the first John Wick film?', '2. In what ways does John Wick 3 set itself apart as an action film from the original John Wick movie?', '3. What unique elements does John Wick 3 bring to the table that differentiate it as an action movie from the original John Wick?']\n",
            "INFO:httpx:HTTP Request: POST https://api.openai.com/v1/embeddings \"HTTP/1.1 200 OK\"\n",
            "INFO:httpx:HTTP Request: POST https://api.openai.com/v1/embeddings \"HTTP/1.1 200 OK\"\n",
            "INFO:httpx:HTTP Request: POST https://api.openai.com/v1/embeddings \"HTTP/1.1 200 OK\"\n",
            "INFO:httpx:HTTP Request: POST https://api.openai.com/v1/chat/completions \"HTTP/1.1 200 OK\"\n",
            "INFO:httpx:HTTP Request: POST https://api.openai.com/v1/embeddings \"HTTP/1.1 200 OK\"\n",
            "INFO:httpx:HTTP Request: POST https://api.openai.com/v1/embeddings \"HTTP/1.1 200 OK\"\n",
            "INFO:httpx:HTTP Request: POST https://api.openai.com/v1/embeddings \"HTTP/1.1 200 OK\"\n",
            "INFO:httpx:HTTP Request: POST https://api.cohere.com/v2/rerank \"HTTP/1.1 429 Too Many Requests\"\n",
            "ERROR:langsmith.evaluation._runner:Error running target function: status_code: 429, body: {'message': \"You are using a Trial key, which is limited to 10 API calls / minute. You can continue to use the Trial key for free or upgrade to a Production key with higher rate limits at 'https://dashboard.cohere.com/api-keys'. Contact us on 'https://discord.gg/XW44jPfYJu' or email us at support@cohere.com with any questions\"}\n",
            "Traceback (most recent call last):\n",
            "  File \"/Users/vprzybylo/Desktop/NG/AIE5/13_Advanced_Retrieval/.venv/lib/python3.13/site-packages/langsmith/evaluation/_runner.py\", line 1914, in _forward\n",
            "    fn(\n",
            "    ~~^\n",
            "        *args,\n",
            "        ^^^^^^\n",
            "        langsmith_extra=langsmith_extra,\n",
            "        ^^^^^^^^^^^^^^^^^^^^^^^^^^^^^^^^\n",
            "    )\n",
            "    ^\n",
            "  File \"/Users/vprzybylo/Desktop/NG/AIE5/13_Advanced_Retrieval/.venv/lib/python3.13/site-packages/langsmith/run_helpers.py\", line 629, in wrapper\n",
            "    raise e\n",
            "  File \"/Users/vprzybylo/Desktop/NG/AIE5/13_Advanced_Retrieval/.venv/lib/python3.13/site-packages/langsmith/run_helpers.py\", line 626, in wrapper\n",
            "    function_result = run_container[\"context\"].run(func, *args, **kwargs)\n",
            "  File \"/Users/vprzybylo/Desktop/NG/AIE5/13_Advanced_Retrieval/.venv/lib/python3.13/site-packages/langchain_core/runnables/base.py\", line 3022, in invoke\n",
            "    input = context.run(step.invoke, input, config, **kwargs)\n",
            "  File \"/Users/vprzybylo/Desktop/NG/AIE5/13_Advanced_Retrieval/.venv/lib/python3.13/site-packages/langchain_core/runnables/base.py\", line 3729, in invoke\n",
            "    output = {key: future.result() for key, future in zip(steps, futures)}\n",
            "                   ~~~~~~~~~~~~~^^\n",
            "  File \"/opt/homebrew/Cellar/python@3.13/3.13.2/Frameworks/Python.framework/Versions/3.13/lib/python3.13/concurrent/futures/_base.py\", line 456, in result\n",
            "    return self.__get_result()\n",
            "           ~~~~~~~~~~~~~~~~~^^\n",
            "  File \"/opt/homebrew/Cellar/python@3.13/3.13.2/Frameworks/Python.framework/Versions/3.13/lib/python3.13/concurrent/futures/_base.py\", line 401, in __get_result\n",
            "    raise self._exception\n",
            "  File \"/opt/homebrew/Cellar/python@3.13/3.13.2/Frameworks/Python.framework/Versions/3.13/lib/python3.13/concurrent/futures/thread.py\", line 59, in run\n",
            "    result = self.fn(*self.args, **self.kwargs)\n",
            "  File \"/Users/vprzybylo/Desktop/NG/AIE5/13_Advanced_Retrieval/.venv/lib/python3.13/site-packages/langchain_core/runnables/base.py\", line 3713, in _invoke_step\n",
            "    return context.run(\n",
            "           ~~~~~~~~~~~^\n",
            "        step.invoke,\n",
            "        ^^^^^^^^^^^^\n",
            "        input,\n",
            "        ^^^^^^\n",
            "        child_config,\n",
            "        ^^^^^^^^^^^^^\n",
            "    )\n",
            "    ^\n",
            "  File \"/Users/vprzybylo/Desktop/NG/AIE5/13_Advanced_Retrieval/.venv/lib/python3.13/site-packages/langchain_core/runnables/base.py\", line 3024, in invoke\n",
            "    input = context.run(step.invoke, input, config)\n",
            "  File \"/Users/vprzybylo/Desktop/NG/AIE5/13_Advanced_Retrieval/.venv/lib/python3.13/site-packages/langchain/retrievers/ensemble.py\", line 118, in invoke\n",
            "    raise e\n",
            "  File \"/Users/vprzybylo/Desktop/NG/AIE5/13_Advanced_Retrieval/.venv/lib/python3.13/site-packages/langchain/retrievers/ensemble.py\", line 115, in invoke\n",
            "    result = self.rank_fusion(input, run_manager=run_manager, config=config)\n",
            "  File \"/Users/vprzybylo/Desktop/NG/AIE5/13_Advanced_Retrieval/.venv/lib/python3.13/site-packages/langchain/retrievers/ensemble.py\", line 223, in rank_fusion\n",
            "    retriever.invoke(\n",
            "    ~~~~~~~~~~~~~~~~^\n",
            "        query,\n",
            "        ^^^^^^\n",
            "    ...<2 lines>...\n",
            "        ),\n",
            "        ^^\n",
            "    )\n",
            "    ^\n",
            "  File \"/Users/vprzybylo/Desktop/NG/AIE5/13_Advanced_Retrieval/.venv/lib/python3.13/site-packages/langchain_core/retrievers.py\", line 259, in invoke\n",
            "    result = self._get_relevant_documents(\n",
            "        input, run_manager=run_manager, **_kwargs\n",
            "    )\n",
            "  File \"/Users/vprzybylo/Desktop/NG/AIE5/13_Advanced_Retrieval/.venv/lib/python3.13/site-packages/langchain/retrievers/contextual_compression.py\", line 48, in _get_relevant_documents\n",
            "    compressed_docs = self.base_compressor.compress_documents(\n",
            "        docs, query, callbacks=run_manager.get_child()\n",
            "    )\n",
            "  File \"/Users/vprzybylo/Desktop/NG/AIE5/13_Advanced_Retrieval/.venv/lib/python3.13/site-packages/langchain_cohere/rerank.py\", line 145, in compress_documents\n",
            "    for res in self.rerank(documents, query):\n",
            "               ~~~~~~~~~~~^^^^^^^^^^^^^^^^^^\n",
            "  File \"/Users/vprzybylo/Desktop/NG/AIE5/13_Advanced_Retrieval/.venv/lib/python3.13/site-packages/langchain_cohere/rerank.py\", line 113, in rerank\n",
            "    results = self.client.rerank(\n",
            "        query=query,\n",
            "    ...<3 lines>...\n",
            "        max_tokens_per_doc=max_tokens_per_doc,\n",
            "    )\n",
            "  File \"/Users/vprzybylo/Desktop/NG/AIE5/13_Advanced_Retrieval/.venv/lib/python3.13/site-packages/cohere/v2/client.py\", line 1094, in rerank\n",
            "    raise TooManyRequestsError(\n",
            "    ...<7 lines>...\n",
            "    )\n",
            "cohere.errors.too_many_requests_error.TooManyRequestsError: status_code: 429, body: {'message': \"You are using a Trial key, which is limited to 10 API calls / minute. You can continue to use the Trial key for free or upgrade to a Production key with higher rate limits at 'https://dashboard.cohere.com/api-keys'. Contact us on 'https://discord.gg/XW44jPfYJu' or email us at support@cohere.com with any questions\"}\n",
            "INFO:httpx:HTTP Request: POST https://api.openai.com/v1/embeddings \"HTTP/1.1 200 OK\"\n",
            "INFO:httpx:HTTP Request: POST https://api.openai.com/v1/embeddings \"HTTP/1.1 200 OK\"\n",
            "INFO:httpx:HTTP Request: POST https://api.openai.com/v1/embeddings \"HTTP/1.1 200 OK\"\n",
            "INFO:httpx:HTTP Request: POST https://api.cohere.com/v2/rerank \"HTTP/1.1 429 Too Many Requests\"\n",
            "ERROR:langsmith.evaluation._runner:Error running target function: status_code: 429, body: {'message': \"You are using a Trial key, which is limited to 10 API calls / minute. You can continue to use the Trial key for free or upgrade to a Production key with higher rate limits at 'https://dashboard.cohere.com/api-keys'. Contact us on 'https://discord.gg/XW44jPfYJu' or email us at support@cohere.com with any questions\"}\n",
            "Traceback (most recent call last):\n",
            "  File \"/Users/vprzybylo/Desktop/NG/AIE5/13_Advanced_Retrieval/.venv/lib/python3.13/site-packages/langsmith/evaluation/_runner.py\", line 1914, in _forward\n",
            "    fn(\n",
            "    ~~^\n",
            "        *args,\n",
            "        ^^^^^^\n",
            "        langsmith_extra=langsmith_extra,\n",
            "        ^^^^^^^^^^^^^^^^^^^^^^^^^^^^^^^^\n",
            "    )\n",
            "    ^\n",
            "  File \"/Users/vprzybylo/Desktop/NG/AIE5/13_Advanced_Retrieval/.venv/lib/python3.13/site-packages/langsmith/run_helpers.py\", line 629, in wrapper\n",
            "    raise e\n",
            "  File \"/Users/vprzybylo/Desktop/NG/AIE5/13_Advanced_Retrieval/.venv/lib/python3.13/site-packages/langsmith/run_helpers.py\", line 626, in wrapper\n",
            "    function_result = run_container[\"context\"].run(func, *args, **kwargs)\n",
            "  File \"/Users/vprzybylo/Desktop/NG/AIE5/13_Advanced_Retrieval/.venv/lib/python3.13/site-packages/langchain_core/runnables/base.py\", line 3022, in invoke\n",
            "    input = context.run(step.invoke, input, config, **kwargs)\n",
            "  File \"/Users/vprzybylo/Desktop/NG/AIE5/13_Advanced_Retrieval/.venv/lib/python3.13/site-packages/langchain_core/runnables/base.py\", line 3729, in invoke\n",
            "    output = {key: future.result() for key, future in zip(steps, futures)}\n",
            "                   ~~~~~~~~~~~~~^^\n",
            "  File \"/opt/homebrew/Cellar/python@3.13/3.13.2/Frameworks/Python.framework/Versions/3.13/lib/python3.13/concurrent/futures/_base.py\", line 456, in result\n",
            "    return self.__get_result()\n",
            "           ~~~~~~~~~~~~~~~~~^^\n",
            "  File \"/opt/homebrew/Cellar/python@3.13/3.13.2/Frameworks/Python.framework/Versions/3.13/lib/python3.13/concurrent/futures/_base.py\", line 401, in __get_result\n",
            "    raise self._exception\n",
            "  File \"/opt/homebrew/Cellar/python@3.13/3.13.2/Frameworks/Python.framework/Versions/3.13/lib/python3.13/concurrent/futures/thread.py\", line 59, in run\n",
            "    result = self.fn(*self.args, **self.kwargs)\n",
            "  File \"/Users/vprzybylo/Desktop/NG/AIE5/13_Advanced_Retrieval/.venv/lib/python3.13/site-packages/langchain_core/runnables/base.py\", line 3713, in _invoke_step\n",
            "    return context.run(\n",
            "           ~~~~~~~~~~~^\n",
            "        step.invoke,\n",
            "        ^^^^^^^^^^^^\n",
            "        input,\n",
            "        ^^^^^^\n",
            "        child_config,\n",
            "        ^^^^^^^^^^^^^\n",
            "    )\n",
            "    ^\n",
            "  File \"/Users/vprzybylo/Desktop/NG/AIE5/13_Advanced_Retrieval/.venv/lib/python3.13/site-packages/langchain_core/runnables/base.py\", line 3024, in invoke\n",
            "    input = context.run(step.invoke, input, config)\n",
            "  File \"/Users/vprzybylo/Desktop/NG/AIE5/13_Advanced_Retrieval/.venv/lib/python3.13/site-packages/langchain/retrievers/ensemble.py\", line 118, in invoke\n",
            "    raise e\n",
            "  File \"/Users/vprzybylo/Desktop/NG/AIE5/13_Advanced_Retrieval/.venv/lib/python3.13/site-packages/langchain/retrievers/ensemble.py\", line 115, in invoke\n",
            "    result = self.rank_fusion(input, run_manager=run_manager, config=config)\n",
            "  File \"/Users/vprzybylo/Desktop/NG/AIE5/13_Advanced_Retrieval/.venv/lib/python3.13/site-packages/langchain/retrievers/ensemble.py\", line 223, in rank_fusion\n",
            "    retriever.invoke(\n",
            "    ~~~~~~~~~~~~~~~~^\n",
            "        query,\n",
            "        ^^^^^^\n",
            "    ...<2 lines>...\n",
            "        ),\n",
            "        ^^\n",
            "    )\n",
            "    ^\n",
            "  File \"/Users/vprzybylo/Desktop/NG/AIE5/13_Advanced_Retrieval/.venv/lib/python3.13/site-packages/langchain_core/retrievers.py\", line 259, in invoke\n",
            "    result = self._get_relevant_documents(\n",
            "        input, run_manager=run_manager, **_kwargs\n",
            "    )\n",
            "  File \"/Users/vprzybylo/Desktop/NG/AIE5/13_Advanced_Retrieval/.venv/lib/python3.13/site-packages/langchain/retrievers/contextual_compression.py\", line 48, in _get_relevant_documents\n",
            "    compressed_docs = self.base_compressor.compress_documents(\n",
            "        docs, query, callbacks=run_manager.get_child()\n",
            "    )\n",
            "  File \"/Users/vprzybylo/Desktop/NG/AIE5/13_Advanced_Retrieval/.venv/lib/python3.13/site-packages/langchain_cohere/rerank.py\", line 145, in compress_documents\n",
            "    for res in self.rerank(documents, query):\n",
            "               ~~~~~~~~~~~^^^^^^^^^^^^^^^^^^\n",
            "  File \"/Users/vprzybylo/Desktop/NG/AIE5/13_Advanced_Retrieval/.venv/lib/python3.13/site-packages/langchain_cohere/rerank.py\", line 113, in rerank\n",
            "    results = self.client.rerank(\n",
            "        query=query,\n",
            "    ...<3 lines>...\n",
            "        max_tokens_per_doc=max_tokens_per_doc,\n",
            "    )\n",
            "  File \"/Users/vprzybylo/Desktop/NG/AIE5/13_Advanced_Retrieval/.venv/lib/python3.13/site-packages/cohere/v2/client.py\", line 1094, in rerank\n",
            "    raise TooManyRequestsError(\n",
            "    ...<7 lines>...\n",
            "    )\n",
            "cohere.errors.too_many_requests_error.TooManyRequestsError: status_code: 429, body: {'message': \"You are using a Trial key, which is limited to 10 API calls / minute. You can continue to use the Trial key for free or upgrade to a Production key with higher rate limits at 'https://dashboard.cohere.com/api-keys'. Contact us on 'https://discord.gg/XW44jPfYJu' or email us at support@cohere.com with any questions\"}\n",
            "INFO:httpx:HTTP Request: POST https://api.openai.com/v1/embeddings \"HTTP/1.1 200 OK\"\n",
            "INFO:httpx:HTTP Request: POST https://api.openai.com/v1/embeddings \"HTTP/1.1 200 OK\"\n",
            "INFO:httpx:HTTP Request: POST https://api.openai.com/v1/embeddings \"HTTP/1.1 200 OK\"\n",
            "INFO:httpx:HTTP Request: POST https://api.cohere.com/v2/rerank \"HTTP/1.1 429 Too Many Requests\"\n",
            "ERROR:langsmith.evaluation._runner:Error running target function: status_code: 429, body: {'message': \"You are using a Trial key, which is limited to 10 API calls / minute. You can continue to use the Trial key for free or upgrade to a Production key with higher rate limits at 'https://dashboard.cohere.com/api-keys'. Contact us on 'https://discord.gg/XW44jPfYJu' or email us at support@cohere.com with any questions\"}\n",
            "Traceback (most recent call last):\n",
            "  File \"/Users/vprzybylo/Desktop/NG/AIE5/13_Advanced_Retrieval/.venv/lib/python3.13/site-packages/langsmith/evaluation/_runner.py\", line 1914, in _forward\n",
            "    fn(\n",
            "    ~~^\n",
            "        *args,\n",
            "        ^^^^^^\n",
            "        langsmith_extra=langsmith_extra,\n",
            "        ^^^^^^^^^^^^^^^^^^^^^^^^^^^^^^^^\n",
            "    )\n",
            "    ^\n",
            "  File \"/Users/vprzybylo/Desktop/NG/AIE5/13_Advanced_Retrieval/.venv/lib/python3.13/site-packages/langsmith/run_helpers.py\", line 629, in wrapper\n",
            "    raise e\n",
            "  File \"/Users/vprzybylo/Desktop/NG/AIE5/13_Advanced_Retrieval/.venv/lib/python3.13/site-packages/langsmith/run_helpers.py\", line 626, in wrapper\n",
            "    function_result = run_container[\"context\"].run(func, *args, **kwargs)\n",
            "  File \"/Users/vprzybylo/Desktop/NG/AIE5/13_Advanced_Retrieval/.venv/lib/python3.13/site-packages/langchain_core/runnables/base.py\", line 3022, in invoke\n",
            "    input = context.run(step.invoke, input, config, **kwargs)\n",
            "  File \"/Users/vprzybylo/Desktop/NG/AIE5/13_Advanced_Retrieval/.venv/lib/python3.13/site-packages/langchain_core/runnables/base.py\", line 3729, in invoke\n",
            "    output = {key: future.result() for key, future in zip(steps, futures)}\n",
            "                   ~~~~~~~~~~~~~^^\n",
            "  File \"/opt/homebrew/Cellar/python@3.13/3.13.2/Frameworks/Python.framework/Versions/3.13/lib/python3.13/concurrent/futures/_base.py\", line 456, in result\n",
            "    return self.__get_result()\n",
            "           ~~~~~~~~~~~~~~~~~^^\n",
            "  File \"/opt/homebrew/Cellar/python@3.13/3.13.2/Frameworks/Python.framework/Versions/3.13/lib/python3.13/concurrent/futures/_base.py\", line 401, in __get_result\n",
            "    raise self._exception\n",
            "  File \"/opt/homebrew/Cellar/python@3.13/3.13.2/Frameworks/Python.framework/Versions/3.13/lib/python3.13/concurrent/futures/thread.py\", line 59, in run\n",
            "    result = self.fn(*self.args, **self.kwargs)\n",
            "  File \"/Users/vprzybylo/Desktop/NG/AIE5/13_Advanced_Retrieval/.venv/lib/python3.13/site-packages/langchain_core/runnables/base.py\", line 3713, in _invoke_step\n",
            "    return context.run(\n",
            "           ~~~~~~~~~~~^\n",
            "        step.invoke,\n",
            "        ^^^^^^^^^^^^\n",
            "        input,\n",
            "        ^^^^^^\n",
            "        child_config,\n",
            "        ^^^^^^^^^^^^^\n",
            "    )\n",
            "    ^\n",
            "  File \"/Users/vprzybylo/Desktop/NG/AIE5/13_Advanced_Retrieval/.venv/lib/python3.13/site-packages/langchain_core/runnables/base.py\", line 3024, in invoke\n",
            "    input = context.run(step.invoke, input, config)\n",
            "  File \"/Users/vprzybylo/Desktop/NG/AIE5/13_Advanced_Retrieval/.venv/lib/python3.13/site-packages/langchain/retrievers/ensemble.py\", line 118, in invoke\n",
            "    raise e\n",
            "  File \"/Users/vprzybylo/Desktop/NG/AIE5/13_Advanced_Retrieval/.venv/lib/python3.13/site-packages/langchain/retrievers/ensemble.py\", line 115, in invoke\n",
            "    result = self.rank_fusion(input, run_manager=run_manager, config=config)\n",
            "  File \"/Users/vprzybylo/Desktop/NG/AIE5/13_Advanced_Retrieval/.venv/lib/python3.13/site-packages/langchain/retrievers/ensemble.py\", line 223, in rank_fusion\n",
            "    retriever.invoke(\n",
            "    ~~~~~~~~~~~~~~~~^\n",
            "        query,\n",
            "        ^^^^^^\n",
            "    ...<2 lines>...\n",
            "        ),\n",
            "        ^^\n",
            "    )\n",
            "    ^\n",
            "  File \"/Users/vprzybylo/Desktop/NG/AIE5/13_Advanced_Retrieval/.venv/lib/python3.13/site-packages/langchain_core/retrievers.py\", line 259, in invoke\n",
            "    result = self._get_relevant_documents(\n",
            "        input, run_manager=run_manager, **_kwargs\n",
            "    )\n",
            "  File \"/Users/vprzybylo/Desktop/NG/AIE5/13_Advanced_Retrieval/.venv/lib/python3.13/site-packages/langchain/retrievers/contextual_compression.py\", line 48, in _get_relevant_documents\n",
            "    compressed_docs = self.base_compressor.compress_documents(\n",
            "        docs, query, callbacks=run_manager.get_child()\n",
            "    )\n",
            "  File \"/Users/vprzybylo/Desktop/NG/AIE5/13_Advanced_Retrieval/.venv/lib/python3.13/site-packages/langchain_cohere/rerank.py\", line 145, in compress_documents\n",
            "    for res in self.rerank(documents, query):\n",
            "               ~~~~~~~~~~~^^^^^^^^^^^^^^^^^^\n",
            "  File \"/Users/vprzybylo/Desktop/NG/AIE5/13_Advanced_Retrieval/.venv/lib/python3.13/site-packages/langchain_cohere/rerank.py\", line 113, in rerank\n",
            "    results = self.client.rerank(\n",
            "        query=query,\n",
            "    ...<3 lines>...\n",
            "        max_tokens_per_doc=max_tokens_per_doc,\n",
            "    )\n",
            "  File \"/Users/vprzybylo/Desktop/NG/AIE5/13_Advanced_Retrieval/.venv/lib/python3.13/site-packages/cohere/v2/client.py\", line 1094, in rerank\n",
            "    raise TooManyRequestsError(\n",
            "    ...<7 lines>...\n",
            "    )\n",
            "cohere.errors.too_many_requests_error.TooManyRequestsError: status_code: 429, body: {'message': \"You are using a Trial key, which is limited to 10 API calls / minute. You can continue to use the Trial key for free or upgrade to a Production key with higher rate limits at 'https://dashboard.cohere.com/api-keys'. Contact us on 'https://discord.gg/XW44jPfYJu' or email us at support@cohere.com with any questions\"}\n",
            "INFO:httpx:HTTP Request: POST https://api.openai.com/v1/embeddings \"HTTP/1.1 200 OK\"\n",
            "INFO:httpx:HTTP Request: POST https://api.openai.com/v1/embeddings \"HTTP/1.1 200 OK\"\n",
            "INFO:httpx:HTTP Request: POST https://api.openai.com/v1/embeddings \"HTTP/1.1 200 OK\"\n",
            "INFO:httpx:HTTP Request: POST https://api.cohere.com/v2/rerank \"HTTP/1.1 429 Too Many Requests\"\n",
            "ERROR:langsmith.evaluation._runner:Error running target function: status_code: 429, body: {'message': \"You are using a Trial key, which is limited to 10 API calls / minute. You can continue to use the Trial key for free or upgrade to a Production key with higher rate limits at 'https://dashboard.cohere.com/api-keys'. Contact us on 'https://discord.gg/XW44jPfYJu' or email us at support@cohere.com with any questions\"}\n",
            "Traceback (most recent call last):\n",
            "  File \"/Users/vprzybylo/Desktop/NG/AIE5/13_Advanced_Retrieval/.venv/lib/python3.13/site-packages/langsmith/evaluation/_runner.py\", line 1914, in _forward\n",
            "    fn(\n",
            "    ~~^\n",
            "        *args,\n",
            "        ^^^^^^\n",
            "        langsmith_extra=langsmith_extra,\n",
            "        ^^^^^^^^^^^^^^^^^^^^^^^^^^^^^^^^\n",
            "    )\n",
            "    ^\n",
            "  File \"/Users/vprzybylo/Desktop/NG/AIE5/13_Advanced_Retrieval/.venv/lib/python3.13/site-packages/langsmith/run_helpers.py\", line 629, in wrapper\n",
            "    raise e\n",
            "  File \"/Users/vprzybylo/Desktop/NG/AIE5/13_Advanced_Retrieval/.venv/lib/python3.13/site-packages/langsmith/run_helpers.py\", line 626, in wrapper\n",
            "    function_result = run_container[\"context\"].run(func, *args, **kwargs)\n",
            "  File \"/Users/vprzybylo/Desktop/NG/AIE5/13_Advanced_Retrieval/.venv/lib/python3.13/site-packages/langchain_core/runnables/base.py\", line 3022, in invoke\n",
            "    input = context.run(step.invoke, input, config, **kwargs)\n",
            "  File \"/Users/vprzybylo/Desktop/NG/AIE5/13_Advanced_Retrieval/.venv/lib/python3.13/site-packages/langchain_core/runnables/base.py\", line 3729, in invoke\n",
            "    output = {key: future.result() for key, future in zip(steps, futures)}\n",
            "                   ~~~~~~~~~~~~~^^\n",
            "  File \"/opt/homebrew/Cellar/python@3.13/3.13.2/Frameworks/Python.framework/Versions/3.13/lib/python3.13/concurrent/futures/_base.py\", line 456, in result\n",
            "    return self.__get_result()\n",
            "           ~~~~~~~~~~~~~~~~~^^\n",
            "  File \"/opt/homebrew/Cellar/python@3.13/3.13.2/Frameworks/Python.framework/Versions/3.13/lib/python3.13/concurrent/futures/_base.py\", line 401, in __get_result\n",
            "    raise self._exception\n",
            "  File \"/opt/homebrew/Cellar/python@3.13/3.13.2/Frameworks/Python.framework/Versions/3.13/lib/python3.13/concurrent/futures/thread.py\", line 59, in run\n",
            "    result = self.fn(*self.args, **self.kwargs)\n",
            "  File \"/Users/vprzybylo/Desktop/NG/AIE5/13_Advanced_Retrieval/.venv/lib/python3.13/site-packages/langchain_core/runnables/base.py\", line 3713, in _invoke_step\n",
            "    return context.run(\n",
            "           ~~~~~~~~~~~^\n",
            "        step.invoke,\n",
            "        ^^^^^^^^^^^^\n",
            "        input,\n",
            "        ^^^^^^\n",
            "        child_config,\n",
            "        ^^^^^^^^^^^^^\n",
            "    )\n",
            "    ^\n",
            "  File \"/Users/vprzybylo/Desktop/NG/AIE5/13_Advanced_Retrieval/.venv/lib/python3.13/site-packages/langchain_core/runnables/base.py\", line 3024, in invoke\n",
            "    input = context.run(step.invoke, input, config)\n",
            "  File \"/Users/vprzybylo/Desktop/NG/AIE5/13_Advanced_Retrieval/.venv/lib/python3.13/site-packages/langchain/retrievers/ensemble.py\", line 118, in invoke\n",
            "    raise e\n",
            "  File \"/Users/vprzybylo/Desktop/NG/AIE5/13_Advanced_Retrieval/.venv/lib/python3.13/site-packages/langchain/retrievers/ensemble.py\", line 115, in invoke\n",
            "    result = self.rank_fusion(input, run_manager=run_manager, config=config)\n",
            "  File \"/Users/vprzybylo/Desktop/NG/AIE5/13_Advanced_Retrieval/.venv/lib/python3.13/site-packages/langchain/retrievers/ensemble.py\", line 223, in rank_fusion\n",
            "    retriever.invoke(\n",
            "    ~~~~~~~~~~~~~~~~^\n",
            "        query,\n",
            "        ^^^^^^\n",
            "    ...<2 lines>...\n",
            "        ),\n",
            "        ^^\n",
            "    )\n",
            "    ^\n",
            "  File \"/Users/vprzybylo/Desktop/NG/AIE5/13_Advanced_Retrieval/.venv/lib/python3.13/site-packages/langchain_core/retrievers.py\", line 259, in invoke\n",
            "    result = self._get_relevant_documents(\n",
            "        input, run_manager=run_manager, **_kwargs\n",
            "    )\n",
            "  File \"/Users/vprzybylo/Desktop/NG/AIE5/13_Advanced_Retrieval/.venv/lib/python3.13/site-packages/langchain/retrievers/contextual_compression.py\", line 48, in _get_relevant_documents\n",
            "    compressed_docs = self.base_compressor.compress_documents(\n",
            "        docs, query, callbacks=run_manager.get_child()\n",
            "    )\n",
            "  File \"/Users/vprzybylo/Desktop/NG/AIE5/13_Advanced_Retrieval/.venv/lib/python3.13/site-packages/langchain_cohere/rerank.py\", line 145, in compress_documents\n",
            "    for res in self.rerank(documents, query):\n",
            "               ~~~~~~~~~~~^^^^^^^^^^^^^^^^^^\n",
            "  File \"/Users/vprzybylo/Desktop/NG/AIE5/13_Advanced_Retrieval/.venv/lib/python3.13/site-packages/langchain_cohere/rerank.py\", line 113, in rerank\n",
            "    results = self.client.rerank(\n",
            "        query=query,\n",
            "    ...<3 lines>...\n",
            "        max_tokens_per_doc=max_tokens_per_doc,\n",
            "    )\n",
            "  File \"/Users/vprzybylo/Desktop/NG/AIE5/13_Advanced_Retrieval/.venv/lib/python3.13/site-packages/cohere/v2/client.py\", line 1094, in rerank\n",
            "    raise TooManyRequestsError(\n",
            "    ...<7 lines>...\n",
            "    )\n",
            "cohere.errors.too_many_requests_error.TooManyRequestsError: status_code: 429, body: {'message': \"You are using a Trial key, which is limited to 10 API calls / minute. You can continue to use the Trial key for free or upgrade to a Production key with higher rate limits at 'https://dashboard.cohere.com/api-keys'. Contact us on 'https://discord.gg/XW44jPfYJu' or email us at support@cohere.com with any questions\"}\n",
            "INFO:httpx:HTTP Request: POST https://api.openai.com/v1/embeddings \"HTTP/1.1 200 OK\"\n",
            "INFO:httpx:HTTP Request: POST https://api.openai.com/v1/embeddings \"HTTP/1.1 200 OK\"\n",
            "INFO:httpx:HTTP Request: POST https://api.openai.com/v1/embeddings \"HTTP/1.1 200 OK\"\n",
            "INFO:httpx:HTTP Request: POST https://api.cohere.com/v2/rerank \"HTTP/1.1 429 Too Many Requests\"\n",
            "ERROR:langsmith.evaluation._runner:Error running target function: status_code: 429, body: {'message': \"You are using a Trial key, which is limited to 10 API calls / minute. You can continue to use the Trial key for free or upgrade to a Production key with higher rate limits at 'https://dashboard.cohere.com/api-keys'. Contact us on 'https://discord.gg/XW44jPfYJu' or email us at support@cohere.com with any questions\"}\n",
            "Traceback (most recent call last):\n",
            "  File \"/Users/vprzybylo/Desktop/NG/AIE5/13_Advanced_Retrieval/.venv/lib/python3.13/site-packages/langsmith/evaluation/_runner.py\", line 1914, in _forward\n",
            "    fn(\n",
            "    ~~^\n",
            "        *args,\n",
            "        ^^^^^^\n",
            "        langsmith_extra=langsmith_extra,\n",
            "        ^^^^^^^^^^^^^^^^^^^^^^^^^^^^^^^^\n",
            "    )\n",
            "    ^\n",
            "  File \"/Users/vprzybylo/Desktop/NG/AIE5/13_Advanced_Retrieval/.venv/lib/python3.13/site-packages/langsmith/run_helpers.py\", line 629, in wrapper\n",
            "    raise e\n",
            "  File \"/Users/vprzybylo/Desktop/NG/AIE5/13_Advanced_Retrieval/.venv/lib/python3.13/site-packages/langsmith/run_helpers.py\", line 626, in wrapper\n",
            "    function_result = run_container[\"context\"].run(func, *args, **kwargs)\n",
            "  File \"/Users/vprzybylo/Desktop/NG/AIE5/13_Advanced_Retrieval/.venv/lib/python3.13/site-packages/langchain_core/runnables/base.py\", line 3022, in invoke\n",
            "    input = context.run(step.invoke, input, config, **kwargs)\n",
            "  File \"/Users/vprzybylo/Desktop/NG/AIE5/13_Advanced_Retrieval/.venv/lib/python3.13/site-packages/langchain_core/runnables/base.py\", line 3729, in invoke\n",
            "    output = {key: future.result() for key, future in zip(steps, futures)}\n",
            "                   ~~~~~~~~~~~~~^^\n",
            "  File \"/opt/homebrew/Cellar/python@3.13/3.13.2/Frameworks/Python.framework/Versions/3.13/lib/python3.13/concurrent/futures/_base.py\", line 456, in result\n",
            "    return self.__get_result()\n",
            "           ~~~~~~~~~~~~~~~~~^^\n",
            "  File \"/opt/homebrew/Cellar/python@3.13/3.13.2/Frameworks/Python.framework/Versions/3.13/lib/python3.13/concurrent/futures/_base.py\", line 401, in __get_result\n",
            "    raise self._exception\n",
            "  File \"/opt/homebrew/Cellar/python@3.13/3.13.2/Frameworks/Python.framework/Versions/3.13/lib/python3.13/concurrent/futures/thread.py\", line 59, in run\n",
            "    result = self.fn(*self.args, **self.kwargs)\n",
            "  File \"/Users/vprzybylo/Desktop/NG/AIE5/13_Advanced_Retrieval/.venv/lib/python3.13/site-packages/langchain_core/runnables/base.py\", line 3713, in _invoke_step\n",
            "    return context.run(\n",
            "           ~~~~~~~~~~~^\n",
            "        step.invoke,\n",
            "        ^^^^^^^^^^^^\n",
            "        input,\n",
            "        ^^^^^^\n",
            "        child_config,\n",
            "        ^^^^^^^^^^^^^\n",
            "    )\n",
            "    ^\n",
            "  File \"/Users/vprzybylo/Desktop/NG/AIE5/13_Advanced_Retrieval/.venv/lib/python3.13/site-packages/langchain_core/runnables/base.py\", line 3024, in invoke\n",
            "    input = context.run(step.invoke, input, config)\n",
            "  File \"/Users/vprzybylo/Desktop/NG/AIE5/13_Advanced_Retrieval/.venv/lib/python3.13/site-packages/langchain/retrievers/ensemble.py\", line 118, in invoke\n",
            "    raise e\n",
            "  File \"/Users/vprzybylo/Desktop/NG/AIE5/13_Advanced_Retrieval/.venv/lib/python3.13/site-packages/langchain/retrievers/ensemble.py\", line 115, in invoke\n",
            "    result = self.rank_fusion(input, run_manager=run_manager, config=config)\n",
            "  File \"/Users/vprzybylo/Desktop/NG/AIE5/13_Advanced_Retrieval/.venv/lib/python3.13/site-packages/langchain/retrievers/ensemble.py\", line 223, in rank_fusion\n",
            "    retriever.invoke(\n",
            "    ~~~~~~~~~~~~~~~~^\n",
            "        query,\n",
            "        ^^^^^^\n",
            "    ...<2 lines>...\n",
            "        ),\n",
            "        ^^\n",
            "    )\n",
            "    ^\n",
            "  File \"/Users/vprzybylo/Desktop/NG/AIE5/13_Advanced_Retrieval/.venv/lib/python3.13/site-packages/langchain_core/retrievers.py\", line 259, in invoke\n",
            "    result = self._get_relevant_documents(\n",
            "        input, run_manager=run_manager, **_kwargs\n",
            "    )\n",
            "  File \"/Users/vprzybylo/Desktop/NG/AIE5/13_Advanced_Retrieval/.venv/lib/python3.13/site-packages/langchain/retrievers/contextual_compression.py\", line 48, in _get_relevant_documents\n",
            "    compressed_docs = self.base_compressor.compress_documents(\n",
            "        docs, query, callbacks=run_manager.get_child()\n",
            "    )\n",
            "  File \"/Users/vprzybylo/Desktop/NG/AIE5/13_Advanced_Retrieval/.venv/lib/python3.13/site-packages/langchain_cohere/rerank.py\", line 145, in compress_documents\n",
            "    for res in self.rerank(documents, query):\n",
            "               ~~~~~~~~~~~^^^^^^^^^^^^^^^^^^\n",
            "  File \"/Users/vprzybylo/Desktop/NG/AIE5/13_Advanced_Retrieval/.venv/lib/python3.13/site-packages/langchain_cohere/rerank.py\", line 113, in rerank\n",
            "    results = self.client.rerank(\n",
            "        query=query,\n",
            "    ...<3 lines>...\n",
            "        max_tokens_per_doc=max_tokens_per_doc,\n",
            "    )\n",
            "  File \"/Users/vprzybylo/Desktop/NG/AIE5/13_Advanced_Retrieval/.venv/lib/python3.13/site-packages/cohere/v2/client.py\", line 1094, in rerank\n",
            "    raise TooManyRequestsError(\n",
            "    ...<7 lines>...\n",
            "    )\n",
            "cohere.errors.too_many_requests_error.TooManyRequestsError: status_code: 429, body: {'message': \"You are using a Trial key, which is limited to 10 API calls / minute. You can continue to use the Trial key for free or upgrade to a Production key with higher rate limits at 'https://dashboard.cohere.com/api-keys'. Contact us on 'https://discord.gg/XW44jPfYJu' or email us at support@cohere.com with any questions\"}\n",
            "INFO:httpx:HTTP Request: POST https://api.openai.com/v1/embeddings \"HTTP/1.1 200 OK\"\n",
            "INFO:httpx:HTTP Request: POST https://api.openai.com/v1/embeddings \"HTTP/1.1 200 OK\"\n",
            "INFO:httpx:HTTP Request: POST https://api.openai.com/v1/embeddings \"HTTP/1.1 200 OK\"\n",
            "INFO:httpx:HTTP Request: POST https://api.cohere.com/v2/rerank \"HTTP/1.1 200 OK\"\n",
            "INFO:httpx:HTTP Request: POST https://api.openai.com/v1/chat/completions \"HTTP/1.1 200 OK\"\n",
            "INFO:langchain.retrievers.multi_query:Generated queries: ['1. How has the public received the John Wick series overall?', \"2. What are people's opinions on the John Wick franchise in general?\", '3. How has the general reception been for the John Wick series among viewers and critics alike?']\n",
            "INFO:httpx:HTTP Request: POST https://api.openai.com/v1/embeddings \"HTTP/1.1 200 OK\"\n",
            "INFO:httpx:HTTP Request: POST https://api.openai.com/v1/embeddings \"HTTP/1.1 200 OK\"\n",
            "INFO:httpx:HTTP Request: POST https://api.openai.com/v1/embeddings \"HTTP/1.1 200 OK\"\n",
            "INFO:httpx:HTTP Request: POST https://api.openai.com/v1/chat/completions \"HTTP/1.1 200 OK\"\n",
            "INFO:httpx:HTTP Request: POST https://api.openai.com/v1/embeddings \"HTTP/1.1 200 OK\"\n",
            "INFO:httpx:HTTP Request: POST https://api.openai.com/v1/embeddings \"HTTP/1.1 200 OK\"\n",
            "INFO:httpx:HTTP Request: POST https://api.openai.com/v1/embeddings \"HTTP/1.1 200 OK\"\n",
            "INFO:httpx:HTTP Request: POST https://api.cohere.com/v2/rerank \"HTTP/1.1 200 OK\"\n",
            "INFO:httpx:HTTP Request: POST https://api.openai.com/v1/chat/completions \"HTTP/1.1 200 OK\"\n",
            "INFO:langchain.retrievers.multi_query:Generated queries: ['What is the reason behind casting Keanu Reeves in the role of John Wick?', 'What factors led to the choice of Keanu Reeves for the character of John Wick?', 'How did Keanu Reeves come to be selected for the role of John Wick in the movie?']\n",
            "INFO:httpx:HTTP Request: POST https://api.openai.com/v1/embeddings \"HTTP/1.1 200 OK\"\n",
            "INFO:httpx:HTTP Request: POST https://api.openai.com/v1/embeddings \"HTTP/1.1 200 OK\"\n",
            "INFO:httpx:HTTP Request: POST https://api.openai.com/v1/embeddings \"HTTP/1.1 200 OK\"\n",
            "INFO:httpx:HTTP Request: POST https://api.openai.com/v1/chat/completions \"HTTP/1.1 200 OK\"\n",
            "INFO:__main__:Evaluating Semantic\n"
          ]
        },
        {
          "data": {
            "text/html": [
              "<pre style=\"white-space:pre;overflow-x:auto;line-height:normal;font-family:Menlo,'DejaVu Sans Mono',consolas,'Courier New',monospace\">Generating response for: Why Keanu Reeves in John Wick?\n",
              "</pre>\n"
            ],
            "text/plain": [
              "Generating response for: Why Keanu Reeves in John Wick?\n"
            ]
          },
          "metadata": {},
          "output_type": "display_data"
        },
        {
          "name": "stderr",
          "output_type": "stream",
          "text": [
            "INFO:httpx:HTTP Request: POST https://api.openai.com/v1/embeddings \"HTTP/1.1 200 OK\"\n",
            "INFO:httpx:HTTP Request: POST https://api.openai.com/v1/chat/completions \"HTTP/1.1 200 OK\"\n"
          ]
        },
        {
          "data": {
            "text/html": [
              "<pre style=\"white-space:pre;overflow-x:auto;line-height:normal;font-family:Menlo,'DejaVu Sans Mono',consolas,'Courier New',monospace\">Generating response for: What is the general reception of the John Wick series?\n",
              "</pre>\n"
            ],
            "text/plain": [
              "Generating response for: What is the general reception of the John Wick series?\n"
            ]
          },
          "metadata": {},
          "output_type": "display_data"
        },
        {
          "name": "stderr",
          "output_type": "stream",
          "text": [
            "INFO:httpx:HTTP Request: POST https://api.openai.com/v1/embeddings \"HTTP/1.1 200 OK\"\n",
            "INFO:httpx:HTTP Request: POST https://api.openai.com/v1/chat/completions \"HTTP/1.1 200 OK\"\n"
          ]
        },
        {
          "data": {
            "text/html": [
              "<pre style=\"white-space:pre;overflow-x:auto;line-height:normal;font-family:Menlo,'DejaVu Sans Mono',consolas,'Courier New',monospace\">Generating response for: What is the main plot of the movie John wick with Keanu?\n",
              "</pre>\n"
            ],
            "text/plain": [
              "Generating response for: What is the main plot of the movie John wick with Keanu?\n"
            ]
          },
          "metadata": {},
          "output_type": "display_data"
        },
        {
          "name": "stderr",
          "output_type": "stream",
          "text": [
            "INFO:httpx:HTTP Request: POST https://api.openai.com/v1/embeddings \"HTTP/1.1 200 OK\"\n",
            "INFO:httpx:HTTP Request: POST https://api.openai.com/v1/chat/completions \"HTTP/1.1 200 OK\"\n"
          ]
        },
        {
          "data": {
            "text/html": [
              "<pre style=\"white-space:pre;overflow-x:auto;line-height:normal;font-family:Menlo,'DejaVu Sans Mono',consolas,'Courier New',monospace\">Generating response for: How does Keanu Reeves' portrayal of John Wick contribute to the film's overall impact and \n",
              "character development?\n",
              "</pre>\n"
            ],
            "text/plain": [
              "Generating response for: How does Keanu Reeves' portrayal of John Wick contribute to the film's overall impact and \n",
              "character development?\n"
            ]
          },
          "metadata": {},
          "output_type": "display_data"
        },
        {
          "name": "stderr",
          "output_type": "stream",
          "text": [
            "INFO:httpx:HTTP Request: POST https://api.openai.com/v1/embeddings \"HTTP/1.1 200 OK\"\n",
            "INFO:httpx:HTTP Request: POST https://api.openai.com/v1/chat/completions \"HTTP/1.1 200 OK\"\n"
          ]
        },
        {
          "data": {
            "text/html": [
              "<pre style=\"white-space:pre;overflow-x:auto;line-height:normal;font-family:Menlo,'DejaVu Sans Mono',consolas,'Courier New',monospace\">Generating response for: How does the character of the Russian mob prince contribute to the overall narrative of \n",
              "John Wick?\n",
              "</pre>\n"
            ],
            "text/plain": [
              "Generating response for: How does the character of the Russian mob prince contribute to the overall narrative of \n",
              "John Wick?\n"
            ]
          },
          "metadata": {},
          "output_type": "display_data"
        },
        {
          "name": "stderr",
          "output_type": "stream",
          "text": [
            "INFO:httpx:HTTP Request: POST https://api.openai.com/v1/embeddings \"HTTP/1.1 200 OK\"\n",
            "INFO:httpx:HTTP Request: POST https://api.openai.com/v1/chat/completions \"HTTP/1.1 200 OK\"\n"
          ]
        },
        {
          "data": {
            "text/html": [
              "<pre style=\"white-space:pre;overflow-x:auto;line-height:normal;font-family:Menlo,'DejaVu Sans Mono',consolas,'Courier New',monospace\">Generating response for: What genre did the filmmakers forget to add to their list for JOHN WICK, CHAPTER <span style=\"color: #008080; text-decoration-color: #008080; font-weight: bold\">3</span> : \n",
              "PARABELLUM, and how does the film's style compare to other action films?\n",
              "</pre>\n"
            ],
            "text/plain": [
              "Generating response for: What genre did the filmmakers forget to add to their list for JOHN WICK, CHAPTER \u001b[1;36m3\u001b[0m : \n",
              "PARABELLUM, and how does the film's style compare to other action films?\n"
            ]
          },
          "metadata": {},
          "output_type": "display_data"
        },
        {
          "name": "stderr",
          "output_type": "stream",
          "text": [
            "INFO:httpx:HTTP Request: POST https://api.openai.com/v1/embeddings \"HTTP/1.1 200 OK\"\n",
            "INFO:httpx:HTTP Request: POST https://api.openai.com/v1/chat/completions \"HTTP/1.1 200 OK\"\n"
          ]
        },
        {
          "data": {
            "text/html": [
              "<pre style=\"white-space:pre;overflow-x:auto;line-height:normal;font-family:Menlo,'DejaVu Sans Mono',consolas,'Courier New',monospace\">Generating response for: How does the involvement of Russian mobsters in John Wick's life contribute to the overall\n",
              "narrative and character development in the film?\n",
              "</pre>\n"
            ],
            "text/plain": [
              "Generating response for: How does the involvement of Russian mobsters in John Wick's life contribute to the overall\n",
              "narrative and character development in the film?\n"
            ]
          },
          "metadata": {},
          "output_type": "display_data"
        },
        {
          "name": "stderr",
          "output_type": "stream",
          "text": [
            "INFO:httpx:HTTP Request: POST https://api.openai.com/v1/embeddings \"HTTP/1.1 200 OK\"\n",
            "INFO:httpx:HTTP Request: POST https://api.openai.com/v1/chat/completions \"HTTP/1.1 200 OK\"\n"
          ]
        },
        {
          "data": {
            "text/html": [
              "<pre style=\"white-space:pre;overflow-x:auto;line-height:normal;font-family:Menlo,'DejaVu Sans Mono',consolas,'Courier New',monospace\">Generating response for: What makes John Wick <span style=\"color: #008080; text-decoration-color: #008080; font-weight: bold\">3</span> stand out as an action movie compared to the original John Wick?\n",
              "</pre>\n"
            ],
            "text/plain": [
              "Generating response for: What makes John Wick \u001b[1;36m3\u001b[0m stand out as an action movie compared to the original John Wick?\n"
            ]
          },
          "metadata": {},
          "output_type": "display_data"
        },
        {
          "name": "stderr",
          "output_type": "stream",
          "text": [
            "INFO:httpx:HTTP Request: POST https://api.openai.com/v1/embeddings \"HTTP/1.1 200 OK\"\n",
            "INFO:httpx:HTTP Request: POST https://api.openai.com/v1/chat/completions \"HTTP/1.1 200 OK\"\n"
          ]
        },
        {
          "data": {
            "text/html": [
              "<pre style=\"white-space:pre;overflow-x:auto;line-height:normal;font-family:Menlo,'DejaVu Sans Mono',consolas,'Courier New',monospace\">Generating response for: Why is it considered a shame that Hollywood struggles with originality in action films, \n",
              "especially in the context of the John Wick franchise and the mess of the latest Keanu Reeves film?\n",
              "</pre>\n"
            ],
            "text/plain": [
              "Generating response for: Why is it considered a shame that Hollywood struggles with originality in action films, \n",
              "especially in the context of the John Wick franchise and the mess of the latest Keanu Reeves film?\n"
            ]
          },
          "metadata": {},
          "output_type": "display_data"
        },
        {
          "name": "stderr",
          "output_type": "stream",
          "text": [
            "INFO:httpx:HTTP Request: POST https://api.openai.com/v1/embeddings \"HTTP/1.1 200 OK\"\n",
            "INFO:httpx:HTTP Request: POST https://api.openai.com/v1/chat/completions \"HTTP/1.1 200 OK\"\n"
          ]
        },
        {
          "data": {
            "text/html": [
              "<pre style=\"white-space:pre;overflow-x:auto;line-height:normal;font-family:Menlo,'DejaVu Sans Mono',consolas,'Courier New',monospace\">Generating response for: What are the similarities and differences in the portrayal of Reeves' character in John \n",
              "Wick compared to typical action movie tropes?\n",
              "</pre>\n"
            ],
            "text/plain": [
              "Generating response for: What are the similarities and differences in the portrayal of Reeves' character in John \n",
              "Wick compared to typical action movie tropes?\n"
            ]
          },
          "metadata": {},
          "output_type": "display_data"
        },
        {
          "name": "stderr",
          "output_type": "stream",
          "text": [
            "INFO:httpx:HTTP Request: POST https://api.openai.com/v1/embeddings \"HTTP/1.1 200 OK\"\n",
            "INFO:httpx:HTTP Request: POST https://api.openai.com/v1/chat/completions \"HTTP/1.1 200 OK\"\n"
          ]
        },
        {
          "name": "stdout",
          "output_type": "stream",
          "text": [
            "View the evaluation results for experiment: 'john-wick-rag-7c3f750d' at:\n",
            "https://smith.langchain.com/o/7acbdd88-ea69-5821-8eee-b1b6853db36b/datasets/0dbeada5-48d4-4f96-84e2-16c5f9d8ecc1/compare?selectedSessions=9bdcae76-8812-48d1-95b7-dbdf57c5a181\n",
            "\n",
            "\n"
          ]
        },
        {
          "data": {
            "application/vnd.jupyter.widget-view+json": {
              "model_id": "ddbd95e44c264646b3bd354038ab1dbc",
              "version_major": 2,
              "version_minor": 0
            },
            "text/plain": [
              "0it [00:00, ?it/s]"
            ]
          },
          "metadata": {},
          "output_type": "display_data"
        },
        {
          "name": "stderr",
          "output_type": "stream",
          "text": [
            "INFO:httpx:HTTP Request: POST https://api.openai.com/v1/embeddings \"HTTP/1.1 200 OK\"\n",
            "INFO:httpx:HTTP Request: POST https://api.openai.com/v1/chat/completions \"HTTP/1.1 200 OK\"\n",
            "INFO:httpx:HTTP Request: POST https://api.openai.com/v1/embeddings \"HTTP/1.1 200 OK\"\n",
            "INFO:httpx:HTTP Request: POST https://api.openai.com/v1/chat/completions \"HTTP/1.1 200 OK\"\n",
            "INFO:httpx:HTTP Request: POST https://api.openai.com/v1/embeddings \"HTTP/1.1 200 OK\"\n",
            "INFO:httpx:HTTP Request: POST https://api.openai.com/v1/chat/completions \"HTTP/1.1 200 OK\"\n",
            "INFO:httpx:HTTP Request: POST https://api.openai.com/v1/embeddings \"HTTP/1.1 200 OK\"\n",
            "INFO:httpx:HTTP Request: POST https://api.openai.com/v1/chat/completions \"HTTP/1.1 200 OK\"\n",
            "INFO:httpx:HTTP Request: POST https://api.openai.com/v1/embeddings \"HTTP/1.1 200 OK\"\n",
            "INFO:httpx:HTTP Request: POST https://api.openai.com/v1/chat/completions \"HTTP/1.1 200 OK\"\n",
            "INFO:httpx:HTTP Request: POST https://api.openai.com/v1/embeddings \"HTTP/1.1 200 OK\"\n",
            "INFO:httpx:HTTP Request: POST https://api.openai.com/v1/chat/completions \"HTTP/1.1 200 OK\"\n",
            "INFO:httpx:HTTP Request: POST https://api.openai.com/v1/embeddings \"HTTP/1.1 200 OK\"\n",
            "INFO:httpx:HTTP Request: POST https://api.openai.com/v1/chat/completions \"HTTP/1.1 200 OK\"\n",
            "INFO:httpx:HTTP Request: POST https://api.openai.com/v1/embeddings \"HTTP/1.1 200 OK\"\n",
            "INFO:httpx:HTTP Request: POST https://api.openai.com/v1/chat/completions \"HTTP/1.1 200 OK\"\n",
            "INFO:httpx:HTTP Request: POST https://api.openai.com/v1/embeddings \"HTTP/1.1 200 OK\"\n",
            "INFO:httpx:HTTP Request: POST https://api.openai.com/v1/chat/completions \"HTTP/1.1 200 OK\"\n",
            "INFO:httpx:HTTP Request: POST https://api.openai.com/v1/embeddings \"HTTP/1.1 200 OK\"\n",
            "INFO:httpx:HTTP Request: POST https://api.openai.com/v1/chat/completions \"HTTP/1.1 200 OK\"\n"
          ]
        }
      ],
      "source": [
        "from langsmith.evaluation import EvaluationResult, RunEvaluator, evaluate as langsmith_evaluate\n",
        "from typing import Optional, Dict, Any\n",
        "from langchain_core.messages import HumanMessage\n",
        "\n",
        "class RetrievalRelevanceEvaluator(RunEvaluator):\n",
        "    def __init__(self):\n",
        "        self.llm = ChatOpenAI(model=\"gpt-4\", temperature=0)\n",
        "        \n",
        "        self.eval_prompt = ChatPromptTemplate.from_messages([\n",
        "            (\"system\", \"\"\"You are an expert evaluator assessing the quality and relevance of retrieved context and answers for a question-answering system. \n",
        "            \n",
        "            You will evaluate the retrieved context and answer based on the following criteria:\n",
        "            1. Context Relevance (0-5): How relevant and useful is the retrieved context for answering the question?\n",
        "            2. Answer Accuracy (0-5): How accurate and complete is the answer based on the provided context?\n",
        "            3. Context Utilization (0-5): How well does the answer utilize the relevant information from the context?\n",
        "\n",
        "            Provide your evaluation in the following format:\n",
        "            {\n",
        "                \"context_relevance\": <score>,\n",
        "                \"answer_accuracy\": <score>,\n",
        "                \"context_utilization\": <score>,\n",
        "                \"overall_score\": <average of all scores>,\n",
        "                \"reasoning\": \"<detailed explanation of scores>\"\n",
        "            }\"\"\"),\n",
        "            (\"human\", \"\"\"Question: {question}\n",
        "\n",
        "Retrieved Context:\n",
        "{context}\n",
        "\n",
        "Generated Answer:\n",
        "{answer}\n",
        "\n",
        "Evaluate the retrieval and answer quality.\"\"\")\n",
        "        ])\n",
        "\n",
        "    def evaluate_run(\n",
        "        self, run: Any, example: Optional[Dict] = None\n",
        "    ) -> EvaluationResult:\n",
        "        \"\"\"Evaluate a run.\"\"\"\n",
        "        try:\n",
        "            # Extract relevant information\n",
        "            question = run.inputs[\"question\"]\n",
        "            answer = run.outputs[\"response\"].content\n",
        "            context_docs = run.outputs[\"context\"]\n",
        "            \n",
        "            # Format context for evaluation\n",
        "            formatted_context = \"\\n\".join([doc.page_content for doc in context_docs])\n",
        "            \n",
        "            # Get evaluation from GPT-4\n",
        "            evaluation = self.llm.invoke(\n",
        "                [\n",
        "                    HumanMessage(content=self.eval_prompt.format_messages()[0].content),\n",
        "                    HumanMessage(content=self.eval_prompt.format_messages()[1].content.format(\n",
        "                        question=question,\n",
        "                        context=formatted_context,\n",
        "                        answer=answer\n",
        "                    ))\n",
        "                ]\n",
        "            )\n",
        "            \n",
        "            # Parse the evaluation results\n",
        "            results = eval(evaluation.content)\n",
        "            \n",
        "            return EvaluationResult(\n",
        "                key=\"retrieval_relevance\",\n",
        "                score=results[\"overall_score\"],\n",
        "                feedback=results[\"reasoning\"],\n",
        "                metadata={\n",
        "                    \"context_relevance\": results[\"context_relevance\"],\n",
        "                    \"answer_accuracy\": results[\"answer_accuracy\"],\n",
        "                    \"context_utilization\": results[\"context_utilization\"]\n",
        "                }\n",
        "            )\n",
        "        except Exception as e:\n",
        "            return EvaluationResult(\n",
        "                key=\"retrieval_relevance\",\n",
        "                score=0.0,\n",
        "                feedback=f\"Evaluation failed: {str(e)}\",\n",
        "            )\n",
        "\n",
        "def evaluate_with_langsmith(chain_name, dataset, chain, retrieval_relevance):\n",
        "    DATASET_NAME = f\"John Wick Movie Review RAG - {chain_name}\"\n",
        "\n",
        "    if langsmith_client.has_dataset(dataset_name=DATASET_NAME):\n",
        "        langsmith_dataset = langsmith_client.read_dataset(dataset_name=DATASET_NAME)\n",
        "    else:\n",
        "        langsmith_dataset = langsmith_client.create_dataset(\n",
        "            dataset_name=DATASET_NAME,\n",
        "            description=f\"John Wick movie review RAG with {chain_name}\"\n",
        "        )\n",
        "\n",
        "    for test_row in dataset:\n",
        "        user_input = test_row.user_input\n",
        "        print(f\"Generating response for: {user_input}\")\n",
        "        response = chain.invoke({\"question\": user_input})\n",
        "        langsmith_client.create_example(\n",
        "            inputs={\n",
        "                \"question\": user_input\n",
        "            },\n",
        "            outputs={\n",
        "                \"response\": response[\"response\"],\n",
        "                \"context\": response[\"context\"],\n",
        "            },\n",
        "            metadata={\n",
        "                \"name\": chain_name,\n",
        "            },\n",
        "            dataset_id=langsmith_dataset.id,\n",
        "        )\n",
        "\n",
        "    langsmith_evaluate(\n",
        "        chain.invoke,\n",
        "        data=DATASET_NAME,\n",
        "        evaluators=[\n",
        "            retrieval_relevance\n",
        "        ],\n",
        "        experiment_prefix=\"john-wick-rag\",\n",
        "        client=langsmith_client\n",
        "    )\n",
        "\n",
        "retrieval_relevance = RetrievalRelevanceEvaluator()\n",
        "eval_dataset = EvaluationDataset.from_pandas(dataset.to_pandas())\n",
        "for retriever, name in zip(retriever_list, retriever_str_names):\n",
        "    logger.info(f\"Evaluating {name}\")\n",
        "    evaluate_with_langsmith(name, eval_dataset, retriever, retrieval_relevance)"
      ]
    },
    {
      "cell_type": "code",
      "execution_count": 103,
      "metadata": {},
      "outputs": [
        {
          "data": {
            "image/png": "[encoded data removed]",
            "text/plain": [
              "<Figure size 1400x1000 with 1 Axes>"
            ]
          },
          "metadata": {},
          "output_type": "display_data"
        },
        {
          "data": {
            "image/png": "[encoded data removed]",
            "text/plain": [
              "<Figure size 1200x600 with 2 Axes>"
            ]
          },
          "metadata": {},
          "output_type": "display_data"
        }
      ],
      "source": [
        "import matplotlib.pyplot as plt\n",
        "import pandas as pd\n",
        "import numpy as np\n",
        "import seaborn as sns\n",
        "\n",
        "# Define the retriever names and corresponding CSV file paths\n",
        "retriever_files = {\n",
        "    \"BM25\": \"bm25.csv\",\n",
        "    \"Naive\": \"naive.csv\",\n",
        "    \"Parent Document\": \"parent_document.csv\",\n",
        "    \"Multi Query\": \"multi_query.csv\",\n",
        "    \"Ensemble\": \"ensemble.csv\"\n",
        "}\n",
        "\n",
        "# Define the evaluation metrics for each retriever\n",
        "evaluation_metrics = {\n",
        "    \"BM25\": {'context_recall': 0.8083, 'factual_correctness': 0.4710, 'answer_relevancy': 0.7645, 'context_entity_recall': 0.3566, 'noise_sensitivity_relevant': 0.1958},\n",
        "    \"Naive\": {'context_recall': 0.7667, 'factual_correctness': 0.3280, 'answer_relevancy': 0.8675, 'context_entity_recall': 0.3427, 'noise_sensitivity_relevant': 0.3095},\n",
        "    \"Parent Document\": {'context_recall': 0.3917, 'factual_correctness': 0.4040, 'answer_relevancy': 0.9584, 'context_entity_recall': 0.3540, 'noise_sensitivity_relevant': 0.1486},\n",
        "    \"Contextual Compression\": {'context_recall': 0.5500, 'factual_correctness': 0.4100, 'answer_relevancy': 0.9565, 'context_entity_recall': 0.3421, 'noise_sensitivity_relevant': 0.2416},\n",
        "    \"Multi Query\": {'context_recall': 0.7500, 'factual_correctness': 0.3580, 'answer_relevancy': 0.8623, 'context_entity_recall': 0.3676, 'noise_sensitivity_relevant': 0.3210},\n",
        "    \"Ensemble\": {'context_recall': 0.8917, 'factual_correctness': 0.4550, 'answer_relevancy': 0.9663, 'context_entity_recall': 0.3888, 'noise_sensitivity_relevant': 0.2214}\n",
        "}\n",
        "\n",
        "# Collect all evaluation metrics\n",
        "all_metrics_df = pd.DataFrame(evaluation_metrics).T.reset_index()\n",
        "all_metrics_df = all_metrics_df.rename(columns={'index': 'retriever'})\n",
        "\n",
        "# Function to try reading CSV files and handling missing latency/cost data\n",
        "def read_csv_safely(file_path):\n",
        "    try:\n",
        "        df = pd.read_csv(file_path)\n",
        "        has_latency = 'latency' in df.columns\n",
        "        has_cost = 'total_cost' in df.columns\n",
        "        \n",
        "        average_latency = df['latency'].mean() if has_latency else np.nan\n",
        "        total_cost = df['total_cost'].sum() if has_cost else np.nan\n",
        "        average_cost = df['total_cost'].mean() if has_cost else np.nan\n",
        "        \n",
        "        return {\n",
        "            \"average_latency_seconds\": round(average_latency, 2) if not np.isnan(average_latency) else np.nan,\n",
        "            \"total_cost_usd\": round(total_cost, 4) if not np.isnan(total_cost) else np.nan,\n",
        "            \"average_cost_usd\": round(average_cost, 4) if not np.isnan(average_cost) else np.nan\n",
        "        }\n",
        "    except:\n",
        "        return {\n",
        "            \"average_latency_seconds\": np.nan,\n",
        "            \"total_cost_usd\": np.nan,\n",
        "            \"average_cost_usd\": np.nan\n",
        "        }\n",
        "\n",
        "# Read the CSV files and calculate the average latency and cost\n",
        "metrics_summaries = []\n",
        "for name, file_path in retriever_files.items():\n",
        "    metrics_summary = {\"retriever\": name}\n",
        "    \n",
        "    # Add CSV-based metrics if available\n",
        "    csv_metrics = read_csv_safely(file_path)\n",
        "    metrics_summary.update(csv_metrics)\n",
        "    \n",
        "    # Add evaluation metrics\n",
        "    if name in evaluation_metrics:\n",
        "        metrics_summary.update(evaluation_metrics[name])\n",
        "    \n",
        "    metrics_summaries.append(metrics_summary)\n",
        "\n",
        "# For Contextual Compression (which doesn't have a CSV), add just the evaluation metrics\n",
        "if \"Contextual Compression\" not in retriever_files:\n",
        "    cc_metrics = {\"retriever\": \"Contextual Compression\"}\n",
        "    cc_metrics.update({\n",
        "        \"average_latency_seconds\": np.nan,\n",
        "        \"total_cost_usd\": np.nan,\n",
        "        \"average_cost_usd\": np.nan\n",
        "    })\n",
        "    if \"Contextual Compression\" in evaluation_metrics:\n",
        "        cc_metrics.update(evaluation_metrics[\"Contextual Compression\"])\n",
        "    metrics_summaries.append(cc_metrics)\n",
        "\n",
        "# Convert the metrics summaries to a DataFrame\n",
        "metrics_df = pd.DataFrame(metrics_summaries)\n",
        "\n",
        "# Create single unified visualization\n",
        "def plot_all_metrics_in_one(metrics_df):\n",
        "    # Prepare data for plotting\n",
        "    # Get only the evaluation metrics (exclude retriever, latency, and cost columns)\n",
        "    eval_metrics = [col for col in metrics_df.columns \n",
        "                   if col not in ['retriever', 'average_latency_seconds', 'total_cost_usd', 'average_cost_usd']]\n",
        "    \n",
        "    # Set up the matplotlib figure\n",
        "    plt.figure(figsize=(14, 10))\n",
        "    \n",
        "    # Define the colormap\n",
        "    colors = plt.cm.tab10(np.linspace(0, 1, len(eval_metrics)))\n",
        "    \n",
        "    # Create a bar chart for each metric\n",
        "    bar_width = 0.15\n",
        "    x = np.arange(len(metrics_df['retriever']))\n",
        "    \n",
        "    for i, metric in enumerate(eval_metrics):\n",
        "        offset = i * bar_width\n",
        "        plt.bar(x + offset, metrics_df[metric], width=bar_width, \n",
        "                label=metric.replace('_', ' ').title(), color=colors[i])\n",
        "    \n",
        "    # Add labels and title\n",
        "    plt.xlabel('Retriever', fontsize=14)\n",
        "    plt.ylabel('Score', fontsize=14)\n",
        "    plt.title('Comparison of Retriever Metrics', fontsize=16)\n",
        "    plt.xticks(x + bar_width * (len(eval_metrics) - 1) / 2, metrics_df['retriever'], rotation=45, ha='right')\n",
        "    plt.legend(loc='upper center', bbox_to_anchor=(0.5, -0.15), ncol=3)\n",
        "    \n",
        "    # Add grid lines for better readability\n",
        "    plt.grid(axis='y', linestyle='--', alpha=0.7)\n",
        "    \n",
        "    # Adjust the layout\n",
        "    plt.tight_layout()\n",
        "    plt.ylim(0, 1.0)  # Since these are mostly normalized scores\n",
        "    \n",
        "    # Add value labels on top of each bar\n",
        "    for i, metric in enumerate(eval_metrics):\n",
        "        for j, value in enumerate(metrics_df[metric]):\n",
        "            plt.text(j + i * bar_width, value + 0.02, f'{value:.2f}', \n",
        "                     ha='center', va='bottom', fontsize=8, rotation=90)\n",
        "    \n",
        "    plt.savefig('retriever_evaluation_metrics.png', bbox_inches='tight', dpi=300)\n",
        "    plt.show()\n",
        "\n",
        "# Create separate visualization for latency and cost if available\n",
        "def plot_performance_metrics(metrics_df):\n",
        "    # Check if we have any cost or latency data\n",
        "    has_cost = not metrics_df['average_cost_usd'].isna().all()\n",
        "    has_latency = not metrics_df['average_latency_seconds'].isna().all()\n",
        "    \n",
        "    if not has_cost and not has_latency:\n",
        "        print(\"No cost or latency data available to plot\")\n",
        "        return\n",
        "    \n",
        "    # Filter out rows with missing data for both metrics\n",
        "    metrics_to_plot = []\n",
        "    if has_cost:\n",
        "        metrics_to_plot.append('average_cost_usd')\n",
        "    if has_latency:\n",
        "        metrics_to_plot.append('average_latency_seconds')\n",
        "    \n",
        "    # Only keep retrievers that have at least one of the metrics\n",
        "    perf_df = metrics_df.dropna(subset=metrics_to_plot, how='all')\n",
        "    \n",
        "    if len(perf_df) == 0:\n",
        "        print(\"No complete data available for performance metrics\")\n",
        "        return\n",
        "    \n",
        "    # Set up the figure\n",
        "    fig, ax1 = plt.subplots(figsize=(12, 6))\n",
        "    \n",
        "    x = np.arange(len(perf_df['retriever']))\n",
        "    bar_width = 0.35\n",
        "    \n",
        "    # Plot the cost on the first axis if available\n",
        "    if has_cost:\n",
        "        ax1.set_xlabel('Retriever', fontsize=14)\n",
        "        ax1.set_ylabel('Cost (USD)', color='tab:blue', fontsize=14)\n",
        "        bars1 = ax1.bar(x - bar_width/2, perf_df['average_cost_usd'], \n",
        "                        bar_width, label='Avg Cost (USD)', color='tab:blue')\n",
        "        ax1.tick_params(axis='y', labelcolor='tab:blue')\n",
        "        \n",
        "        # Add value labels\n",
        "        for bar in bars1:\n",
        "            height = bar.get_height()\n",
        "            if not np.isnan(height):\n",
        "                ax1.text(bar.get_x() + bar.get_width()/2., height + 0.0001,\n",
        "                        f'${height:.4f}', ha='center', va='bottom', fontsize=10)\n",
        "    \n",
        "    # Plot the latency on the second axis if available\n",
        "    if has_latency:\n",
        "        if has_cost:\n",
        "            ax2 = ax1.twinx()\n",
        "            ax2.set_ylabel('Latency (seconds)', color='tab:red', fontsize=14)\n",
        "            bars2 = ax2.bar(x + bar_width/2, perf_df['average_latency_seconds'], \n",
        "                           bar_width, label='Avg Latency (s)', color='tab:red')\n",
        "            ax2.tick_params(axis='y', labelcolor='tab:red')\n",
        "            \n",
        "            # Add value labels\n",
        "            for bar in bars2:\n",
        "                height = bar.get_height()\n",
        "                if not np.isnan(height):\n",
        "                    ax2.text(bar.get_x() + bar.get_width()/2., height + 0.1,\n",
        "                            f'{height:.2f}s', ha='center', va='bottom', fontsize=10)\n",
        "        else:\n",
        "            ax1.set_xlabel('Retriever', fontsize=14)\n",
        "            ax1.set_ylabel('Latency (seconds)', fontsize=14)\n",
        "            bars1 = ax1.bar(x, perf_df['average_latency_seconds'], \n",
        "                           0.7, label='Avg Latency (s)', color='tab:red')\n",
        "            \n",
        "            # Add value labels\n",
        "            for bar in bars1:\n",
        "                height = bar.get_height()\n",
        "                if not np.isnan(height):\n",
        "                    ax1.text(bar.get_x() + bar.get_width()/2., height + 0.1,\n",
        "                            f'{height:.2f}s', ha='center', va='bottom', fontsize=10)\n",
        "    \n",
        "    # Set xticks\n",
        "    plt.xticks(x, perf_df['retriever'], rotation=45, ha='right')\n",
        "    \n",
        "    # Add legends\n",
        "    if has_cost and has_latency:\n",
        "        lines1, labels1 = ax1.get_legend_handles_labels()\n",
        "        lines2, labels2 = ax2.get_legend_handles_labels()\n",
        "        ax1.legend(lines1 + lines2, labels1 + labels2, loc='upper center', \n",
        "                  bbox_to_anchor=(0.5, -0.15), ncol=2)\n",
        "    else:\n",
        "        ax1.legend(loc='upper center', bbox_to_anchor=(0.5, -0.15))\n",
        "    \n",
        "    plt.title('Retriever Performance Metrics', fontsize=16)\n",
        "    plt.grid(axis='y', linestyle='--', alpha=0.3)\n",
        "    plt.tight_layout()\n",
        "    \n",
        "    plt.savefig('retriever_performance_metrics.png', bbox_inches='tight', dpi=300)\n",
        "    plt.show()\n",
        "\n",
        "# Plot all metrics as requested\n",
        "plot_all_metrics_in_one(metrics_df)\n",
        "\n",
        "# Optionally plot performance metrics (cost/latency) separately\n",
        "# Uncomment the next line if you want to see cost/latency separately\n",
        "plot_performance_metrics(metrics_df)"
      ]
    },
    {
      "cell_type": "markdown",
      "metadata": {},
      "source": [
        "### Overall Takeaways:\n",
        "- There's a trade-off between retrieval quality and computational cost across most retrievers.\n",
        "- Ensemble delivers the best overall quality but at the highest cost.\n",
        "- Parent Document offers the best cost-efficiency despite lower recall, with excellent answer relevancy and noise resistance.\n",
        "- BM25 provides a good quality-to-cost ratio as a baseline approach.\n",
        "- The best choice depends on priority: if budget is primary, Parent Document works well; if quality matters most, Ensemble is superior.\n"
      ]
    },
    {
      "cell_type": "markdown",
      "metadata": {},
      "source": []
    }
  ],
  "metadata": {
    "colab": {
      "provenance": [],
      "toc_visible": true
    },
    "kernelspec": {
      "display_name": ".venv",
      "language": "python",
      "name": "python3"
    },
    "language_info": {
      "codemirror_mode": {
        "name": "ipython",
        "version": 3
      },
      "file_extension": ".py",
      "mimetype": "text/x-python",
      "name": "python",
      "nbconvert_exporter": "python",
      "pygments_lexer": "ipython3",
      "version": "3.13.2"
    }
  },
  "nbformat": 4,
  "nbformat_minor": 0
}
